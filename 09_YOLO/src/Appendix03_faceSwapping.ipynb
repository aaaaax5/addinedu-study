{
 "cells": [
  {
   "cell_type": "markdown",
   "metadata": {},
   "source": [
    "### 0 Reference\n",
    "- [Reference1: Face Swapping (Explained In 8 Steps) – Opencv With Python](https://pysource.com/2019/05/28/face-swapping-explained-in-8-steps-opencv-with-python/)\n",
    "- Reference2: Face swapping - Opencv with Python [part 1](https://youtu.be/dK-KxuPi768?si=8xTtTMcUjfALUo1j)~6"
   ]
  },
  {
   "cell_type": "code",
   "execution_count": 9,
   "metadata": {},
   "outputs": [
    {
     "name": "stdout",
     "output_type": "stream",
     "text": [
      "\u001b[33mWARNING: Skipping cmake as it is not installed.\u001b[0m\u001b[33m\n",
      "\u001b[0m[sudo] password for jhj: \n",
      "Requirement already satisfied: dlib in /home/jhj/venv/YOLOv8_venv/lib/python3.10/site-packages (19.24.4)\n"
     ]
    }
   ],
   "source": [
    "! pip uninstall cmake\n",
    "! sudo apt-get install cmake\n",
    "! pip install dlib"
   ]
  },
  {
   "cell_type": "code",
   "execution_count": 12,
   "metadata": {},
   "outputs": [],
   "source": [
    "import cv2\n",
    "import dlib\n",
    "import numpy as np"
   ]
  },
  {
   "cell_type": "markdown",
   "metadata": {},
   "source": [
    "### 1 Take two images"
   ]
  },
  {
   "cell_type": "code",
   "execution_count": 4,
   "metadata": {},
   "outputs": [],
   "source": [
    "img = cv2.imread(\"../data/bradley_cooper.jpg\")\n",
    "img_gray = cv2.cvtColor(img, cv2.COLOR_BGR2GRAY)\n",
    "\n",
    "img2 = cv2.imread(\"../data/jim_carrey.jpg\")\n",
    "img2_gray = cv2.cvtColor(img2, cv2.COLOR_BGR2GRAY)"
   ]
  },
  {
   "cell_type": "markdown",
   "metadata": {},
   "source": [
    "### 2 Find landmark points of both images"
   ]
  },
  {
   "cell_type": "code",
   "execution_count": 10,
   "metadata": {},
   "outputs": [],
   "source": [
    "# We load Face detector and Face landmarks predictor\n",
    "detector = dlib.get_frontal_face_detector()\n",
    "predictor = dlib.shape_predictor(\"../data/shape_predictor_68_face_landmarks.dat\")\n",
    "\n",
    "# Face 1\n",
    "faces = detector(img_gray)\n",
    "for face in faces:\n",
    "    landmarks = predictor(img_gray, face)\n",
    "    landmarks_points = []\n",
    "    for n in range(0, 68):\n",
    "        x = landmarks.part(n).x\n",
    "        y = landmarks.part(n).y\n",
    "        landmarks_points.append((x, y))"
   ]
  },
  {
   "cell_type": "markdown",
   "metadata": {},
   "source": [
    "### 3 Triangulation source image (Delaunay triangulation)"
   ]
  },
  {
   "cell_type": "code",
   "execution_count": 13,
   "metadata": {},
   "outputs": [],
   "source": [
    "# Delaunay triangulation\n",
    "convexhull = cv2.convexHull(np.array(landmarks_points))\n",
    "rect = cv2.boundingRect(convexhull)\n",
    "subdiv = cv2.Subdiv2D(rect)\n",
    "subdiv.insert(landmarks_points)\n",
    "triangles = subdiv.getTriangleList()\n",
    "triangles = np.array(triangles, dtype=np.int32)"
   ]
  },
  {
   "cell_type": "markdown",
   "metadata": {},
   "source": [
    "### 4 Triangulation destination image"
   ]
  },
  {
   "cell_type": "code",
   "execution_count": 15,
   "metadata": {},
   "outputs": [
    {
     "ename": "NameError",
     "evalue": "name 'extract_index_nparray' is not defined",
     "output_type": "error",
     "traceback": [
      "\u001b[0;31m---------------------------------------------------------------------------\u001b[0m",
      "\u001b[0;31mNameError\u001b[0m                                 Traceback (most recent call last)",
      "Cell \u001b[0;32mIn[15], line 11\u001b[0m\n\u001b[1;32m      8\u001b[0m pt3 \u001b[38;5;241m=\u001b[39m (t[\u001b[38;5;241m4\u001b[39m], t[\u001b[38;5;241m5\u001b[39m])\n\u001b[1;32m     10\u001b[0m index_pt1 \u001b[38;5;241m=\u001b[39m np\u001b[38;5;241m.\u001b[39mwhere((points \u001b[38;5;241m==\u001b[39m pt1)\u001b[38;5;241m.\u001b[39mall(axis\u001b[38;5;241m=\u001b[39m\u001b[38;5;241m1\u001b[39m))\n\u001b[0;32m---> 11\u001b[0m index_pt1 \u001b[38;5;241m=\u001b[39m \u001b[43mextract_index_nparray\u001b[49m(index_pt1)\n\u001b[1;32m     12\u001b[0m index_pt2 \u001b[38;5;241m=\u001b[39m np\u001b[38;5;241m.\u001b[39mwhere((points \u001b[38;5;241m==\u001b[39m pt2)\u001b[38;5;241m.\u001b[39mall(axis\u001b[38;5;241m=\u001b[39m\u001b[38;5;241m1\u001b[39m))\n\u001b[1;32m     13\u001b[0m index_pt2 \u001b[38;5;241m=\u001b[39m extract_index_nparray(index_pt2)\n",
      "\u001b[0;31mNameError\u001b[0m: name 'extract_index_nparray' is not defined"
     ]
    }
   ],
   "source": [
    "# we get the Landmark points indexes of each triangle\n",
    "points = np.array(landmarks_points)\n",
    "\n",
    "indexes_triangles = []\n",
    "for t in triangles:\n",
    "    pt1 = (t[0], t[1])\n",
    "    pt2 = (t[2], t[3])\n",
    "    pt3 = (t[4], t[5])\n",
    "\n",
    "    index_pt1 = np.where((points == pt1).all(axis=1))\n",
    "    index_pt1 = extract_index_nparray(index_pt1)\n",
    "    index_pt2 = np.where((points == pt2).all(axis=1))\n",
    "    index_pt2 = extract_index_nparray(index_pt2)\n",
    "    index_pt3 = np.where((points == pt3).all(axis=1))\n",
    "    index_pt3 = extract_index_nparray(index_pt3)\n",
    "\n",
    "    if index_pt1 is not None and index_pt2 is not None and index_pt3 is not None:\n",
    "        triangle = [index_pt1, index_pt2, index_pt3]\n",
    "        indexes_triangles.append(triangle)"
   ]
  },
  {
   "cell_type": "markdown",
   "metadata": {},
   "source": [
    "### 5 Extract and warp triangles"
   ]
  },
  {
   "cell_type": "code",
   "execution_count": null,
   "metadata": {},
   "outputs": [],
   "source": [
    "# Warp triangles\n",
    "points = np.float32(points)\n",
    "points2 = np.float32(points2)\n",
    "M = cv2.getAffineTransform(points, points2)\n",
    "warped_triangle = cv2.warpAffine(cropped_triangle, M, (w, h))\n",
    "warped_triangle = cv2.bitwise_and(warped_triangle, warped_triangle, mask=cropped_tr2_mask)"
   ]
  },
  {
   "cell_type": "markdown",
   "metadata": {},
   "source": [
    "### 6 Link the warped triangles together"
   ]
  },
  {
   "cell_type": "code",
   "execution_count": 16,
   "metadata": {},
   "outputs": [
    {
     "ename": "IndentationError",
     "evalue": "unexpected indent (273261761.py, line 11)",
     "output_type": "error",
     "traceback": [
      "\u001b[0;36m  Cell \u001b[0;32mIn[16], line 11\u001b[0;36m\u001b[0m\n\u001b[0;31m    img2_new_face[y: y + h, x: x + w] = img2_new_face_rect_area\u001b[0m\n\u001b[0m    ^\u001b[0m\n\u001b[0;31mIndentationError\u001b[0m\u001b[0;31m:\u001b[0m unexpected indent\n"
     ]
    }
   ],
   "source": [
    "# Reconstructing destination face\n",
    "img2_new_face = np.zeros((1155, 849, 3), np.uint8)\n",
    "img2_new_face_rect_area = img2_new_face[y: y + h, x: x + w]\n",
    "img2_new_face_rect_area_gray = cv2.cvtColor(img2_new_face_rect_area, cv2.COLOR_BGR2GRAY)\n",
    "\n",
    "# Let's create a mask to remove the lines between the triangles\n",
    "_, mask_triangles_designed = cv2.threshold(img2_new_face_rect_area_gray, 1, 255, cv2.THRESH_BINARY_INV)\n",
    "warped_triangle = cv2.bitwise_and(warped_triangle, warped_triangle, mask=mask_triangles_designed)\n",
    "\n",
    "img2_new_face_rect_area = cv2.add(img2_new_face_rect_area, warped_triangle)\n",
    "    img2_new_face[y: y + h, x: x + w] = img2_new_face_rect_area"
   ]
  },
  {
   "cell_type": "markdown",
   "metadata": {},
   "source": [
    "### 7 Replace the face on the destination image"
   ]
  },
  {
   "cell_type": "code",
   "execution_count": null,
   "metadata": {},
   "outputs": [],
   "source": [
    "# Face swapped (putting 1st face into 2nd face)\n",
    "img2_face_mask = np.zeros_like(img2_gray)\n",
    "img2_head_mask = cv2.fillConvexPoly(img2_face_mask, convexhull2, 255)\n",
    "img2_face_mask = cv2.bitwise_not(img2_head_mask)\n",
    "\n",
    "img2_head_noface = cv2.bitwise_and(img2, img2, mask=img2_face_mask)\n",
    "result = cv2.add(img2_head_noface, img2_new_face)"
   ]
  },
  {
   "cell_type": "markdown",
   "metadata": {},
   "source": [
    "### 8 Seamless Cloning"
   ]
  },
  {
   "cell_type": "code",
   "execution_count": null,
   "metadata": {},
   "outputs": [],
   "source": [
    "(x, y, w, h) = cv2.boundingRect(convexhull2)\n",
    "center_face2 = (int((x + x + w) / 2), int((y + y + h) / 2))\n",
    "\n",
    "seamlessclone = cv2.seamlessClone(result, img2, img2_head_mask, center_face2, cv2.MIXED_CLONE)"
   ]
  }
 ],
 "metadata": {
  "kernelspec": {
   "display_name": "YOLOv8_venv",
   "language": "python",
   "name": "python3"
  },
  "language_info": {
   "codemirror_mode": {
    "name": "ipython",
    "version": 3
   },
   "file_extension": ".py",
   "mimetype": "text/x-python",
   "name": "python",
   "nbconvert_exporter": "python",
   "pygments_lexer": "ipython3",
   "version": "3.10.12"
  }
 },
 "nbformat": 4,
 "nbformat_minor": 2
}
