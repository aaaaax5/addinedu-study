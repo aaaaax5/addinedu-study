{
 "cells": [
  {
   "cell_type": "markdown",
   "metadata": {},
   "source": [
    "데이터 개수 확인"
   ]
  },
  {
   "cell_type": "code",
   "execution_count": 6,
   "metadata": {},
   "outputs": [
    {
     "name": "stdout",
     "output_type": "stream",
     "text": [
      "폴더 내 데이터 개수: 400\n"
     ]
    }
   ],
   "source": [
    "import os\n",
    "\n",
    "def count_files_in_directory(directory):\n",
    "    total_files = 0\n",
    "    for root, dirs, files in os.walk(directory):\n",
    "        total_files += len(files)\n",
    "    return total_files\n",
    "\n",
    "directory_path = \"/home/addinedu/dev_ws/data/handwritten_dataset/train/x\"\n",
    "total_files = count_files_in_directory(directory_path)\n",
    "print(\"폴더 내 데이터 개수:\", total_files)\n"
   ]
  },
  {
   "cell_type": "markdown",
   "metadata": {},
   "source": [
    "리사이즈"
   ]
  },
  {
   "cell_type": "code",
   "execution_count": 15,
   "metadata": {},
   "outputs": [],
   "source": [
    "import os\n",
    "import cv2\n",
    "\n",
    "# 원본 이미지가 있는 폴더 경로\n",
    "source_folder = \"/home/addinedu/dev_ws/data/X\"\n",
    "\n",
    "# 새로운 폴더 경로\n",
    "destination_folder = \"/home/addinedu/dev_ws/data/new_0\"\n",
    "\n",
    "# 새로운 폴더가 없다면 생성\n",
    "if not os.path.exists(destination_folder):\n",
    "    os.makedirs(destination_folder)\n",
    "\n",
    "# 폴더 내의 모든 파일 목록 가져오기\n",
    "file_list = os.listdir(source_folder)\n",
    "\n",
    "# 모든 파일에 대해 작업 수행\n",
    "for file_name in file_list:\n",
    "    # 파일의 전체 경로 구성\n",
    "    source_file_path = os.path.join(source_folder, file_name)\n",
    "    \n",
    "    # 이미지 로드\n",
    "    image = cv2.imread(source_file_path)\n",
    "    \n",
    "    # 이미지가 None이 아니라면 (올바르게 로드되었다면)\n",
    "    if image is not None:\n",
    "        # 이미지를 32x32 픽셀로 리사이즈\n",
    "        resized_image = cv2.resize(image, (32, 32))\n",
    "        \n",
    "        # 새로운 파일 경로 구성\n",
    "        destination_file_path = os.path.join(destination_folder, file_name)\n",
    "        \n",
    "        # 리사이즈된 이미지를 새로운 폴더에 저장\n",
    "        cv2.imwrite(destination_file_path, resized_image)\n"
   ]
  },
  {
   "cell_type": "markdown",
   "metadata": {},
   "source": [
    "+-15 회전시켜서 데이터 증강\n"
   ]
  },
  {
   "cell_type": "code",
   "execution_count": 23,
   "metadata": {},
   "outputs": [
    {
     "name": "stdout",
     "output_type": "stream",
     "text": [
      "이미지 회전 및 저장이 완료되었습니다.\n"
     ]
    }
   ],
   "source": [
    "import cv2\n",
    "import os\n",
    "\n",
    "# 입력 이미지 폴더 경로\n",
    "input_directory = \"/home/addinedu/dev_ws/data/handwritten_dataset/train/x\"\n",
    "# 출력 이미지 폴더 경로\n",
    "output_directory = \"/home/addinedu/dev_ws/data/handwritten_dataset/train/x_new_train1000\"\n",
    "# 이미지 확장자\n",
    "image_extension = \".jpg\"\n",
    "\n",
    "# 이미지 회전 각도 범위\n",
    "rotation_angles = range(-15, 16)\n",
    "\n",
    "# 입력 이미지 폴더가 없다면 생성\n",
    "if not os.path.exists(output_directory):\n",
    "    os.makedirs(output_directory)\n",
    "\n",
    "# 입력 폴더 내의 이미지 파일들에 대해 반복\n",
    "for filename in os.listdir(input_directory):\n",
    "    if filename.endswith(image_extension):\n",
    "        # 이미지 파일 경로\n",
    "        image_path = os.path.join(input_directory, filename)\n",
    "        # 이미지 로드\n",
    "        image = cv2.imread(image_path)\n",
    "        # 이미지 회전 및 저장\n",
    "        for angle in rotation_angles:\n",
    "            # 회전 변환 매트릭스 계산\n",
    "            rotation_matrix = cv2.getRotationMatrix2D((image.shape[1] / 2, image.shape[0] / 2), angle, 1)\n",
    "            # 이미지 회전\n",
    "            rotated_image = cv2.warpAffine(image, rotation_matrix, (image.shape[1], image.shape[0]))\n",
    "            # 새로운 파일명 생성\n",
    "            output_filename = os.path.splitext(filename)[0] + \"_rotated_\" + str(angle) + image_extension\n",
    "            # 새로운 파일 경로\n",
    "            output_path = os.path.join(output_directory, output_filename)\n",
    "            # 이미지 저장\n",
    "            cv2.imwrite(output_path, rotated_image)\n",
    "\n",
    "print(\"이미지 회전 및 저장이 완료되었습니다.\")\n"
   ]
  },
  {
   "cell_type": "markdown",
   "metadata": {},
   "source": [
    "지정영역 제외하고 흰색으로 만들기"
   ]
  },
  {
   "cell_type": "code",
   "execution_count": 26,
   "metadata": {},
   "outputs": [
    {
     "name": "stdout",
     "output_type": "stream",
     "text": [
      "이미지 처리가 완료되었습니다.\n"
     ]
    }
   ],
   "source": [
    "import cv2\n",
    "import os\n",
    "import numpy as np\n",
    "\n",
    "# 입력 이미지 폴더 경로\n",
    "input_directory = \"/home/addinedu/dev_ws/data/handwritten_dataset/train/x_new_train1000\"\n",
    "# 출력 이미지 폴더 경로\n",
    "output_directory = \"/home/addinedu/dev_ws/data/handwritten_dataset/train/a_x_new_train1000\"\n",
    "# 제외할 영역의 좌상단과 우하단 좌표\n",
    "exclude_area = [(5, 5), (25, 25)]  # (x1, y1), (x2, y2)\n",
    "\n",
    "# 입력 이미지 폴더가 없다면 생성\n",
    "if not os.path.exists(output_directory):\n",
    "    os.makedirs(output_directory)\n",
    "\n",
    "# 입력 폴더 내의 이미지 파일들에 대해 반복\n",
    "for filename in os.listdir(input_directory):\n",
    "    # 이미지 파일 경로\n",
    "    image_path = os.path.join(input_directory, filename)\n",
    "    # 이미지 로드\n",
    "    image = cv2.imread(image_path)\n",
    "    # 이미지 크기\n",
    "    height, width, _ = image.shape\n",
    "    # 제외할 영역에 대한 마스크 생성\n",
    "    mask = np.zeros((height, width), dtype=np.uint8)\n",
    "    cv2.rectangle(mask, exclude_area[0], exclude_area[1], (255), thickness=cv2.FILLED)\n",
    "    # 이미지를 흰색으로 채우되, 제외 영역은 원본 유지\n",
    "    result = np.where(mask[:, :, None] == 255, image, 255)\n",
    "    # 출력 이미지 경로\n",
    "    output_path = os.path.join(output_directory, filename)\n",
    "    # 이미지 저장\n",
    "    cv2.imwrite(output_path, result)\n",
    "\n",
    "print(\"이미지 처리가 완료되었습니다.\")\n"
   ]
  },
  {
   "cell_type": "markdown",
   "metadata": {},
   "source": [
    "데이터 라벨링 후 .csv로 저장"
   ]
  },
  {
   "cell_type": "code",
   "execution_count": 8,
   "metadata": {},
   "outputs": [
    {
     "name": "stdout",
     "output_type": "stream",
     "text": [
      "라벨링이 완료되었습니다. 라벨링된 데이터는 /home/addinedu/dev_ws/data/images.cv_cda9n6fio287zp8fuwsivo/data/new_train1000.csv 에 저장되었습니다.\n"
     ]
    }
   ],
   "source": [
    "import os\n",
    "import pandas as pd\n",
    "\n",
    "# 이미지 폴더 경로\n",
    "image_folder = \"/home/addinedu/dev_ws/data/images.cv_cda9n6fio287zp8fuwsivo/data/new_train1000\"\n",
    "# 라벨\n",
    "label = \"0\"\n",
    "\n",
    "# 이미지 파일 목록\n",
    "image_files = os.listdir(image_folder)\n",
    "\n",
    "# 빈 리스트 생성\n",
    "data = []\n",
    "\n",
    "# 이미지 파일에 대해 반복하면서 라벨링\n",
    "for image_file in image_files:\n",
    "    # 이미지 파일 경로\n",
    "    image_path = os.path.join(image_folder, image_file)\n",
    "    # 이미지 파일 경로와 라벨을 튜플로 묶어 리스트에 추가\n",
    "    data.append((image_path, label))\n",
    "\n",
    "# 리스트를 데이터프레임으로 변환\n",
    "df = pd.DataFrame(data, columns=[\"Image_Path\", \"Label\"])\n",
    "\n",
    "# 라벨링된 데이터를 CSV 파일로 저장\n",
    "output_csv_path = \"/home/addinedu/dev_ws/data/images.cv_cda9n6fio287zp8fuwsivo/data/new_train1000.csv\"\n",
    "df.to_csv(output_csv_path, index=False)\n",
    "\n",
    "print(\"라벨링이 완료되었습니다. 라벨링된 데이터는\", output_csv_path, \"에 저장되었습니다.\")\n"
   ]
  },
  {
   "cell_type": "markdown",
   "metadata": {},
   "source": [
    "라벨링2"
   ]
  },
  {
   "cell_type": "code",
   "execution_count": 4,
   "metadata": {},
   "outputs": [
    {
     "name": "stdout",
     "output_type": "stream",
     "text": [
      "라벨링된 데이터가 CSV 파일로 저장되었습니다: /home/addinedu/dev_ws/data/ox_images/train_labels.csv\n"
     ]
    }
   ],
   "source": [
    "import os\n",
    "import pandas as pd\n",
    "\n",
    "# 이미지 파일이 있는 폴더 경로\n",
    "image_folder = \"/home/addinedu/dev_ws/data/ox_images/test\"\n",
    "\n",
    "# 이미지 파일 목록\n",
    "image_files = os.listdir(image_folder)\n",
    "\n",
    "# 라벨과 이미지 파일명을 저장할 리스트\n",
    "labels = []\n",
    "file_names = []\n",
    "\n",
    "# 각 이미지 파일의 첫 글자를 라벨로 하여 저장\n",
    "for image_file in image_files:\n",
    "    label = image_file[0]  # 파일명의 첫 글자를 라벨로 설정\n",
    "    labels.append(label)\n",
    "    file_names.append(image_file)\n",
    "\n",
    "# 데이터프레임 생성\n",
    "data = pd.DataFrame({\"File_Name\": file_names, \"Label\": labels})\n",
    "\n",
    "# CSV 파일로 저장\n",
    "output_csv_path = \"/home/addinedu/dev_ws/data/ox_images/test_labels.csv\"\n",
    "data.to_csv(output_csv_path, index=False)\n",
    "\n",
    "print(\"라벨링된 데이터가 CSV 파일로 저장되었습니다:\", output_csv_path)\n"
   ]
  },
  {
   "cell_type": "markdown",
   "metadata": {},
   "source": [
    "라벨링3"
   ]
  },
  {
   "cell_type": "code",
   "execution_count": 2,
   "metadata": {},
   "outputs": [
    {
     "name": "stdout",
     "output_type": "stream",
     "text": [
      "라벨링된 데이터가 CSV 파일로 저장되었습니다: /home/addinedu/dev_ws/data/ox_images/test_labels.csv\n"
     ]
    }
   ],
   "source": [
    "import os\n",
    "import pandas as pd\n",
    "\n",
    "# 이미지 파일이 있는 폴더 경로\n",
    "image_folder = \"/home/addinedu/dev_ws/data/ox_images/test\"\n",
    "\n",
    "# 이미지 파일 목록\n",
    "image_files = os.listdir(image_folder)\n",
    "\n",
    "# 라벨과 이미지 파일명을 저장할 리스트\n",
    "labels = []\n",
    "file_names = []\n",
    "\n",
    "# 각 이미지 파일의 첫 글자를 라벨로 하여 저장\n",
    "for image_file in image_files:\n",
    "    label = 0 if image_file[0] == 'O' else 1\n",
    "    labels.append(label)\n",
    "    file_names.append(image_file)\n",
    "\n",
    "# 데이터프레임 생성\n",
    "data = pd.DataFrame({\"File_Name\": file_names, \"Label\": labels})\n",
    "\n",
    "# CSV 파일로 저장\n",
    "output_csv_path = \"/home/addinedu/dev_ws/data/ox_images/test_labels.csv\"\n",
    "data.to_csv(output_csv_path, index=False)\n",
    "\n",
    "print(\"라벨링된 데이터가 CSV 파일로 저장되었습니다:\", output_csv_path)\n"
   ]
  },
  {
   "cell_type": "markdown",
   "metadata": {},
   "source": [
    "라벨링확인2\n"
   ]
  },
  {
   "cell_type": "code",
   "execution_count": 6,
   "metadata": {},
   "outputs": [],
   "source": [
    "import os\n",
    "import cv2\n",
    "import random\n",
    "import pandas as pd\n",
    "\n",
    "# 이미지 파일이 있는 폴더 경로\n",
    "image_folder = \"/home/addinedu/dev_ws/data/ox_images/train\"\n",
    "# 라벨 CSV 파일 경로\n",
    "label_csv_path = \"/home/addinedu/dev_ws/data/ox_images/train_labels.csv\"\n",
    "\n",
    "# 라벨 CSV 파일 로드\n",
    "label_df = pd.read_csv(label_csv_path)\n",
    "\n",
    "# 이미지 파일 목록\n",
    "image_files = os.listdir(image_folder)\n",
    "\n",
    "# 이미지와 라벨을 랜덤으로 선택\n",
    "random_index = random.randint(0, len(image_files) - 1)\n",
    "image_file = image_files[random_index]\n",
    "label = label_df.loc[label_df['File_Name'] == image_file, 'Label'].iloc[0]\n",
    "\n",
    "# 이미지 로드\n",
    "image_path = os.path.join(image_folder, image_file)\n",
    "image = cv2.imread(image_path)\n",
    "\n",
    "# 이미지와 라벨을 함께 표시\n",
    "cv2.putText(image, label, (20, 40), cv2.FONT_HERSHEY_SIMPLEX, 1, (0, 255, 0), 2)\n",
    "cv2.imshow(\"Image with Label\", image)\n",
    "cv2.waitKey(0)\n",
    "cv2.destroyAllWindows()\n"
   ]
  },
  {
   "cell_type": "markdown",
   "metadata": {},
   "source": [
    "라벨링 확인"
   ]
  },
  {
   "cell_type": "code",
   "execution_count": 1,
   "metadata": {},
   "outputs": [
    {
     "name": "stdout",
     "output_type": "stream",
     "text": [
      "   File_Name Label\n",
      "0  x_311.jpg     x\n",
      "1   O_76.jpg     O\n",
      "2  x_131.jpg     x\n",
      "3  O_248.jpg     O\n",
      "4  x_120.jpg     x\n"
     ]
    }
   ],
   "source": [
    "import pandas as pd\n",
    "\n",
    "# 라벨링된 CSV 파일 경로\n",
    "csv_file_path = \"/home/addinedu/dev_ws/data/ox_images/train_labels.csv\"\n",
    "\n",
    "# CSV 파일 로드\n",
    "df = pd.read_csv(csv_file_path)\n",
    "\n",
    "# 데이터프레임 출력\n",
    "print(df.head())\n"
   ]
  }
 ],
 "metadata": {
  "kernelspec": {
   "display_name": "opencv2_venv",
   "language": "python",
   "name": "python3"
  },
  "language_info": {
   "codemirror_mode": {
    "name": "ipython",
    "version": 3
   },
   "file_extension": ".py",
   "mimetype": "text/x-python",
   "name": "python",
   "nbconvert_exporter": "python",
   "pygments_lexer": "ipython3",
   "version": "3.10.12"
  }
 },
 "nbformat": 4,
 "nbformat_minor": 2
}
