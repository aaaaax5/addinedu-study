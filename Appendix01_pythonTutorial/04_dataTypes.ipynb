{
 "cells": [
  {
   "cell_type": "markdown",
   "metadata": {},
   "source": [
    "## 04_Data Types"
   ]
  },
  {
   "cell_type": "markdown",
   "metadata": {},
   "source": [
    "### 04.01_Built-in Data Types"
   ]
  },
  {
   "cell_type": "markdown",
   "metadata": {},
   "source": [
    "In programming, data type is an important concept.  \n",
    "\n",
    "Variables can store data of different types, and different types can do different things.  \n",
    "\n",
    "Python has the following data types built-in by default, in these categories:  \n",
    "\n",
    "Text Type:\t`str`  \n",
    "\n",
    "Numeric Types:\t`int`, `float`, `complex`  \n",
    "\n",
    "Sequence Types:\t`list`, `tuple`, `range`  \n",
    "\n",
    "Mapping Type:\t`dict`  \n",
    "\n",
    "Set Types:\tset, `frozenset`  \n",
    "\n",
    "Boolean Type:\t`bool`  \n",
    "\n",
    "Binary Types:\t`bytes`, `bytearray`, `memoryview`  \n",
    "\n",
    "None Type:\t`NoneType`  "
   ]
  },
  {
   "cell_type": "markdown",
   "metadata": {},
   "source": [
    "### 04.02_Getting the Data Type"
   ]
  },
  {
   "cell_type": "markdown",
   "metadata": {},
   "source": [
    "You can get the data type of any object by using the `type()` function:"
   ]
  },
  {
   "cell_type": "code",
   "execution_count": 1,
   "metadata": {},
   "outputs": [
    {
     "name": "stdout",
     "output_type": "stream",
     "text": [
      "<class 'int'>\n"
     ]
    }
   ],
   "source": [
    "x = 5\n",
    "print(type(x))"
   ]
  },
  {
   "cell_type": "code",
   "execution_count": 4,
   "metadata": {},
   "outputs": [
    {
     "name": "stdout",
     "output_type": "stream",
     "text": [
      "<class 'str'>\n",
      "<class 'int'>\n",
      "<class 'float'>\n",
      "<class 'complex'>\n",
      "<class 'list'>\n"
     ]
    }
   ],
   "source": [
    "x = \"Hello World\"\n",
    "print(type(x))\n",
    "x = 20\n",
    "print(type(x))\n",
    "x = 20.5\n",
    "print(type(x))\n",
    "x = 1j\t\n",
    "print(type(x))\n",
    "x = [\"apple\", \"banana\", \"cherry\"]\t\n",
    "print(type(x))"
   ]
  },
  {
   "cell_type": "code",
   "execution_count": 5,
   "metadata": {},
   "outputs": [
    {
     "name": "stdout",
     "output_type": "stream",
     "text": [
      "<class 'tuple'>\n",
      "<class 'range'>\n",
      "<class 'dict'>\n",
      "<class 'set'>\n",
      "<class 'frozenset'>\n"
     ]
    }
   ],
   "source": [
    "x = (\"apple\", \"banana\", \"cherry\")\n",
    "print(type(x))\n",
    "x = range(6)\t\n",
    "print(type(x))\n",
    "x = {\"name\" : \"John\", \"age\" : 36}\t\n",
    "print(type(x))\n",
    "x = {\"apple\", \"banana\", \"cherry\"}\n",
    "print(type(x))\n",
    "x = frozenset({\"apple\", \"banana\", \"cherry\"})\n",
    "print(type(x))\t"
   ]
  },
  {
   "cell_type": "code",
   "execution_count": 6,
   "metadata": {},
   "outputs": [
    {
     "name": "stdout",
     "output_type": "stream",
     "text": [
      "<class 'bool'>\n",
      "<class 'bytes'>\n",
      "<class 'bytearray'>\n",
      "<class 'memoryview'>\n",
      "<class 'NoneType'>\n"
     ]
    }
   ],
   "source": [
    "x = True\t\n",
    "print(type(x))\n",
    "x = b\"Hello\"\t\n",
    "print(type(x))\n",
    "x = bytearray(5)\n",
    "print(type(x))\n",
    "x = memoryview(bytes(5))\n",
    "print(type(x))\n",
    "x = None\n",
    "print(type(x))"
   ]
  }
 ],
 "metadata": {
  "kernelspec": {
   "display_name": "PyStudy_venv",
   "language": "python",
   "name": "python3"
  },
  "language_info": {
   "codemirror_mode": {
    "name": "ipython",
    "version": 3
   },
   "file_extension": ".py",
   "mimetype": "text/x-python",
   "name": "python",
   "nbconvert_exporter": "python",
   "pygments_lexer": "ipython3",
   "version": "3.10.12"
  }
 },
 "nbformat": 4,
 "nbformat_minor": 2
}
