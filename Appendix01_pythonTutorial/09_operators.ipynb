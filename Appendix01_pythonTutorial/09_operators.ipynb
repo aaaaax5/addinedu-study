{
 "cells": [
  {
   "cell_type": "markdown",
   "metadata": {},
   "source": [
    "## 09_Operators"
   ]
  },
  {
   "cell_type": "markdown",
   "metadata": {},
   "source": [
    "### 09.01_Arithmetic Operators\n",
    "| Operator | Name            | Example  |\n",
    "|----------|-----------------|----------|\n",
    "| +        | Addition        | x + y    |\n",
    "| -        | Subtraction     | x - y    |\n",
    "| *        | Multiplication  | x * y    |\n",
    "| /        | Division        | x / y    |\n",
    "| %        | Modulus         | x % y    |\n",
    "| **       | Exponentiation  | x ** y   |\n",
    "| //       | Floor division  | x // y   |\n"
   ]
  },
  {
   "cell_type": "code",
   "execution_count": 1,
   "metadata": {},
   "outputs": [
    {
     "name": "stdout",
     "output_type": "stream",
     "text": [
      "8\n"
     ]
    }
   ],
   "source": [
    "x = 5\n",
    "y = 3\n",
    "\n",
    "print(x + y)"
   ]
  },
  {
   "cell_type": "code",
   "execution_count": 2,
   "metadata": {},
   "outputs": [
    {
     "name": "stdout",
     "output_type": "stream",
     "text": [
      "2\n"
     ]
    }
   ],
   "source": [
    "x = 5\n",
    "y = 3\n",
    "\n",
    "print(x - y)"
   ]
  },
  {
   "cell_type": "code",
   "execution_count": 3,
   "metadata": {},
   "outputs": [
    {
     "name": "stdout",
     "output_type": "stream",
     "text": [
      "15\n"
     ]
    }
   ],
   "source": [
    "x = 5\n",
    "y = 3\n",
    "\n",
    "print(x * y)"
   ]
  },
  {
   "cell_type": "code",
   "execution_count": 4,
   "metadata": {},
   "outputs": [
    {
     "name": "stdout",
     "output_type": "stream",
     "text": [
      "4.0\n"
     ]
    }
   ],
   "source": [
    "x = 12\n",
    "y = 3\n",
    "\n",
    "print(x / y)"
   ]
  },
  {
   "cell_type": "code",
   "execution_count": 5,
   "metadata": {},
   "outputs": [
    {
     "name": "stdout",
     "output_type": "stream",
     "text": [
      "1\n"
     ]
    }
   ],
   "source": [
    "x = 5\n",
    "y = 2\n",
    "\n",
    "print(x % y)"
   ]
  },
  {
   "cell_type": "code",
   "execution_count": 6,
   "metadata": {},
   "outputs": [
    {
     "name": "stdout",
     "output_type": "stream",
     "text": [
      "32\n"
     ]
    }
   ],
   "source": [
    "x = 2\n",
    "y = 5\n",
    "\n",
    "print(x ** y) #same as 2*2*2*2*2"
   ]
  },
  {
   "cell_type": "code",
   "execution_count": 7,
   "metadata": {},
   "outputs": [
    {
     "name": "stdout",
     "output_type": "stream",
     "text": [
      "7\n"
     ]
    }
   ],
   "source": [
    "x = 15\n",
    "y = 2\n",
    "\n",
    "print(x // y)\n",
    "\n",
    "#the floor division // rounds the result down to the nearest whole number"
   ]
  },
  {
   "cell_type": "markdown",
   "metadata": {},
   "source": [
    "### 09.02_Assignment Operators\n",
    "| Operator | Example         | Same As           |\n",
    "|----------|-----------------|-------------------|\n",
    "| =        | x = 5           | x = 5             |\n",
    "| +=       | x += 3          | x = x + 3         |\n",
    "| -=       | x -= 3          | x = x - 3         |\n",
    "| *=       | x *= 3          | x = x * 3         |\n",
    "| /=       | x /= 3          | x = x / 3         |\n",
    "| %=       | x %= 3          | x = x % 3         |\n",
    "| //=      | x //= 3         | x = x // 3        |\n",
    "| **=      | x **= 3         | x = x ** 3        |\n",
    "| &=       | x &= 3          | x = x & 3         |\n",
    "| \\|=       | x \\|= 3          | x = x \\| 3         |\n",
    "| ^=       | x ^= 3          | x = x ^ 3         |\n",
    "| >>=      | x >>= 3         | x = x >> 3        |\n",
    "| <<=      | x <<= 3         | x = x << 3        |\n",
    "| :=       | print(x := 3)   | x = 3<br/>print(x)|\n"
   ]
  },
  {
   "cell_type": "code",
   "execution_count": 8,
   "metadata": {},
   "outputs": [
    {
     "name": "stdout",
     "output_type": "stream",
     "text": [
      "5\n"
     ]
    }
   ],
   "source": [
    "x = 5\n",
    "\n",
    "print(x)"
   ]
  },
  {
   "cell_type": "code",
   "execution_count": 9,
   "metadata": {},
   "outputs": [
    {
     "name": "stdout",
     "output_type": "stream",
     "text": [
      "8\n"
     ]
    }
   ],
   "source": [
    "x = 5\n",
    "\n",
    "x += 3\n",
    "\n",
    "print(x)"
   ]
  },
  {
   "cell_type": "code",
   "execution_count": 10,
   "metadata": {},
   "outputs": [
    {
     "name": "stdout",
     "output_type": "stream",
     "text": [
      "2\n"
     ]
    }
   ],
   "source": [
    "x = 5\n",
    "\n",
    "x -= 3\n",
    "\n",
    "print(x)"
   ]
  },
  {
   "cell_type": "code",
   "execution_count": 11,
   "metadata": {},
   "outputs": [
    {
     "name": "stdout",
     "output_type": "stream",
     "text": [
      "15\n"
     ]
    }
   ],
   "source": [
    "x = 5\n",
    "\n",
    "x *= 3\n",
    "\n",
    "print(x)"
   ]
  },
  {
   "cell_type": "code",
   "execution_count": 12,
   "metadata": {},
   "outputs": [
    {
     "name": "stdout",
     "output_type": "stream",
     "text": [
      "1.6666666666666667\n"
     ]
    }
   ],
   "source": [
    "x = 5\n",
    "\n",
    "x /= 3\n",
    "\n",
    "print(x)"
   ]
  },
  {
   "cell_type": "code",
   "execution_count": 13,
   "metadata": {},
   "outputs": [
    {
     "name": "stdout",
     "output_type": "stream",
     "text": [
      "2\n"
     ]
    }
   ],
   "source": [
    "x = 5\n",
    "\n",
    "x%=3\n",
    "\n",
    "print(x)"
   ]
  },
  {
   "cell_type": "code",
   "execution_count": 14,
   "metadata": {},
   "outputs": [
    {
     "name": "stdout",
     "output_type": "stream",
     "text": [
      "1\n"
     ]
    }
   ],
   "source": [
    "x = 5\n",
    "\n",
    "x//=3\n",
    "\n",
    "print(x)"
   ]
  },
  {
   "cell_type": "code",
   "execution_count": 15,
   "metadata": {},
   "outputs": [
    {
     "name": "stdout",
     "output_type": "stream",
     "text": [
      "125\n"
     ]
    }
   ],
   "source": [
    "x = 5\n",
    "\n",
    "x **= 3\n",
    "\n",
    "print(x)"
   ]
  },
  {
   "cell_type": "markdown",
   "metadata": {},
   "source": [
    "&, bit AND operation  \n",
    "0101 (5)  \n",
    "0011 (3)  \n",
    "\\-----------  \n",
    "0001 (1)  "
   ]
  },
  {
   "cell_type": "code",
   "execution_count": 16,
   "metadata": {},
   "outputs": [
    {
     "name": "stdout",
     "output_type": "stream",
     "text": [
      "1\n"
     ]
    }
   ],
   "source": [
    "x = 5\n",
    "\n",
    "x &= 3\n",
    "\n",
    "print(x)"
   ]
  },
  {
   "cell_type": "markdown",
   "metadata": {},
   "source": [
    "|, bit OR operation  \n",
    "0101 (5)  \n",
    "0011 (3)  \n",
    "\\------------  \n",
    "0111 (7)  \n"
   ]
  },
  {
   "cell_type": "code",
   "execution_count": 17,
   "metadata": {},
   "outputs": [
    {
     "name": "stdout",
     "output_type": "stream",
     "text": [
      "7\n"
     ]
    }
   ],
   "source": [
    "x = 5\n",
    "\n",
    "x |= 3\n",
    "\n",
    "print(x)"
   ]
  },
  {
   "cell_type": "markdown",
   "metadata": {},
   "source": [
    "^, bit XOR operation  \n",
    "0101 (5)  \n",
    "0011 (3)  \n",
    "\\------------  \n",
    "0110 (6)  "
   ]
  },
  {
   "cell_type": "code",
   "execution_count": 18,
   "metadata": {},
   "outputs": [
    {
     "name": "stdout",
     "output_type": "stream",
     "text": [
      "6\n"
     ]
    }
   ],
   "source": [
    "x = 5\n",
    "\n",
    "x ^= 3\n",
    "\n",
    "print(x)"
   ]
  },
  {
   "cell_type": "markdown",
   "metadata": {},
   "source": [
    "\\>>, right bit shift, new bit = 0  \n",
    "0101 (5) >> 3  \n",
    "0000 (0)  "
   ]
  },
  {
   "cell_type": "code",
   "execution_count": 19,
   "metadata": {},
   "outputs": [
    {
     "name": "stdout",
     "output_type": "stream",
     "text": [
      "0\n"
     ]
    }
   ],
   "source": [
    "x = 5\n",
    "\n",
    "x >>= 3\n",
    "\n",
    "print(x)"
   ]
  },
  {
   "cell_type": "markdown",
   "metadata": {},
   "source": [
    "\\<<, left bit shift, new bit = 0  \n",
    "0101 (5) << 3  \n",
    "0101000 (40)  "
   ]
  },
  {
   "cell_type": "code",
   "execution_count": 20,
   "metadata": {},
   "outputs": [
    {
     "name": "stdout",
     "output_type": "stream",
     "text": [
      "40\n"
     ]
    }
   ],
   "source": [
    "x = 5\n",
    "\n",
    "x <<= 3\n",
    "\n",
    "print(x)"
   ]
  },
  {
   "cell_type": "code",
   "execution_count": 22,
   "metadata": {},
   "outputs": [
    {
     "ename": "TypeError",
     "evalue": "'x' is an invalid keyword argument for print()",
     "output_type": "error",
     "traceback": [
      "\u001b[0;31m---------------------------------------------------------------------------\u001b[0m",
      "\u001b[0;31mTypeError\u001b[0m                                 Traceback (most recent call last)",
      "Cell \u001b[0;32mIn[22], line 1\u001b[0m\n\u001b[0;32m----> 1\u001b[0m \u001b[38;5;28;43mprint\u001b[39;49m\u001b[43m(\u001b[49m\u001b[43mx\u001b[49m\u001b[43m \u001b[49m\u001b[38;5;241;43m=\u001b[39;49m\u001b[43m \u001b[49m\u001b[38;5;241;43m3\u001b[39;49m\u001b[43m)\u001b[49m\n",
      "\u001b[0;31mTypeError\u001b[0m: 'x' is an invalid keyword argument for print()"
     ]
    }
   ],
   "source": [
    "print(x = 3)"
   ]
  },
  {
   "cell_type": "code",
   "execution_count": 23,
   "metadata": {},
   "outputs": [
    {
     "name": "stdout",
     "output_type": "stream",
     "text": [
      "3\n"
     ]
    }
   ],
   "source": [
    "x = 3\n",
    "print(x)"
   ]
  },
  {
   "cell_type": "code",
   "execution_count": 21,
   "metadata": {},
   "outputs": [
    {
     "name": "stdout",
     "output_type": "stream",
     "text": [
      "3\n"
     ]
    }
   ],
   "source": [
    "print(x := 3)"
   ]
  },
  {
   "cell_type": "markdown",
   "metadata": {},
   "source": [
    "### 09.03_Comparison Operators\n",
    "\n",
    "| Operator | Name                         | Example    |\n",
    "|----------|------------------------------|------------|\n",
    "| ==       | Equal                        | x == y     |\n",
    "| !=       | Not equal                    | x != y     |\n",
    "| >        | Greater than                 | x > y      |\n",
    "| <        | Less than                    | x < y      |\n",
    "| >=       | Greater than or equal to     | x >= y     |\n",
    "| <=       | Less than or equal to        | x <= y     |\n"
   ]
  },
  {
   "cell_type": "code",
   "execution_count": 24,
   "metadata": {},
   "outputs": [
    {
     "name": "stdout",
     "output_type": "stream",
     "text": [
      "False\n"
     ]
    }
   ],
   "source": [
    "x = 5\n",
    "y = 3\n",
    "\n",
    "print(x == y)\n",
    "\n",
    "# returns False because 5 is not equal to 3"
   ]
  },
  {
   "cell_type": "code",
   "execution_count": 25,
   "metadata": {},
   "outputs": [
    {
     "name": "stdout",
     "output_type": "stream",
     "text": [
      "True\n"
     ]
    }
   ],
   "source": [
    "x = 5\n",
    "y = 3\n",
    "\n",
    "print(x != y)\n",
    "\n",
    "# returns True because 5 is not equal to 3"
   ]
  },
  {
   "cell_type": "code",
   "execution_count": 29,
   "metadata": {},
   "outputs": [
    {
     "name": "stdout",
     "output_type": "stream",
     "text": [
      "True\n"
     ]
    }
   ],
   "source": [
    "x = 5\n",
    "y = 3\n",
    "\n",
    "print(x > y)\n",
    "\n",
    "# returns True because 5 is greater than 3"
   ]
  },
  {
   "cell_type": "code",
   "execution_count": 27,
   "metadata": {},
   "outputs": [
    {
     "name": "stdout",
     "output_type": "stream",
     "text": [
      "False\n"
     ]
    }
   ],
   "source": [
    "x = 5\n",
    "y = 3\n",
    "\n",
    "print(x < y)\n",
    "\n",
    "# returns False because 5 is not less than 3"
   ]
  },
  {
   "cell_type": "code",
   "execution_count": 30,
   "metadata": {},
   "outputs": [
    {
     "name": "stdout",
     "output_type": "stream",
     "text": [
      "True\n"
     ]
    }
   ],
   "source": [
    "x = 5\n",
    "y = 3\n",
    "\n",
    "print(x >= y)\n",
    "\n",
    "# returns True because five is greater, or equal, to 3"
   ]
  },
  {
   "cell_type": "code",
   "execution_count": 31,
   "metadata": {},
   "outputs": [
    {
     "name": "stdout",
     "output_type": "stream",
     "text": [
      "False\n"
     ]
    }
   ],
   "source": [
    "x = 5\n",
    "y = 3\n",
    "\n",
    "print(x <= y)\n",
    "\n",
    "# returns False because 5 is neither less than or equal to 3"
   ]
  },
  {
   "cell_type": "markdown",
   "metadata": {},
   "source": [
    "### 09.04_Logical Operators\n",
    "\n",
    "| Operator | Description                                       | Example                   |\n",
    "|----------|---------------------------------------------------|---------------------------|\n",
    "| and      | Returns True if both statements are true          | x < 5 and x < 10          |\n",
    "| or       | Returns True if one of the statements is true     | x < 5 or x < 4            |\n",
    "| not      | Reverse the result, returns False if true         | not(x < 5 and x < 10)     |"
   ]
  },
  {
   "cell_type": "code",
   "execution_count": 32,
   "metadata": {},
   "outputs": [
    {
     "name": "stdout",
     "output_type": "stream",
     "text": [
      "True\n"
     ]
    }
   ],
   "source": [
    "x = 5\n",
    "\n",
    "print(x > 3 and x < 10)\n",
    "\n",
    "# returns True because 5 is greater than 3 AND 5 is less than 10"
   ]
  },
  {
   "cell_type": "code",
   "execution_count": 33,
   "metadata": {},
   "outputs": [
    {
     "name": "stdout",
     "output_type": "stream",
     "text": [
      "True\n"
     ]
    }
   ],
   "source": [
    "x = 5\n",
    "\n",
    "print(x > 3 or x < 4)\n",
    "\n",
    "# returns True because one of the conditions are true (5 is greater than 3, but 5 is not less than 4)"
   ]
  },
  {
   "cell_type": "code",
   "execution_count": 34,
   "metadata": {},
   "outputs": [
    {
     "name": "stdout",
     "output_type": "stream",
     "text": [
      "False\n"
     ]
    }
   ],
   "source": [
    "x = 5\n",
    "\n",
    "print(not(x > 3 and x < 10))\n",
    "\n",
    "# returns False because not is used to reverse the result"
   ]
  },
  {
   "cell_type": "markdown",
   "metadata": {},
   "source": [
    "### 09.05_Identity Operators\n",
    "\n",
    "| Operator | Description                                    | Example     |\n",
    "|----------|------------------------------------------------|-------------|\n",
    "| is       | Returns True if both variables are the same object | x is y  |\n",
    "| is not   | Returns True if both variables are not the same object | x is not y |\n"
   ]
  },
  {
   "cell_type": "code",
   "execution_count": 35,
   "metadata": {},
   "outputs": [
    {
     "name": "stdout",
     "output_type": "stream",
     "text": [
      "True\n",
      "False\n",
      "True\n"
     ]
    }
   ],
   "source": [
    "x = [\"apple\", \"banana\"]\n",
    "y = [\"apple\", \"banana\"]\n",
    "z = x\n",
    "\n",
    "print(x is z)\n",
    "\n",
    "# returns True because z is the same object as x\n",
    "\n",
    "print(x is y)\n",
    "\n",
    "# returns False because x is not the same object as y, even if they have the same content\n",
    "\n",
    "print(x == y)\n",
    "\n",
    "# to demonstrate the difference betweeen \"is\" and \"==\": this comparison returns True because x is equal to y"
   ]
  },
  {
   "cell_type": "code",
   "execution_count": 36,
   "metadata": {},
   "outputs": [
    {
     "name": "stdout",
     "output_type": "stream",
     "text": [
      "False\n",
      "True\n",
      "False\n"
     ]
    }
   ],
   "source": [
    "x = [\"apple\", \"banana\"]\n",
    "y = [\"apple\", \"banana\"]\n",
    "z = x\n",
    "\n",
    "print(x is not z)\n",
    "\n",
    "# returns False because z is the same object as x\n",
    "\n",
    "print(x is not y)\n",
    "\n",
    "# returns True because x is not the same object as y, even if they have the same content\n",
    "\n",
    "print(x != y)\n",
    "\n",
    "# to demonstrate the difference betweeen \"is not\" and \"!=\": this comparison returns False because x is equal to y"
   ]
  },
  {
   "cell_type": "markdown",
   "metadata": {},
   "source": [
    "### 09.06_Membership Operators\n",
    "\n",
    "| Operator | Description                                        | Example      |\n",
    "|----------|----------------------------------------------------|--------------|\n",
    "| in       | Returns True if a sequence with the specified value is present in the object | x in y  |\n",
    "| not in   | Returns True if a sequence with the specified value is not present in the object | x not in y |\n"
   ]
  },
  {
   "cell_type": "code",
   "execution_count": 37,
   "metadata": {},
   "outputs": [
    {
     "name": "stdout",
     "output_type": "stream",
     "text": [
      "True\n"
     ]
    }
   ],
   "source": [
    "x = [\"apple\", \"banana\"]\n",
    "\n",
    "print(\"banana\" in x)\n",
    "\n",
    "# returns True because a sequence with the value \"banana\" is in the list"
   ]
  },
  {
   "cell_type": "code",
   "execution_count": 38,
   "metadata": {},
   "outputs": [
    {
     "name": "stdout",
     "output_type": "stream",
     "text": [
      "True\n"
     ]
    }
   ],
   "source": [
    "x = [\"apple\", \"banana\"]\n",
    "\n",
    "print(\"pineapple\" not in x)\n",
    "\n",
    "# returns True because a sequence with the value \"pineapple\" is not in the list"
   ]
  },
  {
   "cell_type": "markdown",
   "metadata": {},
   "source": [
    "### 09.07_Bitwise Operators\n",
    "\n",
    "| Operator | Name             | Description                                                                      | Example  |\n",
    "|----------|------------------|----------------------------------------------------------------------------------|----------|\n",
    "| &        | AND              | Sets each bit to 1 if both bits are 1                                             | x & y    |\n",
    "| \\|       | OR               | Sets each bit to 1 if one of two bits is 1                                         | x \\| y   |\n",
    "| ^        | XOR              | Sets each bit to 1 if only one of two bits is 1                                    | x ^ y    |\n",
    "| ~        | NOT              | Inverts all the bits                                                             | ~x       |\n",
    "| <<       | Zero fill left shift | Shift left by pushing zeros in from the right and let the leftmost bits fall off | x << 2   |\n",
    "| >>       | Signed right shift  | Shift right by pushing copies of the leftmost bit in from the left, and let the rightmost bits fall off | x >> 2   |\n"
   ]
  },
  {
   "cell_type": "code",
   "execution_count": 41,
   "metadata": {},
   "outputs": [
    {
     "name": "stdout",
     "output_type": "stream",
     "text": [
      "2\n"
     ]
    }
   ],
   "source": [
    "print(6 & 3)\n",
    "\n",
    "# The & operator compares each bit and set it to 1 if both are 1, otherwise it is set to 0:\n",
    "\n",
    "# 6 = 0000000000000110\n",
    "# 3 = 0000000000000011\n",
    "# --------------------\n",
    "# 2 = 0000000000000010\n",
    "# ====================\n",
    "\n",
    "# Decimal numbers and their binary values:\n",
    "# 0 = 0000000000000000\n",
    "# 1 = 0000000000000001\n",
    "# 2 = 0000000000000010\n",
    "# 3 = 0000000000000011\n",
    "# 4 = 0000000000000100\n",
    "# 5 = 0000000000000101\n",
    "# 6 = 0000000000000110\n",
    "# 7 = 0000000000000111\n"
   ]
  },
  {
   "cell_type": "code",
   "execution_count": 42,
   "metadata": {},
   "outputs": [
    {
     "name": "stdout",
     "output_type": "stream",
     "text": [
      "7\n"
     ]
    }
   ],
   "source": [
    "print(6 | 3)\n",
    "\n",
    "# The | operator compares each bit and set it to 1 if one or both is 1, otherwise it is set to 0:\n",
    "\n",
    "# 6 = 0000000000000110\n",
    "# 3 = 0000000000000011\n",
    "# --------------------\n",
    "# 7 = 0000000000000111\n",
    "# ====================\n",
    "\n",
    "# Decimal numbers and their binary values:\n",
    "# 0 = 0000000000000000\n",
    "# 1 = 0000000000000001\n",
    "# 2 = 0000000000000010\n",
    "# 3 = 0000000000000011\n",
    "# 4 = 0000000000000100\n",
    "# 5 = 0000000000000101\n",
    "# 6 = 0000000000000110\n",
    "# 7 = 0000000000000111"
   ]
  },
  {
   "cell_type": "code",
   "execution_count": 43,
   "metadata": {},
   "outputs": [
    {
     "name": "stdout",
     "output_type": "stream",
     "text": [
      "5\n"
     ]
    }
   ],
   "source": [
    "print(6 ^ 3)\n",
    "\n",
    "# The ^ operator compares each bit and set it to 1 if only one is 1, otherwise (if both are 1 or both are 0) it is set to 0:\n",
    "\n",
    "# 6 = 0000000000000110\n",
    "# 3 = 0000000000000011\n",
    "# --------------------\n",
    "# 5 = 0000000000000101\n",
    "# ====================\n",
    "\n",
    "# Decimal numbers and their binary values:\n",
    "# 0 = 0000000000000000\n",
    "# 1 = 0000000000000001\n",
    "# 2 = 0000000000000010\n",
    "# 3 = 0000000000000011\n",
    "# 4 = 0000000000000100\n",
    "# 5 = 0000000000000101\n",
    "# 6 = 0000000000000110\n",
    "# 7 = 0000000000000111"
   ]
  },
  {
   "cell_type": "code",
   "execution_count": 44,
   "metadata": {},
   "outputs": [
    {
     "name": "stdout",
     "output_type": "stream",
     "text": [
      "-4\n"
     ]
    }
   ],
   "source": [
    "print(~3)\n",
    "\n",
    "# The ~ operator inverts each bit (0 becomes 1 and 1 becomes 0).\n",
    "\n",
    "# Inverted 3 becomes -4:\n",
    "#  3 = 0000000000000011\n",
    "# -4 = 1111111111111100\n",
    "\n",
    "# Decimal numbers and their binary values:\n",
    "#  4 = 0000000000000100\n",
    "#  3 = 0000000000000011\n",
    "#  2 = 0000000000000010\n",
    "#  1 = 0000000000000001\n",
    "#  0 = 0000000000000000\n",
    "# -1 = 1111111111111111\n",
    "# -2 = 1111111111111110\n",
    "# -3 = 1111111111111101\n",
    "# -4 = 1111111111111100"
   ]
  },
  {
   "cell_type": "code",
   "execution_count": 45,
   "metadata": {},
   "outputs": [
    {
     "name": "stdout",
     "output_type": "stream",
     "text": [
      "12\n"
     ]
    }
   ],
   "source": [
    "print(3 << 2)\n",
    "\n",
    "# The << operator inserts the specified number of 0's (in this case 2) from the right and let the same amount of leftmost bits fall off:\n",
    "\n",
    "# If you push 00 in from the left:\n",
    "#  3 = 0000000000000011\n",
    "# becomes\n",
    "# 12 = 0000000000001100\n",
    "\n",
    "# Decimal numbers and their binary values:\n",
    "#  0 = 0000000000000000\n",
    "#  1 = 0000000000000001\n",
    "#  2 = 0000000000000010\n",
    "#  3 = 0000000000000011\n",
    "#  4 = 0000000000000100\n",
    "#  5 = 0000000000000101\n",
    "#  6 = 0000000000000110\n",
    "#  7 = 0000000000000111\n",
    "#  8 = 0000000000001000\n",
    "#  9 = 0000000000001001\n",
    "# 10 = 0000000000001010\n",
    "# 11 = 0000000000001011\n",
    "# 12 = 0000000000001100"
   ]
  },
  {
   "cell_type": "code",
   "execution_count": 46,
   "metadata": {},
   "outputs": [
    {
     "name": "stdout",
     "output_type": "stream",
     "text": [
      "2\n"
     ]
    }
   ],
   "source": [
    "print(8 >> 2)\n",
    "\n",
    "# The >> operator moves each bit the specified number of times to the right. Empty holes at the left are filled with 0's.\n",
    "\n",
    "# If you move each bit 2 times to the right, 8 becomes 2:\n",
    "#  8 = 0000000000001000\n",
    "# becomes\n",
    "#  2 = 0000000000000010\n",
    "\n",
    "# Decimal numbers and their binary values:\n",
    "#  0 = 0000000000000000\n",
    "#  1 = 0000000000000001\n",
    "#  2 = 0000000000000010\n",
    "#  3 = 0000000000000011\n",
    "#  4 = 0000000000000100\n",
    "#  5 = 0000000000000101\n",
    "#  6 = 0000000000000110\n",
    "#  7 = 0000000000000111\n",
    "#  8 = 0000000000001000\n",
    "#  9 = 0000000000001001\n",
    "# 10 = 0000000000001010\n",
    "# 11 = 0000000000001011\n",
    "# 12 = 0000000000001100"
   ]
  },
  {
   "cell_type": "markdown",
   "metadata": {},
   "source": [
    "### 09.08_Operator Precedence\n",
    "\n",
    "| Operator | Description                                       |\n",
    "|----------|---------------------------------------------------|\n",
    "| ()       | Parentheses                                       |\n",
    "| **       | Exponentiation                                    |\n",
    "| +x, -x, ~x | Unary plus, unary minus, and bitwise NOT         |\n",
    "| * / // % | Multiplication, division, floor division, and modulus |\n",
    "| + -      | Addition and subtraction                         |\n",
    "| << >>    | Bitwise left and right shifts                    |\n",
    "| &        | Bitwise AND                                       |\n",
    "| ^        | Bitwise XOR                                       |\n",
    "| \\|       | Bitwise OR                                        |\n",
    "| == != > >= < <= is is not in not in | Comparisons, identity, and membership operators |\n",
    "| not      | Logical NOT                                       |\n",
    "| and      | AND                                               |\n",
    "| or       | OR                                                |\n"
   ]
  },
  {
   "cell_type": "code",
   "execution_count": 48,
   "metadata": {},
   "outputs": [
    {
     "name": "stdout",
     "output_type": "stream",
     "text": [
      "0\n"
     ]
    }
   ],
   "source": [
    "print((6 + 3) - (6 + 3))\n",
    "\n",
    "# Parenthesis have the highest precedence, and need to be evaluated first.\n",
    "# The calculation above reads 9 - 9 = 0"
   ]
  },
  {
   "cell_type": "code",
   "execution_count": 49,
   "metadata": {},
   "outputs": [
    {
     "name": "stdout",
     "output_type": "stream",
     "text": [
      "73\n"
     ]
    }
   ],
   "source": [
    "print(100 - 3 ** 3)\n",
    "\n",
    "# Exponentiation has higher precedence than subtraction, and needs to be evaluated first.\n",
    "# The calculation above reads 100 - 27 = 73"
   ]
  },
  {
   "cell_type": "code",
   "execution_count": 50,
   "metadata": {},
   "outputs": [
    {
     "name": "stdout",
     "output_type": "stream",
     "text": [
      "96\n"
     ]
    }
   ],
   "source": [
    "print(100 + ~3)\n",
    "\n",
    "# Bitwise NOT has higher precedence than addition, and needs to be evaluated first.\n",
    "# The calculation above reads 100 + -4 = 96"
   ]
  },
  {
   "cell_type": "code",
   "execution_count": 51,
   "metadata": {},
   "outputs": [
    {
     "name": "stdout",
     "output_type": "stream",
     "text": [
      "115\n"
     ]
    }
   ],
   "source": [
    "print(100 + 5 * 3)\n",
    "\n",
    "# Multiplication has higher precedence than addition, and needs to be evaluated first.\n",
    "# The calculation above reads 100 + 15 = 115"
   ]
  },
  {
   "cell_type": "code",
   "execution_count": 52,
   "metadata": {},
   "outputs": [
    {
     "name": "stdout",
     "output_type": "stream",
     "text": [
      "2\n"
     ]
    }
   ],
   "source": [
    "print(8 >> 4 - 2)\n",
    "\n",
    "\n",
    "# Bitwise right shift has a lower precedence than subtraction, and we need to calculate the subtraction first.\n",
    "# The calculation above reads 8 >> 2 = 2\n",
    "\n",
    "# More explanation:\n",
    "# The >> operator moves each bit the specified number of times to the right. Empty holes at the left are filled with 0's.\n",
    "\n",
    "# If you move each bit 2 times to the right, 8 becomes 2:\n",
    "#  8 = 0000000000001000\n",
    "# becomes\n",
    "#  2 = 0000000000000010\n",
    "\n",
    "# Decimal numbers and their binary values:\n",
    "#  0 = 0000000000000000\n",
    "#  1 = 0000000000000001\n",
    "#  2 = 0000000000000010\n",
    "#  3 = 0000000000000011\n",
    "#  4 = 0000000000000100\n",
    "#  5 = 0000000000000101\n",
    "#  6 = 0000000000000110\n",
    "#  7 = 0000000000000111\n",
    "#  8 = 0000000000001000\n",
    "#  9 = 0000000000001001\n",
    "# 10 = 0000000000001010\n",
    "# 11 = 0000000000001011\n",
    "# 12 = 0000000000001100"
   ]
  },
  {
   "cell_type": "code",
   "execution_count": 53,
   "metadata": {},
   "outputs": [
    {
     "name": "stdout",
     "output_type": "stream",
     "text": [
      "2\n"
     ]
    }
   ],
   "source": [
    "print(6 & 2 + 1)\n",
    "\n",
    "# Bitwise AND has a lower precedence than addition, and we need to calculate the addition first.\n",
    "# The calculation above reads 6 & 3 = 2\n",
    "\n",
    "# More explanation:\n",
    "# The & operator compares each bit and set it to 1 if both are 1, otherwise it is set to 0:\n",
    "\n",
    "# 6 = 0000000000000110\n",
    "# 3 = 0000000000000011\n",
    "# --------------------\n",
    "# 2 = 0000000000000010\n",
    "# ====================\n",
    "\n",
    "# Decimal numbers and their binary values:\n",
    "# 0 = 0000000000000000\n",
    "# 1 = 0000000000000001\n",
    "# 2 = 0000000000000010\n",
    "# 3 = 0000000000000011\n",
    "# 4 = 0000000000000100\n",
    "# 5 = 0000000000000101\n",
    "# 6 = 0000000000000110\n",
    "# 7 = 0000000000000111"
   ]
  },
  {
   "cell_type": "code",
   "execution_count": 54,
   "metadata": {},
   "outputs": [
    {
     "name": "stdout",
     "output_type": "stream",
     "text": [
      "5\n"
     ]
    }
   ],
   "source": [
    "print(6 ^ 2 + 1)\n",
    "\n",
    "# Bitwise XOR has a lower precedence than addition, and we need to calculate the addition first.\n",
    "# The calculation above reads 6 ^ 3 = 5\n",
    "\n",
    "# More explanation:\n",
    "# The ^ operator compares each bit and set it to 1 if only one is 1, otherwise (if both are 1 or both are 0) it is set to 0:\n",
    "\n",
    "# 6 = 0000000000000110\n",
    "# 3 = 0000000000000011\n",
    "# --------------------\n",
    "# 5 = 0000000000000101\n",
    "# ====================\n",
    "\n",
    "# Decimal numbers and their binary values:\n",
    "# 0 = 0000000000000000\n",
    "# 1 = 0000000000000001\n",
    "# 2 = 0000000000000010\n",
    "# 3 = 0000000000000011\n",
    "# 4 = 0000000000000100\n",
    "# 5 = 0000000000000101\n",
    "# 6 = 0000000000000110\n",
    "# 7 = 0000000000000111"
   ]
  },
  {
   "cell_type": "code",
   "execution_count": 55,
   "metadata": {},
   "outputs": [
    {
     "name": "stdout",
     "output_type": "stream",
     "text": [
      "7\n"
     ]
    }
   ],
   "source": [
    "print(6 | 2 + 1)\n",
    "\n",
    "# Bitwise OR has a lower precedence than addition, and we need to calculate the addition first.\n",
    "# The calculation above reads 6 | 3 = 7\n",
    "\n",
    "# More explanation:\n",
    "# The | operator compares each bit and set it to 1 if one or both is 1, otherwise it is set to 0:\n",
    "\n",
    "# 6 = 0000000000000110\n",
    "# 3 = 0000000000000011\n",
    "# --------------------\n",
    "# 7 = 0000000000000111\n",
    "# ====================\n",
    "\n",
    "# Decimal numbers and their binary values:\n",
    "# 0 = 0000000000000000\n",
    "# 1 = 0000000000000001\n",
    "# 2 = 0000000000000010\n",
    "# 3 = 0000000000000011\n",
    "# 4 = 0000000000000100\n",
    "# 5 = 0000000000000101\n",
    "# 6 = 0000000000000110\n",
    "# 7 = 0000000000000111"
   ]
  },
  {
   "cell_type": "code",
   "execution_count": 56,
   "metadata": {},
   "outputs": [
    {
     "name": "stdout",
     "output_type": "stream",
     "text": [
      "True\n"
     ]
    }
   ],
   "source": [
    "print(5 == 4 + 1)\n",
    "\n",
    "# The \"like\" comparison has a lower precedence than addition, and we need to calculate the addition first.\n",
    "# The calculation above reads 5 == 5 = True"
   ]
  },
  {
   "cell_type": "code",
   "execution_count": 57,
   "metadata": {},
   "outputs": [
    {
     "name": "stdout",
     "output_type": "stream",
     "text": [
      "False\n"
     ]
    }
   ],
   "source": [
    "print(not 5 == 5)\n",
    "\n",
    "# The logical NOT operator has a lower precedence than \"like\" comparison, and we need to calculate the comparison first.\n",
    "# The calculation above reads: not True = False"
   ]
  },
  {
   "cell_type": "code",
   "execution_count": 58,
   "metadata": {},
   "outputs": [
    {
     "name": "stdout",
     "output_type": "stream",
     "text": [
      "1\n"
     ]
    }
   ],
   "source": [
    "print(1 or 2 and 3)\n",
    "\n",
    "# The and operator has a higher precedence than or, and we need to calculate the and expression first.\n",
    "# The calculation above reads: 1 or 3 = 1"
   ]
  },
  {
   "cell_type": "code",
   "execution_count": 59,
   "metadata": {},
   "outputs": [
    {
     "name": "stdout",
     "output_type": "stream",
     "text": [
      "4\n"
     ]
    }
   ],
   "source": [
    "print(4 or 5 + 10 or 8)\n",
    "\n",
    "# The or operator has a lower precedence than addition, and we need to calculate the addition first.\n",
    "# The calculation above reads: 4 or 15 or 8 = 4"
   ]
  }
 ],
 "metadata": {
  "kernelspec": {
   "display_name": "PyStudy_venv",
   "language": "python",
   "name": "python3"
  },
  "language_info": {
   "codemirror_mode": {
    "name": "ipython",
    "version": 3
   },
   "file_extension": ".py",
   "mimetype": "text/x-python",
   "name": "python",
   "nbconvert_exporter": "python",
   "pygments_lexer": "ipython3",
   "version": "3.10.12"
  }
 },
 "nbformat": 4,
 "nbformat_minor": 2
}
