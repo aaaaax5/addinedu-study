{
 "cells": [
  {
   "cell_type": "code",
   "execution_count": 1,
   "metadata": {},
   "outputs": [
    {
     "name": "stderr",
     "output_type": "stream",
     "text": [
      "/tmp/ipykernel_21237/4190591205.py:6: DeprecationWarning: \n",
      "Pyarrow will become a required dependency of pandas in the next major release of pandas (pandas 3.0),\n",
      "(to allow more performant data types, such as the Arrow string type, and better interoperability with other libraries)\n",
      "but was not found to be installed on your system.\n",
      "If this would cause problems for you,\n",
      "please provide us feedback at https://github.com/pandas-dev/pandas/issues/54466\n",
      "        \n",
      "  import pandas as pd\n"
     ]
    }
   ],
   "source": [
    "import os\n",
    "import sys\n",
    "import urllib.request\n",
    "import json\n",
    "import datetime\n",
    "import pandas as pd\n"
   ]
  },
  {
   "cell_type": "code",
   "execution_count": 2,
   "metadata": {},
   "outputs": [],
   "source": [
    "client_id = \"zksStlRfc9DFTDwYr8rp\"\n",
    "client_secret = \"8AHTEDR12X\""
   ]
  },
  {
   "cell_type": "code",
   "execution_count": 3,
   "metadata": {},
   "outputs": [
    {
     "data": {
      "text/plain": [
       "'https://openapi.naver.com/v1/search/shop.json?query=TEST&start=10&display=3'"
      ]
     },
     "execution_count": 3,
     "metadata": {},
     "output_type": "execute_result"
    }
   ],
   "source": [
    "def gen_search_url(api_node, search_text, start_num, disp_num):\n",
    "    base = \"https://openapi.naver.com/v1/search\"\n",
    "    node = \"/\" + api_node + \".json\"\n",
    "    param_query = \"?query=\" + urllib.parse.quote(search_text)\n",
    "    param_start = \"&start=\" + str(start_num)\n",
    "    param_disp = \"&display=\" + str(disp_num)\n",
    "\n",
    "    return base + node + param_query + param_start + param_disp\n",
    "\n",
    "gen_search_url('shop', 'TEST', 10, 3)"
   ]
  },
  {
   "cell_type": "code",
   "execution_count": 4,
   "metadata": {},
   "outputs": [],
   "source": [
    "def get_result_onpage(url):\n",
    "    request = urllib.request.Request(url)\n",
    "    request.add_header(\"X-Naver-Client-Id\", client_id)\n",
    "    request.add_header(\"X-naver-Client-Secret\", client_secret)\n",
    "\n",
    "    response = urllib.request.urlopen(request)\n",
    "\n",
    "    print(\"[%s] Url Request Success\" % datetime.datetime.now())\n",
    "\n",
    "    return json.loads(response.read().decode('utf-8'))"
   ]
  },
  {
   "cell_type": "code",
   "execution_count": 5,
   "metadata": {},
   "outputs": [
    {
     "name": "stdout",
     "output_type": "stream",
     "text": [
      "[2024-02-23 16:32:31.319019] Url Request Success\n"
     ]
    },
    {
     "data": {
      "text/plain": [
       "{'lastBuildDate': 'Fri, 23 Feb 2024 16:32:31 +0900',\n",
       " 'total': 47006,\n",
       " 'start': 1,\n",
       " 'display': 5,\n",
       " 'items': [{'title': '[<b>몰스킨</b>] 2024년 클래식 다이어리 (12개월) (데일리, 위클리, 먼슬리)',\n",
       "   'link': 'https://search.shopping.naver.com/gate.nhn?id=42344941884',\n",
       "   'image': 'https://shopping-phinf.pstatic.net/main_4234494/42344941884.jpg',\n",
       "   'lprice': '16200',\n",
       "   'hprice': '',\n",
       "   'mallName': '몰스킨공식온라인스토어',\n",
       "   'productId': '42344941884',\n",
       "   'productType': '2',\n",
       "   'brand': '몰스킨',\n",
       "   'maker': '',\n",
       "   'category1': '생활/건강',\n",
       "   'category2': '문구/사무용품',\n",
       "   'category3': '다이어리/플래너',\n",
       "   'category4': '다이어리'},\n",
       "  {'title': '올젠 <b>몰스킨</b> 자켓 ZOD4KG1311',\n",
       "   'link': 'https://search.shopping.naver.com/gate.nhn?id=42816582647',\n",
       "   'image': 'https://shopping-phinf.pstatic.net/main_4281658/42816582647.20240215125021.jpg',\n",
       "   'lprice': '72110',\n",
       "   'hprice': '',\n",
       "   'mallName': '네이버',\n",
       "   'productId': '42816582647',\n",
       "   'productType': '1',\n",
       "   'brand': '올젠',\n",
       "   'maker': '',\n",
       "   'category1': '패션의류',\n",
       "   'category2': '남성의류',\n",
       "   'category3': '재킷',\n",
       "   'category4': ''},\n",
       "  {'title': '<b>몰스킨</b> 2024 다이어리 클래식 소프트커버 데일리 라지 2024년 24년',\n",
       "   'link': 'https://search.shopping.naver.com/gate.nhn?id=86678199160',\n",
       "   'image': 'https://shopping-phinf.pstatic.net/main_8667819/86678199160.4.jpg',\n",
       "   'lprice': '23400',\n",
       "   'hprice': '',\n",
       "   'mallName': '베스트펜',\n",
       "   'productId': '86678199160',\n",
       "   'productType': '2',\n",
       "   'brand': '몰스킨',\n",
       "   'maker': '몰스킨',\n",
       "   'category1': '생활/건강',\n",
       "   'category2': '문구/사무용품',\n",
       "   'category3': '다이어리/플래너',\n",
       "   'category4': '다이어리'},\n",
       "  {'title': '르몽생미셸 지니언 워크자켓 블루 <b>몰스킨</b> 프렌치 워크자켓',\n",
       "   'link': 'https://search.shopping.naver.com/gate.nhn?id=83453383930',\n",
       "   'image': 'https://shopping-phinf.pstatic.net/main_8345338/83453383930.2.jpg',\n",
       "   'lprice': '378000',\n",
       "   'hprice': '',\n",
       "   'mallName': '스프링스트릿 마켓',\n",
       "   'productId': '83453383930',\n",
       "   'productType': '2',\n",
       "   'brand': '',\n",
       "   'maker': '',\n",
       "   'category1': '패션의류',\n",
       "   'category2': '남성의류',\n",
       "   'category3': '재킷',\n",
       "   'category4': ''},\n",
       "  {'title': '르몽생미셸 프렌치 <b>몰스킨</b> 워크자켓 지니언 블루',\n",
       "   'link': 'https://search.shopping.naver.com/gate.nhn?id=43414222531',\n",
       "   'image': 'https://shopping-phinf.pstatic.net/main_4341422/43414222531.jpg',\n",
       "   'lprice': '154000',\n",
       "   'hprice': '',\n",
       "   'mallName': '11번가',\n",
       "   'productId': '43414222531',\n",
       "   'productType': '2',\n",
       "   'brand': '',\n",
       "   'maker': '',\n",
       "   'category1': '패션의류',\n",
       "   'category2': '남성의류',\n",
       "   'category3': '재킷',\n",
       "   'category4': ''}]}"
      ]
     },
     "execution_count": 5,
     "metadata": {},
     "output_type": "execute_result"
    }
   ],
   "source": [
    "url = gen_search_url('shop', '몰스킨', 1, 5)\n",
    "one_result = get_result_onpage(url)\n",
    "one_result"
   ]
  },
  {
   "cell_type": "code",
   "execution_count": 6,
   "metadata": {},
   "outputs": [
    {
     "data": {
      "text/plain": [
       "'[<b>몰스킨</b>] 2024년 클래식 다이어리 (12개월) (데일리, 위클리, 먼슬리)'"
      ]
     },
     "execution_count": 6,
     "metadata": {},
     "output_type": "execute_result"
    }
   ],
   "source": [
    "one_result['items'][0]['title']"
   ]
  },
  {
   "cell_type": "code",
   "execution_count": 7,
   "metadata": {},
   "outputs": [
    {
     "data": {
      "text/plain": [
       "'16200'"
      ]
     },
     "execution_count": 7,
     "metadata": {},
     "output_type": "execute_result"
    }
   ],
   "source": [
    "one_result['items'][0]['lprice']"
   ]
  },
  {
   "cell_type": "code",
   "execution_count": 8,
   "metadata": {},
   "outputs": [
    {
     "data": {
      "text/plain": [
       "'몰스킨공식온라인스토어'"
      ]
     },
     "execution_count": 8,
     "metadata": {},
     "output_type": "execute_result"
    }
   ],
   "source": [
    "one_result['items'][0]['mallName']"
   ]
  },
  {
   "cell_type": "code",
   "execution_count": 9,
   "metadata": {},
   "outputs": [],
   "source": [
    "def get_fields(json_data):\n",
    "    title = [each['title'] for each in json_data['items']]\n",
    "    link = [each['link'] for each in json_data['items']]\n",
    "    lprice = [each['lprice'] for each in json_data['items']]\n",
    "    hprice = [each['hprice'] for each in json_data['items']]\n",
    "    mall_name = [each['mallName'] for each in json_data['items']]\n",
    "\n",
    "    result_pd = pd.DataFrame({'title':title, 'lprice':lprice,\n",
    "                              'hprice':hprice, 'link':link,\n",
    "                              'mall':mall_name},\n",
    "                              columns=['title', 'lprice', 'hprice', 'link', 'mall'])\n",
    "    \n",
    "    return result_pd"
   ]
  },
  {
   "cell_type": "code",
   "execution_count": 10,
   "metadata": {},
   "outputs": [
    {
     "data": {
      "text/html": [
       "<div>\n",
       "<style scoped>\n",
       "    .dataframe tbody tr th:only-of-type {\n",
       "        vertical-align: middle;\n",
       "    }\n",
       "\n",
       "    .dataframe tbody tr th {\n",
       "        vertical-align: top;\n",
       "    }\n",
       "\n",
       "    .dataframe thead th {\n",
       "        text-align: right;\n",
       "    }\n",
       "</style>\n",
       "<table border=\"1\" class=\"dataframe\">\n",
       "  <thead>\n",
       "    <tr style=\"text-align: right;\">\n",
       "      <th></th>\n",
       "      <th>title</th>\n",
       "      <th>lprice</th>\n",
       "      <th>hprice</th>\n",
       "      <th>link</th>\n",
       "      <th>mall</th>\n",
       "    </tr>\n",
       "  </thead>\n",
       "  <tbody>\n",
       "    <tr>\n",
       "      <th>0</th>\n",
       "      <td>[&lt;b&gt;몰스킨&lt;/b&gt;] 2024년 클래식 다이어리 (12개월) (데일리, 위클리, ...</td>\n",
       "      <td>16200</td>\n",
       "      <td></td>\n",
       "      <td>https://search.shopping.naver.com/gate.nhn?id=...</td>\n",
       "      <td>몰스킨공식온라인스토어</td>\n",
       "    </tr>\n",
       "    <tr>\n",
       "      <th>1</th>\n",
       "      <td>올젠 &lt;b&gt;몰스킨&lt;/b&gt; 자켓 ZOD4KG1311</td>\n",
       "      <td>72110</td>\n",
       "      <td></td>\n",
       "      <td>https://search.shopping.naver.com/gate.nhn?id=...</td>\n",
       "      <td>네이버</td>\n",
       "    </tr>\n",
       "    <tr>\n",
       "      <th>2</th>\n",
       "      <td>&lt;b&gt;몰스킨&lt;/b&gt; 2024 다이어리 클래식 소프트커버 데일리 라지 2024년 24년</td>\n",
       "      <td>23400</td>\n",
       "      <td></td>\n",
       "      <td>https://search.shopping.naver.com/gate.nhn?id=...</td>\n",
       "      <td>베스트펜</td>\n",
       "    </tr>\n",
       "    <tr>\n",
       "      <th>3</th>\n",
       "      <td>르몽생미셸 지니언 워크자켓 블루 &lt;b&gt;몰스킨&lt;/b&gt; 프렌치 워크자켓</td>\n",
       "      <td>378000</td>\n",
       "      <td></td>\n",
       "      <td>https://search.shopping.naver.com/gate.nhn?id=...</td>\n",
       "      <td>스프링스트릿 마켓</td>\n",
       "    </tr>\n",
       "    <tr>\n",
       "      <th>4</th>\n",
       "      <td>르몽생미셸 프렌치 &lt;b&gt;몰스킨&lt;/b&gt; 워크자켓 지니언 블루</td>\n",
       "      <td>154000</td>\n",
       "      <td></td>\n",
       "      <td>https://search.shopping.naver.com/gate.nhn?id=...</td>\n",
       "      <td>11번가</td>\n",
       "    </tr>\n",
       "  </tbody>\n",
       "</table>\n",
       "</div>"
      ],
      "text/plain": [
       "                                               title  lprice hprice  \\\n",
       "0  [<b>몰스킨</b>] 2024년 클래식 다이어리 (12개월) (데일리, 위클리, ...   16200          \n",
       "1                        올젠 <b>몰스킨</b> 자켓 ZOD4KG1311   72110          \n",
       "2    <b>몰스킨</b> 2024 다이어리 클래식 소프트커버 데일리 라지 2024년 24년   23400          \n",
       "3              르몽생미셸 지니언 워크자켓 블루 <b>몰스킨</b> 프렌치 워크자켓  378000          \n",
       "4                   르몽생미셸 프렌치 <b>몰스킨</b> 워크자켓 지니언 블루  154000          \n",
       "\n",
       "                                                link         mall  \n",
       "0  https://search.shopping.naver.com/gate.nhn?id=...  몰스킨공식온라인스토어  \n",
       "1  https://search.shopping.naver.com/gate.nhn?id=...          네이버  \n",
       "2  https://search.shopping.naver.com/gate.nhn?id=...         베스트펜  \n",
       "3  https://search.shopping.naver.com/gate.nhn?id=...    스프링스트릿 마켓  \n",
       "4  https://search.shopping.naver.com/gate.nhn?id=...         11번가  "
      ]
     },
     "execution_count": 10,
     "metadata": {},
     "output_type": "execute_result"
    }
   ],
   "source": [
    "get_fields(one_result)"
   ]
  },
  {
   "cell_type": "code",
   "execution_count": 11,
   "metadata": {},
   "outputs": [],
   "source": [
    "def delete_tag(input_str):\n",
    "    input_str = input_str.replace(\"<b>\", \"\")\n",
    "    input_str = input_str.replace(\"</b>\", \"\")\n",
    "\n",
    "    return input_str"
   ]
  },
  {
   "cell_type": "code",
   "execution_count": 12,
   "metadata": {},
   "outputs": [],
   "source": [
    "def get_fields(json_data):\n",
    "    title = [delete_tag(each['title']) for each in json_data['items']]\n",
    "    link = [each['link'] for each in json_data['items']]\n",
    "    lprice = [each['lprice'] for each in json_data['items']]\n",
    "    hprice = [each['hprice'] for each in json_data['items']]\n",
    "    mall_name = [each['mallName'] for each in json_data['items']]\n",
    "\n",
    "    result_pd = pd.DataFrame({'title':title, 'lprice':lprice,\n",
    "                              'hprice':hprice, 'link':link,\n",
    "                              'mall':mall_name},\n",
    "                              columns=['title', 'lprice', 'hprice', 'link', 'mall'])\n",
    "    \n",
    "    return result_pd"
   ]
  },
  {
   "cell_type": "code",
   "execution_count": 13,
   "metadata": {},
   "outputs": [
    {
     "name": "stdout",
     "output_type": "stream",
     "text": [
      "[2024-02-23 16:32:31.427108] Url Request Success\n"
     ]
    },
    {
     "data": {
      "text/html": [
       "<div>\n",
       "<style scoped>\n",
       "    .dataframe tbody tr th:only-of-type {\n",
       "        vertical-align: middle;\n",
       "    }\n",
       "\n",
       "    .dataframe tbody tr th {\n",
       "        vertical-align: top;\n",
       "    }\n",
       "\n",
       "    .dataframe thead th {\n",
       "        text-align: right;\n",
       "    }\n",
       "</style>\n",
       "<table border=\"1\" class=\"dataframe\">\n",
       "  <thead>\n",
       "    <tr style=\"text-align: right;\">\n",
       "      <th></th>\n",
       "      <th>title</th>\n",
       "      <th>lprice</th>\n",
       "      <th>hprice</th>\n",
       "      <th>link</th>\n",
       "      <th>mall</th>\n",
       "    </tr>\n",
       "  </thead>\n",
       "  <tbody>\n",
       "    <tr>\n",
       "      <th>0</th>\n",
       "      <td>[몰스킨] 2024년 클래식 다이어리 (12개월) (데일리, 위클리, 먼슬리)</td>\n",
       "      <td>16200</td>\n",
       "      <td></td>\n",
       "      <td>https://search.shopping.naver.com/gate.nhn?id=...</td>\n",
       "      <td>몰스킨공식온라인스토어</td>\n",
       "    </tr>\n",
       "    <tr>\n",
       "      <th>1</th>\n",
       "      <td>올젠 몰스킨 자켓 ZOD4KG1311</td>\n",
       "      <td>72110</td>\n",
       "      <td></td>\n",
       "      <td>https://search.shopping.naver.com/gate.nhn?id=...</td>\n",
       "      <td>네이버</td>\n",
       "    </tr>\n",
       "    <tr>\n",
       "      <th>2</th>\n",
       "      <td>몰스킨 2024 다이어리 클래식 소프트커버 데일리 라지 2024년 24년</td>\n",
       "      <td>23400</td>\n",
       "      <td></td>\n",
       "      <td>https://search.shopping.naver.com/gate.nhn?id=...</td>\n",
       "      <td>베스트펜</td>\n",
       "    </tr>\n",
       "    <tr>\n",
       "      <th>3</th>\n",
       "      <td>르몽생미셸 지니언 워크자켓 블루 몰스킨 프렌치 워크자켓</td>\n",
       "      <td>378000</td>\n",
       "      <td></td>\n",
       "      <td>https://search.shopping.naver.com/gate.nhn?id=...</td>\n",
       "      <td>스프링스트릿 마켓</td>\n",
       "    </tr>\n",
       "    <tr>\n",
       "      <th>4</th>\n",
       "      <td>르몽생미셸 프렌치 몰스킨 워크자켓 지니언 블루</td>\n",
       "      <td>154000</td>\n",
       "      <td></td>\n",
       "      <td>https://search.shopping.naver.com/gate.nhn?id=...</td>\n",
       "      <td>11번가</td>\n",
       "    </tr>\n",
       "  </tbody>\n",
       "</table>\n",
       "</div>"
      ],
      "text/plain": [
       "                                         title  lprice hprice  \\\n",
       "0  [몰스킨] 2024년 클래식 다이어리 (12개월) (데일리, 위클리, 먼슬리)   16200          \n",
       "1                         올젠 몰스킨 자켓 ZOD4KG1311   72110          \n",
       "2     몰스킨 2024 다이어리 클래식 소프트커버 데일리 라지 2024년 24년   23400          \n",
       "3               르몽생미셸 지니언 워크자켓 블루 몰스킨 프렌치 워크자켓  378000          \n",
       "4                    르몽생미셸 프렌치 몰스킨 워크자켓 지니언 블루  154000          \n",
       "\n",
       "                                                link         mall  \n",
       "0  https://search.shopping.naver.com/gate.nhn?id=...  몰스킨공식온라인스토어  \n",
       "1  https://search.shopping.naver.com/gate.nhn?id=...          네이버  \n",
       "2  https://search.shopping.naver.com/gate.nhn?id=...         베스트펜  \n",
       "3  https://search.shopping.naver.com/gate.nhn?id=...    스프링스트릿 마켓  \n",
       "4  https://search.shopping.naver.com/gate.nhn?id=...         11번가  "
      ]
     },
     "execution_count": 13,
     "metadata": {},
     "output_type": "execute_result"
    }
   ],
   "source": [
    "url = gen_search_url('shop', '몰스킨', 1, 5)\n",
    "json_result = get_result_onpage(url)\n",
    "pd_result = get_fields(json_result)\n",
    "pd_result"
   ]
  },
  {
   "cell_type": "code",
   "execution_count": 14,
   "metadata": {},
   "outputs": [
    {
     "name": "stdout",
     "output_type": "stream",
     "text": [
      "1\n",
      "101\n",
      "201\n",
      "301\n",
      "401\n",
      "501\n",
      "601\n",
      "701\n",
      "801\n",
      "901\n"
     ]
    }
   ],
   "source": [
    "for n in range(1,1000,100):\n",
    "    print(n)"
   ]
  },
  {
   "cell_type": "code",
   "execution_count": 15,
   "metadata": {},
   "outputs": [
    {
     "name": "stdout",
     "output_type": "stream",
     "text": [
      "[2024-02-23 16:32:31.489144] Url Request Success\n",
      "[2024-02-23 16:32:31.546298] Url Request Success\n"
     ]
    },
    {
     "name": "stdout",
     "output_type": "stream",
     "text": [
      "[2024-02-23 16:32:31.820493] Url Request Success\n",
      "[2024-02-23 16:32:32.099338] Url Request Success\n",
      "[2024-02-23 16:32:32.164037] Url Request Success\n",
      "[2024-02-23 16:32:32.223649] Url Request Success\n",
      "[2024-02-23 16:32:32.522957] Url Request Success\n",
      "[2024-02-23 16:32:32.786164] Url Request Success\n",
      "[2024-02-23 16:32:32.865867] Url Request Success\n",
      "[2024-02-23 16:32:32.937250] Url Request Success\n"
     ]
    }
   ],
   "source": [
    "result_mol = []\n",
    "\n",
    "for n in range(1,1000,100):\n",
    "    url = gen_search_url('shop', '\"몰스킨\"', n, 100)\n",
    "    json_result = get_result_onpage(url)\n",
    "    pd_result = get_fields(json_result)\n",
    "\n",
    "    result_mol.append(pd_result)\n",
    "\n",
    "result_mol = pd.concat(result_mol)"
   ]
  },
  {
   "cell_type": "code",
   "execution_count": 16,
   "metadata": {},
   "outputs": [
    {
     "name": "stdout",
     "output_type": "stream",
     "text": [
      "<class 'pandas.core.frame.DataFrame'>\n",
      "Index: 1000 entries, 0 to 99\n",
      "Data columns (total 5 columns):\n",
      " #   Column  Non-Null Count  Dtype \n",
      "---  ------  --------------  ----- \n",
      " 0   title   1000 non-null   object\n",
      " 1   lprice  1000 non-null   object\n",
      " 2   hprice  1000 non-null   object\n",
      " 3   link    1000 non-null   object\n",
      " 4   mall    1000 non-null   object\n",
      "dtypes: object(5)\n",
      "memory usage: 46.9+ KB\n"
     ]
    }
   ],
   "source": [
    "result_mol.info()"
   ]
  },
  {
   "cell_type": "code",
   "execution_count": 17,
   "metadata": {},
   "outputs": [
    {
     "name": "stdout",
     "output_type": "stream",
     "text": [
      "<class 'pandas.core.frame.DataFrame'>\n",
      "RangeIndex: 1000 entries, 0 to 999\n",
      "Data columns (total 5 columns):\n",
      " #   Column  Non-Null Count  Dtype \n",
      "---  ------  --------------  ----- \n",
      " 0   title   1000 non-null   object\n",
      " 1   lprice  1000 non-null   object\n",
      " 2   hprice  1000 non-null   object\n",
      " 3   link    1000 non-null   object\n",
      " 4   mall    1000 non-null   object\n",
      "dtypes: object(5)\n",
      "memory usage: 39.2+ KB\n"
     ]
    }
   ],
   "source": [
    "result_mol.reset_index(drop=True, inplace=True)\n",
    "result_mol.info()"
   ]
  },
  {
   "cell_type": "code",
   "execution_count": 18,
   "metadata": {},
   "outputs": [
    {
     "data": {
      "text/html": [
       "<div>\n",
       "<style scoped>\n",
       "    .dataframe tbody tr th:only-of-type {\n",
       "        vertical-align: middle;\n",
       "    }\n",
       "\n",
       "    .dataframe tbody tr th {\n",
       "        vertical-align: top;\n",
       "    }\n",
       "\n",
       "    .dataframe thead th {\n",
       "        text-align: right;\n",
       "    }\n",
       "</style>\n",
       "<table border=\"1\" class=\"dataframe\">\n",
       "  <thead>\n",
       "    <tr style=\"text-align: right;\">\n",
       "      <th></th>\n",
       "      <th>title</th>\n",
       "      <th>lprice</th>\n",
       "      <th>hprice</th>\n",
       "      <th>link</th>\n",
       "      <th>mall</th>\n",
       "    </tr>\n",
       "  </thead>\n",
       "  <tbody>\n",
       "    <tr>\n",
       "      <th>0</th>\n",
       "      <td>[몰스킨] 2024년 클래식 다이어리 (12개월) (데일리, 위클리, 먼슬리)</td>\n",
       "      <td>16200</td>\n",
       "      <td></td>\n",
       "      <td>https://search.shopping.naver.com/gate.nhn?id=...</td>\n",
       "      <td>몰스킨공식온라인스토어</td>\n",
       "    </tr>\n",
       "    <tr>\n",
       "      <th>1</th>\n",
       "      <td>몰스킨 2024 다이어리 클래식 소프트커버 데일리 라지 2024년 24년</td>\n",
       "      <td>23400</td>\n",
       "      <td></td>\n",
       "      <td>https://search.shopping.naver.com/gate.nhn?id=...</td>\n",
       "      <td>베스트펜</td>\n",
       "    </tr>\n",
       "    <tr>\n",
       "      <th>2</th>\n",
       "      <td>스타벅스 2024년 몰스킨 다이어리 데일리 플래너 일기장 노트 스벅 카페 윈터 e프리퀀시</td>\n",
       "      <td>28000</td>\n",
       "      <td></td>\n",
       "      <td>https://search.shopping.naver.com/gate.nhn?id=...</td>\n",
       "      <td>유니스스토어</td>\n",
       "    </tr>\n",
       "    <tr>\n",
       "      <th>3</th>\n",
       "      <td>몰스킨 2024 위클리 다이어리 라지 상품선택</td>\n",
       "      <td>25200</td>\n",
       "      <td></td>\n",
       "      <td>https://search.shopping.naver.com/gate.nhn?id=...</td>\n",
       "      <td>네이버</td>\n",
       "    </tr>\n",
       "    <tr>\n",
       "      <th>4</th>\n",
       "      <td>몰스킨 2024년 위클리 하드커버 라지 다이어리</td>\n",
       "      <td>26640</td>\n",
       "      <td></td>\n",
       "      <td>https://search.shopping.naver.com/gate.nhn?id=...</td>\n",
       "      <td>펜카페스토어</td>\n",
       "    </tr>\n",
       "  </tbody>\n",
       "</table>\n",
       "</div>"
      ],
      "text/plain": [
       "                                               title lprice hprice  \\\n",
       "0        [몰스킨] 2024년 클래식 다이어리 (12개월) (데일리, 위클리, 먼슬리)  16200          \n",
       "1           몰스킨 2024 다이어리 클래식 소프트커버 데일리 라지 2024년 24년  23400          \n",
       "2  스타벅스 2024년 몰스킨 다이어리 데일리 플래너 일기장 노트 스벅 카페 윈터 e프리퀀시  28000          \n",
       "3                          몰스킨 2024 위클리 다이어리 라지 상품선택  25200          \n",
       "4                         몰스킨 2024년 위클리 하드커버 라지 다이어리  26640          \n",
       "\n",
       "                                                link         mall  \n",
       "0  https://search.shopping.naver.com/gate.nhn?id=...  몰스킨공식온라인스토어  \n",
       "1  https://search.shopping.naver.com/gate.nhn?id=...         베스트펜  \n",
       "2  https://search.shopping.naver.com/gate.nhn?id=...       유니스스토어  \n",
       "3  https://search.shopping.naver.com/gate.nhn?id=...          네이버  \n",
       "4  https://search.shopping.naver.com/gate.nhn?id=...       펜카페스토어  "
      ]
     },
     "execution_count": 18,
     "metadata": {},
     "output_type": "execute_result"
    }
   ],
   "source": [
    "result_mol.head()"
   ]
  },
  {
   "cell_type": "code",
   "execution_count": 19,
   "metadata": {},
   "outputs": [
    {
     "name": "stdout",
     "output_type": "stream",
     "text": [
      "<class 'pandas.core.frame.DataFrame'>\n",
      "RangeIndex: 1000 entries, 0 to 999\n",
      "Data columns (total 5 columns):\n",
      " #   Column  Non-Null Count  Dtype  \n",
      "---  ------  --------------  -----  \n",
      " 0   title   1000 non-null   object \n",
      " 1   lprice  1000 non-null   int64  \n",
      " 2   hprice  0 non-null      float64\n",
      " 3   link    1000 non-null   object \n",
      " 4   mall    1000 non-null   object \n",
      "dtypes: float64(1), int64(1), object(3)\n",
      "memory usage: 39.2+ KB\n"
     ]
    }
   ],
   "source": [
    "result_mol['lprice'] = pd.to_numeric(result_mol['lprice'], errors='coerce')\n",
    "result_mol['hprice'] = pd.to_numeric(result_mol['hprice'], errors='coerce')\n",
    "result_mol.info()"
   ]
  },
  {
   "cell_type": "code",
   "execution_count": 20,
   "metadata": {},
   "outputs": [],
   "source": [
    "writer = pd.ExcelWriter(\"../data/molskin_diary_in_naver_shop.xlsx\",\n",
    "                        engine='xlsxwriter')\n",
    "result_mol.to_excel(writer, sheet_name='Sheet1')\n",
    "\n",
    "workbook = writer.book\n",
    "worksheet = writer.sheets['Sheet1']\n",
    "worksheet.set_column('A:A', 4)\n",
    "worksheet.set_column('B:B', 65)\n",
    "worksheet.set_column('C:C', 10)\n",
    "worksheet.set_column('D:D', 10)\n",
    "worksheet.set_column('E:E', 50)\n",
    "worksheet.set_column('F:F', 15)\n",
    "\n",
    "worksheet.conditional_format('C2:C1001', {'type': '3_color_scale'})\n",
    "\n",
    "writer.close()"
   ]
  },
  {
   "cell_type": "code",
   "execution_count": 23,
   "metadata": {},
   "outputs": [
    {
     "data": {
      "text/plain": [
       "['__name__',\n",
       " '__doc__',\n",
       " '__package__',\n",
       " '__loader__',\n",
       " '__spec__',\n",
       " '__path__',\n",
       " '__file__',\n",
       " '__cached__',\n",
       " '__builtins__',\n",
       " 'annotations',\n",
       " '__docformat__',\n",
       " 'util',\n",
       " 'compat',\n",
       " '_is_numpy_dev',\n",
       " '_typing',\n",
       " '_config',\n",
       " 'get_option',\n",
       " 'set_option',\n",
       " 'reset_option',\n",
       " 'describe_option',\n",
       " 'option_context',\n",
       " 'options',\n",
       " 'core',\n",
       " 'pandas',\n",
       " '_pandas_parser_CAPI',\n",
       " '_pandas_datetime_CAPI',\n",
       " '_libs',\n",
       " 'errors',\n",
       " 'io',\n",
       " 'tseries',\n",
       " 'arrays',\n",
       " 'plotting',\n",
       " 'ArrowDtype',\n",
       " 'Int8Dtype',\n",
       " 'Int16Dtype',\n",
       " 'Int32Dtype',\n",
       " 'Int64Dtype',\n",
       " 'UInt8Dtype',\n",
       " 'UInt16Dtype',\n",
       " 'UInt32Dtype',\n",
       " 'UInt64Dtype',\n",
       " 'Float32Dtype',\n",
       " 'Float64Dtype',\n",
       " 'CategoricalDtype',\n",
       " 'PeriodDtype',\n",
       " 'IntervalDtype',\n",
       " 'DatetimeTZDtype',\n",
       " 'StringDtype',\n",
       " 'BooleanDtype',\n",
       " 'NA',\n",
       " 'isna',\n",
       " 'isnull',\n",
       " 'notna',\n",
       " 'notnull',\n",
       " 'Index',\n",
       " 'CategoricalIndex',\n",
       " 'RangeIndex',\n",
       " 'MultiIndex',\n",
       " 'IntervalIndex',\n",
       " 'TimedeltaIndex',\n",
       " 'DatetimeIndex',\n",
       " 'PeriodIndex',\n",
       " 'IndexSlice',\n",
       " 'NaT',\n",
       " 'Period',\n",
       " 'period_range',\n",
       " 'Timedelta',\n",
       " 'timedelta_range',\n",
       " 'Timestamp',\n",
       " 'date_range',\n",
       " 'bdate_range',\n",
       " 'Interval',\n",
       " 'interval_range',\n",
       " 'DateOffset',\n",
       " 'to_numeric',\n",
       " 'to_datetime',\n",
       " 'to_timedelta',\n",
       " 'Flags',\n",
       " 'Grouper',\n",
       " 'factorize',\n",
       " 'unique',\n",
       " 'value_counts',\n",
       " 'NamedAgg',\n",
       " 'array',\n",
       " 'Categorical',\n",
       " 'set_eng_float_format',\n",
       " 'Series',\n",
       " 'DataFrame',\n",
       " 'SparseDtype',\n",
       " 'infer_freq',\n",
       " 'offsets',\n",
       " 'eval',\n",
       " 'concat',\n",
       " 'lreshape',\n",
       " 'melt',\n",
       " 'wide_to_long',\n",
       " 'merge',\n",
       " 'merge_asof',\n",
       " 'merge_ordered',\n",
       " 'crosstab',\n",
       " 'pivot',\n",
       " 'pivot_table',\n",
       " 'get_dummies',\n",
       " 'from_dummies',\n",
       " 'cut',\n",
       " 'qcut',\n",
       " 'api',\n",
       " '_testing',\n",
       " 'testing',\n",
       " 'show_versions',\n",
       " 'ExcelFile',\n",
       " 'ExcelWriter',\n",
       " 'read_excel',\n",
       " 'read_csv',\n",
       " 'read_fwf',\n",
       " 'read_table',\n",
       " 'read_pickle',\n",
       " 'to_pickle',\n",
       " 'HDFStore',\n",
       " 'read_hdf',\n",
       " 'read_sql',\n",
       " 'read_sql_query',\n",
       " 'read_sql_table',\n",
       " 'read_clipboard',\n",
       " 'read_parquet',\n",
       " 'read_orc',\n",
       " 'read_feather',\n",
       " 'read_gbq',\n",
       " 'read_html',\n",
       " 'read_xml',\n",
       " 'read_json',\n",
       " 'read_stata',\n",
       " 'read_sas',\n",
       " 'read_spss',\n",
       " 'json_normalize',\n",
       " 'test',\n",
       " '_built_with_meson',\n",
       " '_version_meson',\n",
       " '__version__',\n",
       " '__git_version__',\n",
       " '__all__']"
      ]
     },
     "execution_count": 23,
     "metadata": {},
     "output_type": "execute_result"
    }
   ],
   "source": [
    "pd.__dir__()"
   ]
  }
 ],
 "metadata": {
  "kernelspec": {
   "display_name": "eda_venv",
   "language": "python",
   "name": "python3"
  },
  "language_info": {
   "codemirror_mode": {
    "name": "ipython",
    "version": 3
   },
   "file_extension": ".py",
   "mimetype": "text/x-python",
   "name": "python",
   "nbconvert_exporter": "python",
   "pygments_lexer": "ipython3",
   "version": "3.10.12"
  }
 },
 "nbformat": 4,
 "nbformat_minor": 2
}
