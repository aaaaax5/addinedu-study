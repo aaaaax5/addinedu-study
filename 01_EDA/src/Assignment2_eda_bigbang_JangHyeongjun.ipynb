{
 "cells": [
  {
   "cell_type": "code",
   "execution_count": 2,
   "metadata": {},
   "outputs": [],
   "source": [
    "from selenium import webdriver\n",
    "from selenium.webdriver.chrome.service import Service\n",
    "from selenium.webdriver.common.by import By\n",
    "from selenium.webdriver.common.keys import Keys\n",
    "from selenium.webdriver.support.wait import WebDriverWait\n",
    "from selenium.webdriver.support import expected_conditions as EC\n",
    "from selenium.webdriver.common.action_chains import ActionChains\n",
    "from selenium.common.exceptions import ElementNotInteractableException\n",
    "from selenium.common.exceptions import NoSuchElementException\n",
    "from selenium.webdriver.support.select import Select\n",
    "import time\n",
    "from tqdm.notebook import tqdm\n",
    "from glob import glob\n",
    "from bs4 import BeautifulSoup\n",
    "from urllib.request import urlopen, Request\n",
    "from user_agent import generate_user_agent\n",
    "import pandas as pd\n",
    "import matplotlib.pyplot as plt\n",
    "import seaborn as sns\n",
    "import koreanize_matplotlib\n",
    "import json\n",
    "import folium\n",
    "import warnings\n",
    "import numpy as np\n",
    "import datetime\n",
    "import re\n"
   ]
  },
  {
   "cell_type": "code",
   "execution_count": null,
   "metadata": {},
   "outputs": [],
   "source": [
    "url = \"https://www.imdb.com/\"\n",
    "driver = webdriver.Chrome(service=Service(\"../driver/chromedriver\"))\n",
    "driver.get(url)"
   ]
  },
  {
   "cell_type": "code",
   "execution_count": null,
   "metadata": {},
   "outputs": [],
   "source": [
    "search = driver.find_element(By. ID, \"suggestion-search\")\n",
    "search.click()\n",
    "search.send_keys('The Big Bang Theory')"
   ]
  },
  {
   "cell_type": "code",
   "execution_count": null,
   "metadata": {},
   "outputs": [],
   "source": [
    "select_title = driver.find_element(By.ID, \"react-autowhatever-navSuggestionSearch--item-0\")\n",
    "select_title.click()"
   ]
  },
  {
   "cell_type": "markdown",
   "metadata": {},
   "source": [
    "### 회차 조회"
   ]
  },
  {
   "cell_type": "code",
   "execution_count": null,
   "metadata": {},
   "outputs": [],
   "source": [
    "select_title = driver.find_element(By.CLASS_NAME, 'episode-guide-text')\n",
    "select_title.click()"
   ]
  },
  {
   "cell_type": "code",
   "execution_count": null,
   "metadata": {},
   "outputs": [],
   "source": [
    "episode_elements = driver.find_elements(By.CLASS_NAME, 'ipc-title__text')\n",
    "episode_titles = [episode.text for episode in episode_elements]\n",
    "episode_titles"
   ]
  },
  {
   "cell_type": "code",
   "execution_count": null,
   "metadata": {},
   "outputs": [],
   "source": [
    "try:\n",
    "    # \"season\" 탭 요소 찾기 (클래스를 사용하여)\n",
    "    season_tab = WebDriverWait(driver, 10).until(\n",
    "        EC.presence_of_element_located((By.CLASS_NAME, 'ipc-tab-link'))\n",
    "    )\n",
    "\n",
    "    # \"season\" 탭 클릭\n",
    "    season_tab.click()\n",
    "\n",
    "    # 임시 리스트 생성\n",
    "    data = []\n",
    "\n",
    "    # \"season\" 탭이 클릭된 후에 각 시즌으로 이동하여 에피소드 제목 가져오기\n",
    "    for season_number in range(1, 13):  # 1부터 12까지의 시즌\n",
    "        # 시즌 페이지 URL 생성\n",
    "        season_url = f'https://www.imdb.com/title/tt0898266/episodes/?season={season_number}'\n",
    "\n",
    "        # 시즌 페이지로 이동\n",
    "        driver.get(season_url)\n",
    "\n",
    "        # 해당 페이지의 모든 요소가 로드될 때까지 대기\n",
    "        time.sleep(1)\n",
    "\n",
    "        # 해당 시즌의 모든 에피소드 제목 요소 찾기\n",
    "        episode_elements = driver.find_elements(By.CLASS_NAME, 'ipc-title__text')\n",
    "        season_episode_titles = [episode.text for episode in episode_elements if episode.text.startswith('S')]\n",
    "\n",
    "        # 데이터 리스트에 추가\n",
    "        for episode_title in season_episode_titles:\n",
    "            data.append({'Season': f'Season {season_number}', 'Title': episode_title})\n",
    "\n",
    "    # 데이터 프레임 생성\n",
    "    df = pd.DataFrame(data)\n",
    "\n",
    "except Exception as e:\n",
    "    print(\"An error occurred:\", e)\n",
    "\n",
    "# 데이터 프레임 출력\n",
    "print(df)"
   ]
  },
  {
   "cell_type": "code",
   "execution_count": null,
   "metadata": {},
   "outputs": [],
   "source": [
    "df.to_excel('../data/episode_data.xlsx', index=False)"
   ]
  },
  {
   "cell_type": "markdown",
   "metadata": {},
   "source": [
    "### 상영일자 조회"
   ]
  },
  {
   "cell_type": "code",
   "execution_count": null,
   "metadata": {},
   "outputs": [],
   "source": [
    "# 임시 리스트 생성\n",
    "episode_aired_dates = []\n",
    "\n",
    "# \"season\" 탭이 클릭된 후에 각 시즌으로 이동하여 에피소드 제목과 방영일 가져오기\n",
    "for season_number in range(1, 13):  # 1부터 12까지의 시즌\n",
    "    # 시즌 페이지 URL 생성\n",
    "    season_url = f'https://www.imdb.com/title/tt0898266/episodes/?season={season_number}'\n",
    "\n",
    "    # 시즌 페이지로 이동\n",
    "    driver.get(season_url)\n",
    "\n",
    "    # 해당 페이지의 모든 요소가 로드될 때까지 대기\n",
    "    time.sleep(1)\n",
    "\n",
    "    # 해당 시즌의 모든 에피소드 방영일 요소 찾기\n",
    "    episode_aired_elements = driver.find_elements(By.CLASS_NAME, 'sc-f2169d65-10.iZXnmI')\n",
    "    \n",
    "    # 에피소드 방영일 가져와서 리스트에 추가\n",
    "    for element in episode_aired_elements:\n",
    "        episode_aired_dates.append(element.text)\n",
    "\n",
    "# 'Episode aired' 컬럼을 데이터프레임에 추가\n",
    "df['Aired'] = episode_aired_dates\n",
    "\n",
    "# 데이터프레임 출력\n",
    "print(df)\n"
   ]
  },
  {
   "cell_type": "markdown",
   "metadata": {},
   "source": [
    "### 방영일 형식 수정"
   ]
  },
  {
   "cell_type": "code",
   "execution_count": null,
   "metadata": {},
   "outputs": [],
   "source": [
    "# Episode aired 컬럼의 값을 수정하여 YYYY.MM.DD 형식으로 변경\n",
    "df['Aired'] = df['Aired'].apply(lambda x: datetime.datetime.strptime(x, \"%a, %b %d, %Y\").strftime(\"%Y.%m.%d\"))\n",
    "\n",
    "# 데이터프레임 출력\n",
    "print(df)"
   ]
  },
  {
   "cell_type": "code",
   "execution_count": null,
   "metadata": {},
   "outputs": [],
   "source": [
    "df.to_excel('../data/episode_aired_update.xlsx', index=False)"
   ]
  },
  {
   "cell_type": "markdown",
   "metadata": {},
   "source": [
    "### 평점 조회"
   ]
  },
  {
   "cell_type": "code",
   "execution_count": null,
   "metadata": {},
   "outputs": [],
   "source": [
    "# IMDb rating 요소를 클래스를 사용하여 찾기\n",
    "rating_element = driver.find_element(By.CSS_SELECTOR, \".ipc-rating-star--base\")\n",
    "\n",
    "# 요소 내부의 텍스트 가져오기\n",
    "rating_text = rating_element.text\n",
    "\n",
    "# 가져온 텍스트 출력\n",
    "print(rating_text)"
   ]
  },
  {
   "cell_type": "markdown",
   "metadata": {},
   "source": [
    "### 평점 조회시 Seasons 탭의 정보만 알고 싶음.\n",
    "### 하지만 그 위에 TOP-RATED에 속하는 에피소드 평점도 가져옴;;"
   ]
  },
  {
   "cell_type": "markdown",
   "metadata": {},
   "source": [
    "### 그래서 Seasons 탭에 해당하는 클래스 찾은 후 평점 가져오기!"
   ]
  },
  {
   "cell_type": "code",
   "execution_count": null,
   "metadata": {},
   "outputs": [],
   "source": [
    "# 클래스를 사용하여 상위 요소를 찾기\n",
    "parent_element = driver.find_element(By.CSS_SELECTOR, \".sc-f2169d65-1\")\n",
    "\n",
    "# 상위 요소 내부의 평점 요소를 클래스를 사용하여 찾기\n",
    "rating_element = parent_element.find_element(By.CSS_SELECTOR, \".ipc-rating-star--base\")\n",
    "\n",
    "# 평점 요소의 텍스트 가져오기\n",
    "rating_text = rating_element.text\n",
    "\n",
    "# 가져온 텍스트에서 숫자만 추출하여 실수로 변환\n",
    "rating_value = re.search(r'(\\d+\\.\\d+)', rating_text).group(0)\n",
    "rating_float = float(rating_value)\n",
    "\n",
    "# 가져온 평점 값 출력\n",
    "print(rating_float)"
   ]
  },
  {
   "cell_type": "code",
   "execution_count": null,
   "metadata": {},
   "outputs": [],
   "source": [
    "# 임시 리스트 생성\n",
    "ratings = []\n",
    "\n",
    "# \"season\" 탭이 클릭된 후에 각 시즌으로 이동하여 에피소드 평점 가져오기\n",
    "for season_number in range(1, 13):  # 1부터 12까지의 시즌\n",
    "    # 시즌 페이지 URL 생성\n",
    "    season_url = f'https://www.imdb.com/title/tt0898266/episodes/?season={season_number}'\n",
    "\n",
    "    # 시즌 페이지로 이동\n",
    "    driver.get(season_url)\n",
    "\n",
    "    # 해당 페이지의 모든 요소가 로드될 때까지 대기\n",
    "    time.sleep(1)\n",
    "\n",
    "    # 해당 시즌의 모든 에피소드 평점 요소 찾기\n",
    "    rating_elements = driver.find_elements(By.CLASS_NAME, 'sc-f2169d65-1.bomFtL')\n",
    "    \n",
    "    # 에피소드 평점 가져와서 리스트에 추가\n",
    "    for element in rating_elements:\n",
    "        # 에피소드 평점에서 숫자만 추출하여 실수로 변환\n",
    "        rating_text = element.text\n",
    "        rating_value = re.search(r'(\\d+\\.\\d+)', rating_text)\n",
    "        \n",
    "        # 평점이 있는 경우에만 추가\n",
    "        if rating_value:\n",
    "            rating_float = float(rating_value.group(0))\n",
    "            ratings.append(rating_float)\n",
    "\n",
    "# 'Rated' 컬럼을 데이터프레임에 추가\n",
    "df['Rated'] = ratings\n",
    "\n",
    "# 데이터프레임 출력\n",
    "print(df)\n"
   ]
  },
  {
   "cell_type": "code",
   "execution_count": null,
   "metadata": {},
   "outputs": [],
   "source": [
    "df.to_excel('../data/episode_rated_update.xlsx', index=False)"
   ]
  },
  {
   "cell_type": "markdown",
   "metadata": {},
   "source": [
    "### 크롤링 완료 -> 창 off"
   ]
  },
  {
   "cell_type": "code",
   "execution_count": null,
   "metadata": {},
   "outputs": [],
   "source": [
    "driver.close()"
   ]
  },
  {
   "cell_type": "markdown",
   "metadata": {},
   "source": [
    "### 데이터 분석"
   ]
  },
  {
   "cell_type": "markdown",
   "metadata": {},
   "source": [
    "### 저장한 파일 불러오기"
   ]
  },
  {
   "cell_type": "code",
   "execution_count": 3,
   "metadata": {},
   "outputs": [
    {
     "data": {
      "text/html": [
       "<div>\n",
       "<style scoped>\n",
       "    .dataframe tbody tr th:only-of-type {\n",
       "        vertical-align: middle;\n",
       "    }\n",
       "\n",
       "    .dataframe tbody tr th {\n",
       "        vertical-align: top;\n",
       "    }\n",
       "\n",
       "    .dataframe thead th {\n",
       "        text-align: right;\n",
       "    }\n",
       "</style>\n",
       "<table border=\"1\" class=\"dataframe\">\n",
       "  <thead>\n",
       "    <tr style=\"text-align: right;\">\n",
       "      <th></th>\n",
       "      <th>Season</th>\n",
       "      <th>Title</th>\n",
       "      <th>Aired</th>\n",
       "      <th>Rated</th>\n",
       "    </tr>\n",
       "  </thead>\n",
       "  <tbody>\n",
       "    <tr>\n",
       "      <th>0</th>\n",
       "      <td>Season 1</td>\n",
       "      <td>S1.E1 ∙ Pilot</td>\n",
       "      <td>2007.09.24</td>\n",
       "      <td>8.1</td>\n",
       "    </tr>\n",
       "    <tr>\n",
       "      <th>1</th>\n",
       "      <td>Season 1</td>\n",
       "      <td>S1.E2 ∙ The Big Bran Hypothesis</td>\n",
       "      <td>2007.10.01</td>\n",
       "      <td>8.2</td>\n",
       "    </tr>\n",
       "    <tr>\n",
       "      <th>2</th>\n",
       "      <td>Season 1</td>\n",
       "      <td>S1.E3 ∙ The Fuzzy Boots Corollary</td>\n",
       "      <td>2007.10.08</td>\n",
       "      <td>7.6</td>\n",
       "    </tr>\n",
       "    <tr>\n",
       "      <th>3</th>\n",
       "      <td>Season 1</td>\n",
       "      <td>S1.E4 ∙ The Luminous Fish Effect</td>\n",
       "      <td>2007.10.15</td>\n",
       "      <td>8.0</td>\n",
       "    </tr>\n",
       "    <tr>\n",
       "      <th>4</th>\n",
       "      <td>Season 1</td>\n",
       "      <td>S1.E5 ∙ The Hamburger Postulate</td>\n",
       "      <td>2007.10.22</td>\n",
       "      <td>7.9</td>\n",
       "    </tr>\n",
       "    <tr>\n",
       "      <th>...</th>\n",
       "      <td>...</td>\n",
       "      <td>...</td>\n",
       "      <td>...</td>\n",
       "      <td>...</td>\n",
       "    </tr>\n",
       "    <tr>\n",
       "      <th>274</th>\n",
       "      <td>Season 12</td>\n",
       "      <td>S12.E20 ∙ The Decision Reverberation</td>\n",
       "      <td>2019.04.25</td>\n",
       "      <td>7.1</td>\n",
       "    </tr>\n",
       "    <tr>\n",
       "      <th>275</th>\n",
       "      <td>Season 12</td>\n",
       "      <td>S12.E21 ∙ The Plagiarism Schism</td>\n",
       "      <td>2019.05.02</td>\n",
       "      <td>7.2</td>\n",
       "    </tr>\n",
       "    <tr>\n",
       "      <th>276</th>\n",
       "      <td>Season 12</td>\n",
       "      <td>S12.E22 ∙ The Maternal Conclusion</td>\n",
       "      <td>2019.05.09</td>\n",
       "      <td>7.9</td>\n",
       "    </tr>\n",
       "    <tr>\n",
       "      <th>277</th>\n",
       "      <td>Season 12</td>\n",
       "      <td>S12.E23 ∙ The Change Constant</td>\n",
       "      <td>2019.05.16</td>\n",
       "      <td>9.0</td>\n",
       "    </tr>\n",
       "    <tr>\n",
       "      <th>278</th>\n",
       "      <td>Season 12</td>\n",
       "      <td>S12.E24 ∙ The Stockholm Syndrome</td>\n",
       "      <td>2019.05.16</td>\n",
       "      <td>9.5</td>\n",
       "    </tr>\n",
       "  </tbody>\n",
       "</table>\n",
       "<p>279 rows × 4 columns</p>\n",
       "</div>"
      ],
      "text/plain": [
       "        Season                                 Title       Aired  Rated\n",
       "0     Season 1                         S1.E1 ∙ Pilot  2007.09.24    8.1\n",
       "1     Season 1       S1.E2 ∙ The Big Bran Hypothesis  2007.10.01    8.2\n",
       "2     Season 1     S1.E3 ∙ The Fuzzy Boots Corollary  2007.10.08    7.6\n",
       "3     Season 1      S1.E4 ∙ The Luminous Fish Effect  2007.10.15    8.0\n",
       "4     Season 1       S1.E5 ∙ The Hamburger Postulate  2007.10.22    7.9\n",
       "..         ...                                   ...         ...    ...\n",
       "274  Season 12  S12.E20 ∙ The Decision Reverberation  2019.04.25    7.1\n",
       "275  Season 12       S12.E21 ∙ The Plagiarism Schism  2019.05.02    7.2\n",
       "276  Season 12     S12.E22 ∙ The Maternal Conclusion  2019.05.09    7.9\n",
       "277  Season 12         S12.E23 ∙ The Change Constant  2019.05.16    9.0\n",
       "278  Season 12      S12.E24 ∙ The Stockholm Syndrome  2019.05.16    9.5\n",
       "\n",
       "[279 rows x 4 columns]"
      ]
     },
     "execution_count": 3,
     "metadata": {},
     "output_type": "execute_result"
    }
   ],
   "source": [
    "df = pd.read_excel('../data/episode_rated_update.xlsx')\n",
    "df"
   ]
  },
  {
   "cell_type": "code",
   "execution_count": 4,
   "metadata": {},
   "outputs": [
    {
     "data": {
      "text/html": [
       "<div>\n",
       "<style scoped>\n",
       "    .dataframe tbody tr th:only-of-type {\n",
       "        vertical-align: middle;\n",
       "    }\n",
       "\n",
       "    .dataframe tbody tr th {\n",
       "        vertical-align: top;\n",
       "    }\n",
       "\n",
       "    .dataframe thead th {\n",
       "        text-align: right;\n",
       "    }\n",
       "</style>\n",
       "<table border=\"1\" class=\"dataframe\">\n",
       "  <thead>\n",
       "    <tr style=\"text-align: right;\">\n",
       "      <th></th>\n",
       "      <th>Season</th>\n",
       "      <th>Title</th>\n",
       "      <th>Aired</th>\n",
       "      <th>Rated</th>\n",
       "    </tr>\n",
       "  </thead>\n",
       "  <tbody>\n",
       "    <tr>\n",
       "      <th>0</th>\n",
       "      <td>S1.E1</td>\n",
       "      <td>Pilot</td>\n",
       "      <td>2007.09.24</td>\n",
       "      <td>8.1</td>\n",
       "    </tr>\n",
       "    <tr>\n",
       "      <th>1</th>\n",
       "      <td>S1.E2</td>\n",
       "      <td>The Big Bran Hypothesis</td>\n",
       "      <td>2007.10.01</td>\n",
       "      <td>8.2</td>\n",
       "    </tr>\n",
       "    <tr>\n",
       "      <th>2</th>\n",
       "      <td>S1.E3</td>\n",
       "      <td>The Fuzzy Boots Corollary</td>\n",
       "      <td>2007.10.08</td>\n",
       "      <td>7.6</td>\n",
       "    </tr>\n",
       "    <tr>\n",
       "      <th>3</th>\n",
       "      <td>S1.E4</td>\n",
       "      <td>The Luminous Fish Effect</td>\n",
       "      <td>2007.10.15</td>\n",
       "      <td>8.0</td>\n",
       "    </tr>\n",
       "    <tr>\n",
       "      <th>4</th>\n",
       "      <td>S1.E5</td>\n",
       "      <td>The Hamburger Postulate</td>\n",
       "      <td>2007.10.22</td>\n",
       "      <td>7.9</td>\n",
       "    </tr>\n",
       "    <tr>\n",
       "      <th>...</th>\n",
       "      <td>...</td>\n",
       "      <td>...</td>\n",
       "      <td>...</td>\n",
       "      <td>...</td>\n",
       "    </tr>\n",
       "    <tr>\n",
       "      <th>274</th>\n",
       "      <td>S12.E20</td>\n",
       "      <td>The Decision Reverberation</td>\n",
       "      <td>2019.04.25</td>\n",
       "      <td>7.1</td>\n",
       "    </tr>\n",
       "    <tr>\n",
       "      <th>275</th>\n",
       "      <td>S12.E21</td>\n",
       "      <td>The Plagiarism Schism</td>\n",
       "      <td>2019.05.02</td>\n",
       "      <td>7.2</td>\n",
       "    </tr>\n",
       "    <tr>\n",
       "      <th>276</th>\n",
       "      <td>S12.E22</td>\n",
       "      <td>The Maternal Conclusion</td>\n",
       "      <td>2019.05.09</td>\n",
       "      <td>7.9</td>\n",
       "    </tr>\n",
       "    <tr>\n",
       "      <th>277</th>\n",
       "      <td>S12.E23</td>\n",
       "      <td>The Change Constant</td>\n",
       "      <td>2019.05.16</td>\n",
       "      <td>9.0</td>\n",
       "    </tr>\n",
       "    <tr>\n",
       "      <th>278</th>\n",
       "      <td>S12.E24</td>\n",
       "      <td>The Stockholm Syndrome</td>\n",
       "      <td>2019.05.16</td>\n",
       "      <td>9.5</td>\n",
       "    </tr>\n",
       "  </tbody>\n",
       "</table>\n",
       "<p>279 rows × 4 columns</p>\n",
       "</div>"
      ],
      "text/plain": [
       "       Season                        Title       Aired  Rated\n",
       "0      S1.E1                         Pilot  2007.09.24    8.1\n",
       "1      S1.E2       The Big Bran Hypothesis  2007.10.01    8.2\n",
       "2      S1.E3     The Fuzzy Boots Corollary  2007.10.08    7.6\n",
       "3      S1.E4      The Luminous Fish Effect  2007.10.15    8.0\n",
       "4      S1.E5       The Hamburger Postulate  2007.10.22    7.9\n",
       "..        ...                          ...         ...    ...\n",
       "274  S12.E20    The Decision Reverberation  2019.04.25    7.1\n",
       "275  S12.E21         The Plagiarism Schism  2019.05.02    7.2\n",
       "276  S12.E22       The Maternal Conclusion  2019.05.09    7.9\n",
       "277  S12.E23           The Change Constant  2019.05.16    9.0\n",
       "278  S12.E24        The Stockholm Syndrome  2019.05.16    9.5\n",
       "\n",
       "[279 rows x 4 columns]"
      ]
     },
     "execution_count": 4,
     "metadata": {},
     "output_type": "execute_result"
    }
   ],
   "source": [
    "# Episode Title 컬럼에서 Season 정보 추출\n",
    "df['Season'] = df['Title'].str.extract('([^∙]+)')\n",
    "\n",
    "# Episode Title 컬럼에서 Season 정보 이전의 텍스트 추출하여 Season 컬럼으로 채우기\n",
    "df['Title'] = df['Title'].str.split('∙').str[1]\n",
    "\n",
    "# 데이터 프레임 출력\n",
    "df"
   ]
  },
  {
   "cell_type": "code",
   "execution_count": 6,
   "metadata": {},
   "outputs": [],
   "source": [
    "df.to_excel('../data/episode_final_update.xlsx', index=False)"
   ]
  },
  {
   "cell_type": "code",
   "execution_count": 5,
   "metadata": {},
   "outputs": [
    {
     "name": "stdout",
     "output_type": "stream",
     "text": [
      "<class 'pandas.core.frame.DataFrame'>\n",
      "RangeIndex: 279 entries, 0 to 278\n",
      "Data columns (total 4 columns):\n",
      " #   Column  Non-Null Count  Dtype  \n",
      "---  ------  --------------  -----  \n",
      " 0   Season  279 non-null    object \n",
      " 1   Title   279 non-null    object \n",
      " 2   Aired   279 non-null    object \n",
      " 3   Rated   279 non-null    float64\n",
      "dtypes: float64(1), object(3)\n",
      "memory usage: 8.8+ KB\n"
     ]
    }
   ],
   "source": [
    "df.info()"
   ]
  },
  {
   "cell_type": "markdown",
   "metadata": {},
   "source": [
    "### 평점순 에피소드 정렬"
   ]
  },
  {
   "cell_type": "code",
   "execution_count": null,
   "metadata": {},
   "outputs": [],
   "source": [
    "df_sorted_by_rated = df.sort_values(by='Rated', ascending=False).reset_index(drop=True)\n",
    "\n",
    "df_sorted_by_rated"
   ]
  },
  {
   "cell_type": "markdown",
   "metadata": {},
   "source": [
    "### 방영일 오래된 순 정렬"
   ]
  },
  {
   "cell_type": "code",
   "execution_count": null,
   "metadata": {},
   "outputs": [],
   "source": [
    "df_sorted_by_date = df.sort_values(by='Aired', ascending=True).reset_index(drop=True)\n",
    "\n",
    "df_sorted_by_date"
   ]
  },
  {
   "cell_type": "markdown",
   "metadata": {},
   "source": [
    "### 최근 방영일 순 정렬"
   ]
  },
  {
   "cell_type": "code",
   "execution_count": null,
   "metadata": {},
   "outputs": [],
   "source": [
    "df_sorted_by_date = df.sort_values(by='Aired', ascending=False).reset_index(drop=True)\n",
    "\n",
    "df_sorted_by_date"
   ]
  },
  {
   "cell_type": "markdown",
   "metadata": {},
   "source": [
    "### 각 시즌별 평점 분포"
   ]
  },
  {
   "cell_type": "code",
   "execution_count": 32,
   "metadata": {},
   "outputs": [
    {
     "data": {
      "image/png": "[encoded data removed]",
      "text/plain": [
       "<Figure size 800x800 with 1 Axes>"
      ]
     },
     "metadata": {},
     "output_type": "display_data"
    }
   ],
   "source": [
    "# Excel 파일에서 데이터 프레임으로 불러오기\n",
    "df = pd.read_excel('../data/episode_final_update.xlsx')\n",
    "\n",
    "# 시즌 번호 추출 함수 정의\n",
    "def extract_season_number(season):\n",
    "    return int(season.split('.')[0].replace('S', ''))\n",
    "\n",
    "# 'Season' 열에서 시즌 번호 추출\n",
    "df['SeasonNumber'] = df['Season'].apply(extract_season_number)\n",
    "\n",
    "# 각 시즌별 총 평점 계산\n",
    "season_total_ratings = df.groupby('SeasonNumber')['Rated'].sum()\n",
    "\n",
    "# 전체 총 평점 계산\n",
    "total_ratings = df['Rated'].sum()\n",
    "\n",
    "# 각 시즌별 총 평점이 전체 총 평점 중에서 차지하는 백분율 계산\n",
    "season_ratings_percentage = (season_total_ratings / total_ratings) * 100\n",
    "\n",
    "# 원 그래프 생성\n",
    "plt.figure(figsize=(8, 8))\n",
    "plt.pie(season_ratings_percentage, labels=season_ratings_percentage.index, autopct='%1.1f%%', startangle=140)\n",
    "plt.title('Percentage of Total Ratings by Season', pad=20)  # 제목에 공백 추가\n",
    "plt.gca().set_aspect('equal')  # 원이 동그랗게 보이도록 함\n",
    "plt.show()"
   ]
  },
  {
   "cell_type": "markdown",
   "metadata": {},
   "source": [
    "### 재밌는 시즌 줄세우기"
   ]
  },
  {
   "cell_type": "code",
   "execution_count": 25,
   "metadata": {},
   "outputs": [
    {
     "data": {
      "image/png": "[encoded data removed]",
      "text/plain": [
       "<Figure size 1000x600 with 2 Axes>"
      ]
     },
     "metadata": {},
     "output_type": "display_data"
    }
   ],
   "source": [
    "# Excel 파일에서 데이터 프레임으로 불러오기\n",
    "df = pd.read_excel('../data/episode_final_update.xlsx')\n",
    "\n",
    "# 시즌 번호 추출 함수 정의\n",
    "def extract_season_number(season):\n",
    "    return int(season.split('.')[0].replace('S', ''))\n",
    "\n",
    "# 'Season' 열에서 시즌 번호 추출하여 새로운 열 생성\n",
    "df['SeasonNumber'] = df['Season'].apply(extract_season_number)\n",
    "\n",
    "# 같은 시즌별 평균 평점 계산\n",
    "season_avg_ratings = df.groupby('SeasonNumber')['Rated'].mean()\n",
    "# 내림차순 정렬 후 인덱스 재설정\n",
    "season_avg_ratings = season_avg_ratings.sort_values(ascending=False).reset_index(drop=True)\n",
    "\n",
    "# 히트맵 색상 설정\n",
    "norm = plt.Normalize(season_avg_ratings.min(), season_avg_ratings.max())\n",
    "colors = plt.cm.viridis_r(norm(season_avg_ratings))\n",
    "\n",
    "# 막대 그래프 그리기\n",
    "plt.figure(figsize=(10, 6))\n",
    "bars = plt.barh(np.arange(len(season_avg_ratings)), season_avg_ratings, color=colors)\n",
    "\n",
    "# 막대 그래프의 y축 위치 조정\n",
    "plt.gca().invert_yaxis()\n",
    "\n",
    "# 막대 그래프 위에 평균 평점 표시\n",
    "for i, rating in enumerate(season_avg_ratings):\n",
    "    text_color = 'black' if (rating - season_avg_ratings.min()) / (season_avg_ratings.max() - season_avg_ratings.min()) < 0.5 else 'white'\n",
    "    plt.text(season_avg_ratings.min(), i, round(rating, 2), ha='right', va='center', color=text_color, fontsize=13)\n",
    "\n",
    "# 히트맵 설정\n",
    "sm = plt.cm.ScalarMappable(cmap='viridis_r', norm=norm)\n",
    "sm.set_array([])\n",
    "plt.colorbar(sm, orientation='vertical', ax=plt.gca())  # Specify Axes for colorbar\n",
    "\n",
    "plt.title('시즌별 평균 평점')\n",
    "plt.xlabel('평균 평점')\n",
    "plt.ylabel('시즌')\n",
    "plt.yticks(np.arange(len(season_avg_ratings)), season_avg_ratings.index + 1)\n",
    "plt.show()"
   ]
  }
 ],
 "metadata": {
  "kernelspec": {
   "display_name": "eda_venv",
   "language": "python",
   "name": "python3"
  },
  "language_info": {
   "codemirror_mode": {
    "name": "ipython",
    "version": 3
   },
   "file_extension": ".py",
   "mimetype": "text/x-python",
   "name": "python",
   "nbconvert_exporter": "python",
   "pygments_lexer": "ipython3",
   "version": "3.10.12"
  }
 },
 "nbformat": 4,
 "nbformat_minor": 2
}
