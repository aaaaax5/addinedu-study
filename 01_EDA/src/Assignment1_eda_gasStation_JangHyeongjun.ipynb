{
 "cells": [
  {
   "cell_type": "markdown",
   "metadata": {},
   "source": [
    "### Import"
   ]
  },
  {
   "cell_type": "code",
   "execution_count": 1,
   "metadata": {},
   "outputs": [
    {
     "name": "stderr",
     "output_type": "stream",
     "text": [
      "/tmp/ipykernel_13704/2647609528.py:18: DeprecationWarning: \n",
      "Pyarrow will become a required dependency of pandas in the next major release of pandas (pandas 3.0),\n",
      "(to allow more performant data types, such as the Arrow string type, and better interoperability with other libraries)\n",
      "but was not found to be installed on your system.\n",
      "If this would cause problems for you,\n",
      "please provide us feedback at https://github.com/pandas-dev/pandas/issues/54466\n",
      "        \n",
      "  import pandas as pd\n"
     ]
    }
   ],
   "source": [
    "from selenium import webdriver\n",
    "from selenium.webdriver.chrome.service import Service\n",
    "from selenium.webdriver.common.by import By\n",
    "from selenium.webdriver.common.keys import Keys\n",
    "from selenium.webdriver.support.wait import WebDriverWait\n",
    "from selenium.webdriver.support import expected_conditions as EC\n",
    "from selenium.webdriver.common.action_chains import ActionChains\n",
    "from selenium.common.exceptions import ElementNotInteractableException\n",
    "from selenium.common.exceptions import NoSuchElementException\n",
    "from selenium.webdriver.support.select import Select\n",
    "import time\n",
    "from tqdm.notebook import tqdm\n",
    "from glob import glob\n",
    "from geopy.geocoders import Nominatim\n",
    "from bs4 import BeautifulSoup\n",
    "from urllib.request import urlopen, Request\n",
    "from user_agent import generate_user_agent\n",
    "import pandas as pd\n",
    "import matplotlib.pyplot as plt\n",
    "import seaborn as sns\n",
    "import koreanize_matplotlib\n",
    "import json\n",
    "import folium\n",
    "import warnings\n",
    "import numpy as np\n"
   ]
  },
  {
   "cell_type": "markdown",
   "metadata": {},
   "source": [
    "### url 접속"
   ]
  },
  {
   "cell_type": "code",
   "execution_count": 2,
   "metadata": {},
   "outputs": [],
   "source": [
    "url = \"https://www.opinet.co.kr/searRgSelect.do\"\n",
    "driver = webdriver.Chrome(service=Service(\"../driver/chromedriver\"))\n",
    "driver.get(url)"
   ]
  },
  {
   "cell_type": "markdown",
   "metadata": {},
   "source": [
    "### 추가 접속"
   ]
  },
  {
   "cell_type": "code",
   "execution_count": 3,
   "metadata": {},
   "outputs": [],
   "source": [
    "driver.get(url)"
   ]
  },
  {
   "cell_type": "markdown",
   "metadata": {},
   "source": [
    "### 시/도 데이터 가져오기"
   ]
  },
  {
   "cell_type": "code",
   "execution_count": 3,
   "metadata": {},
   "outputs": [
    {
     "name": "stdout",
     "output_type": "stream",
     "text": [
      "0. \n",
      "1. 서울특별시\n",
      "2. 부산광역시\n",
      "3. 대구광역시\n",
      "4. 인천광역시\n",
      "5. 광주광역시\n",
      "6. 대전광역시\n",
      "7. 울산광역시\n",
      "8. 세종특별자치시\n",
      "9. 경기도\n",
      "10. 강원특별자치도\n",
      "11. 충청북도\n",
      "12. 충청남도\n",
      "13. 전북특별자치도\n",
      "14. 전라남도\n",
      "15. 경상북도\n",
      "16. 경상남도\n",
      "17. 제주특별자치도\n"
     ]
    }
   ],
   "source": [
    "sido = driver.find_element(By.ID, \"SIDO_NM0\")\n",
    "sido_list = sido.find_elements(By.TAG_NAME, \"option\")\n",
    "for idx, sido_name in enumerate(sido_list):\n",
    "    print(str(idx) + \". \" + sido_name.get_attribute(\"value\"))"
   ]
  },
  {
   "cell_type": "markdown",
   "metadata": {},
   "source": [
    "### 시/도 정보 가져오고 리스트 만들기"
   ]
  },
  {
   "cell_type": "code",
   "execution_count": 4,
   "metadata": {},
   "outputs": [
    {
     "data": {
      "text/plain": [
       "['',\n",
       " '서울특별시',\n",
       " '부산광역시',\n",
       " '대구광역시',\n",
       " '인천광역시',\n",
       " '광주광역시',\n",
       " '대전광역시',\n",
       " '울산광역시',\n",
       " '세종특별자치시',\n",
       " '경기도',\n",
       " '강원특별자치도',\n",
       " '충청북도',\n",
       " '충청남도',\n",
       " '전북특별자치도',\n",
       " '전라남도',\n",
       " '경상북도',\n",
       " '경상남도',\n",
       " '제주특별자치도']"
      ]
     },
     "execution_count": 4,
     "metadata": {},
     "output_type": "execute_result"
    }
   ],
   "source": [
    "sido_names = [sido_name.get_attribute(\"value\") for sido_name in sido_list]\n",
    "sido_names"
   ]
  },
  {
   "cell_type": "markdown",
   "metadata": {},
   "source": [
    "### 시/도 리스트 정리"
   ]
  },
  {
   "cell_type": "code",
   "execution_count": 5,
   "metadata": {},
   "outputs": [
    {
     "data": {
      "text/plain": [
       "['서울특별시',\n",
       " '부산광역시',\n",
       " '대구광역시',\n",
       " '인천광역시',\n",
       " '광주광역시',\n",
       " '대전광역시',\n",
       " '울산광역시',\n",
       " '세종특별자치시',\n",
       " '경기도',\n",
       " '강원특별자치도',\n",
       " '충청북도',\n",
       " '충청남도',\n",
       " '전북특별자치도',\n",
       " '전라남도',\n",
       " '경상북도',\n",
       " '경상남도',\n",
       " '제주특별자치도']"
      ]
     },
     "execution_count": 5,
     "metadata": {},
     "output_type": "execute_result"
    }
   ],
   "source": [
    "sido_names = sido_names[1:]\n",
    "sido_names"
   ]
  },
  {
   "cell_type": "markdown",
   "metadata": {},
   "source": [
    "### 서울시 선택 및 시/군/구 데이터 리스트로 만들기"
   ]
  },
  {
   "cell_type": "code",
   "execution_count": 6,
   "metadata": {},
   "outputs": [
    {
     "name": "stdout",
     "output_type": "stream",
     "text": [
      "26 ['', '강남구', '강동구', '강북구', '강서구', '관악구', '광진구', '구로구', '금천구', '노원구', '도봉구', '동대문구', '동작구', '마포구', '서대문구', '서초구', '성동구', '성북구', '송파구', '양천구', '영등포구', '용산구', '은평구', '종로구', '중구', '중랑구']\n"
     ]
    }
   ],
   "source": [
    "sido.send_keys(sido_names[0])\n",
    "gu = driver.find_element(By.ID, \"SIGUNGU_NM0\")\n",
    "gu_list = gu.find_elements(By.TAG_NAME, \"option\")\n",
    "\n",
    "gu_names = [gu_name.get_attribute(\"value\") for gu_name in gu_list]\n",
    "print(len(gu_names), gu_names)"
   ]
  },
  {
   "cell_type": "markdown",
   "metadata": {},
   "source": [
    "### 시/군/구 리스트 정리"
   ]
  },
  {
   "cell_type": "code",
   "execution_count": 7,
   "metadata": {},
   "outputs": [
    {
     "name": "stdout",
     "output_type": "stream",
     "text": [
      "25 ['강남구', '강동구', '강북구', '강서구', '관악구', '광진구', '구로구', '금천구', '노원구', '도봉구', '동대문구', '동작구', '마포구', '서대문구', '서초구', '성동구', '성북구', '송파구', '양천구', '영등포구', '용산구', '은평구', '종로구', '중구', '중랑구']\n"
     ]
    }
   ],
   "source": [
    "gu_names.remove('')\n",
    "print(len(gu_names), gu_names)"
   ]
  },
  {
   "cell_type": "code",
   "execution_count": 8,
   "metadata": {},
   "outputs": [],
   "source": [
    "gu.click()\n",
    "gu.send_keys(gu_names[1])"
   ]
  },
  {
   "cell_type": "markdown",
   "metadata": {},
   "source": [
    "### 보통 휘발유 탭에서 주유소명 클릭"
   ]
  },
  {
   "cell_type": "code",
   "execution_count": 9,
   "metadata": {},
   "outputs": [],
   "source": [
    "driver.find_element(By.CSS_SELECTOR, \"a[href*='javascript:fn_osPop']\").click()"
   ]
  },
  {
   "cell_type": "markdown",
   "metadata": {},
   "source": [
    "### 한 구의 모든 주유소 한 번씩 클릭 "
   ]
  },
  {
   "cell_type": "code",
   "execution_count": 10,
   "metadata": {},
   "outputs": [],
   "source": [
    "gu_gas_stations = driver.find_elements(By.CSS_SELECTOR, \"a[href*='javascript:fn_osPop']\")\n",
    "\n",
    "for gu_gas_station in gu_gas_stations:\n",
    "    try:\n",
    "        gu_gas_station.click()\n",
    "        time.sleep(0.3)\n",
    "    except ElementNotInteractableException:\n",
    "        break  # 클릭할 수 없는 요소를 만나면 반복문 종료"
   ]
  },
  {
   "cell_type": "markdown",
   "metadata": {},
   "source": [
    "### 메모\n",
    "\n",
    "##### 1. 보통 휘발유 탭 상의 모든 주유소는 클릭 될 시 상세 정보가 생김\n",
    "##### 2. 주유소 명 -> id=\"os_nm\"\n",
    "##### 3. 기본정보\n",
    "|정보명|기본정보ID|\n",
    "|:---|:---|\n",
    "|전화번호|id=\"phn_no\"|\n",
    "|주소|id=\"rd_addr\"|\n",
    "|상표|id=\"poll_div_nm\"|\n",
    "##### 4. 유가 정보 ID\n",
    "|유종|유종가격ID|\n",
    "|:---|:---|\n",
    "|고급휘발유|id=\"b034_p\"|\n",
    "|보통휘발유|id=\"b027_p\"|\n",
    "|경유|id=\"d047_p\"|\n",
    "|실내등유|id=\"c004_p\"|\n",
    "##### 5. 부가 정보 ID -> img 태그의 src=[]안의 .gif 앞에 off 유무에 따라 서비스 제공X, O\n",
    "|정보명|부가정보ID|\n",
    "|:---|:---|\n",
    "|세차장|id=\"cwsh_yn\"|\n",
    "|충전소|id=\"lpg_yn\"|\n",
    "|경정비|id=\"maint_yn\"|\n",
    "|편의점|id=\"cvs_yn\"|\n",
    "|24시영업|id=\"sel24_yn\"|"
   ]
  },
  {
   "cell_type": "markdown",
   "metadata": {},
   "source": [
    "### 한 군/구 내의 주유소 정보 수집"
   ]
  },
  {
   "cell_type": "code",
   "execution_count": 11,
   "metadata": {},
   "outputs": [
    {
     "name": "stdout",
     "output_type": "stream",
     "text": [
      "광성주유소 02-470-5133 서울 강동구 올림픽로 673 (천호동) S-OIL\n",
      " 1,968 1,858 1,800\n",
      "https://www.opinet.co.kr/images/user/gis/oil_station_service1_01.gif \n",
      " https://www.opinet.co.kr/images/user/gis/oil_station_service1_02_01_off.gif \n",
      " https://www.opinet.co.kr/images/user/gis/oil_station_service1_03.gif \n",
      " https://www.opinet.co.kr/images/user/gis/oil_station_service1_04_off.gif \n",
      " https://www.opinet.co.kr/images/user/gis/oil_station_service1_05.gif\n"
     ]
    }
   ],
   "source": [
    "name = driver.find_element(By.ID, \"os_nm\").text\n",
    "phone = driver.find_element(By.ID, \"phn_no\").text\n",
    "address = driver.find_element(By.ID, \"rd_addr\").text\n",
    "company_name = driver.find_element(By.ID, \"poll_div_nm\").text\n",
    "premium_gasoline = driver.find_element(By.ID, \"b034_p\").text\n",
    "gasoline = driver.find_element(By.ID, \"b027_p\").text\n",
    "diesel = driver.find_element(By.ID, \"d047_p\").text\n",
    "lamp_oil = driver.find_element(By.ID, \"c004_p\").text\n",
    "car_wash = driver.find_element(By.ID, \"cwsh_yn\").get_attribute(\"src\")\n",
    "charge_station = driver.find_element(By.ID, \"lpg_yn\").get_attribute(\"src\")\n",
    "maintain = driver.find_element(By.ID, \"maint_yn\").get_attribute(\"src\")\n",
    "convenience_store = driver.find_element(By.ID, \"cvs_yn\").get_attribute(\"src\")\n",
    "open_24h = driver.find_element(By.ID, \"sel24_yn\").get_attribute(\"src\")\n",
    "\n",
    "print(name, phone,address, company_name)\n",
    "print(premium_gasoline, gasoline, diesel,lamp_oil)\n",
    "print(car_wash,\"\\n\", charge_station,\"\\n\", maintain,\"\\n\", convenience_store,\"\\n\", open_24h) \n",
    "\n"
   ]
  },
  {
   "cell_type": "markdown",
   "metadata": {},
   "source": [
    "### 유종 없음 표시 및 가격 정수값 변환"
   ]
  },
  {
   "cell_type": "code",
   "execution_count": 12,
   "metadata": {},
   "outputs": [],
   "source": [
    "def check_empty(text):\n",
    "    return text if text else \"X\"\n",
    "\n",
    "def extract_integer(text):\n",
    "    return int(text.replace(\",\", \"\"))\n",
    "\n",
    "def process_fuel(text):\n",
    "    if text:\n",
    "        return extract_integer(text)\n",
    "    else:\n",
    "        return \"X\""
   ]
  },
  {
   "cell_type": "code",
   "execution_count": 13,
   "metadata": {},
   "outputs": [
    {
     "name": "stdout",
     "output_type": "stream",
     "text": [
      "X 1968 1858 1800\n"
     ]
    }
   ],
   "source": [
    "premium_gasoline = process_fuel(driver.find_element(By.ID, \"b034_p\").text)\n",
    "gasoline = process_fuel(driver.find_element(By.ID, \"b027_p\").text)\n",
    "diesel = process_fuel(driver.find_element(By.ID, \"d047_p\").text)\n",
    "lamp_oil = process_fuel(driver.find_element(By.ID, \"c004_p\").text)\n",
    "\n",
    "print(premium_gasoline, gasoline, diesel,lamp_oil)"
   ]
  },
  {
   "cell_type": "markdown",
   "metadata": {},
   "source": [
    "### 부가정보 O, X 반환 "
   ]
  },
  {
   "cell_type": "code",
   "execution_count": 14,
   "metadata": {},
   "outputs": [],
   "source": [
    "def process_additional_info(src):\n",
    "    return \"O\" if \"off\" not in src else \"X\""
   ]
  },
  {
   "cell_type": "code",
   "execution_count": 15,
   "metadata": {},
   "outputs": [
    {
     "name": "stdout",
     "output_type": "stream",
     "text": [
      "O X O X O\n"
     ]
    }
   ],
   "source": [
    "car_wash = process_additional_info(driver.find_element(By.ID, \"cwsh_yn\").get_attribute(\"src\"))\n",
    "charge_station = process_additional_info(driver.find_element(By.ID, \"lpg_yn\").get_attribute(\"src\"))\n",
    "maintain = process_additional_info(driver.find_element(By.ID, \"maint_yn\").get_attribute(\"src\"))\n",
    "convenience_store = process_additional_info(driver.find_element(By.ID, \"cvs_yn\").get_attribute(\"src\"))\n",
    "open_24h = process_additional_info(driver.find_element(By.ID, \"sel24_yn\").get_attribute(\"src\"))\n",
    "\n",
    "print(car_wash, charge_station, maintain, convenience_store, open_24h)"
   ]
  },
  {
   "cell_type": "markdown",
   "metadata": {},
   "source": [
    "### 한 구의 주유소 정보 수집 함수"
   ]
  },
  {
   "cell_type": "code",
   "execution_count": 24,
   "metadata": {},
   "outputs": [],
   "source": [
    "def collect_gas_station_info():\n",
    "    def process_fuel(text):\n",
    "        return extract_integer(text) if text else \"X\"\n",
    "    \n",
    "    # 부가정보 O,X 반환 함수\n",
    "    def process_additional_info(src):\n",
    "        return \"O\" if \"off\" not in src else \"X\"\n",
    "    \n",
    "    gu_oil_station_info = {\n",
    "        \"이름\": [],\n",
    "        \"전화번호\": [],\n",
    "        \"주소\": [],\n",
    "        \"상표\": [],\n",
    "        \"고급휘발유\": [],\n",
    "        \"보통휘발유\": [],\n",
    "        \"경유\": [],\n",
    "        \"실내등유\": [],\n",
    "        \"세차장\": [],\n",
    "        \"충전소\": [],\n",
    "        \"경정비\": [],\n",
    "        \"편의점\": [],\n",
    "        \"24시영업\": []\n",
    "    }\n",
    "    \n",
    "    gu_gas_stations = driver.find_elements(By.CSS_SELECTOR, \"a[href*='javascript:fn_osPop']\")\n",
    "\n",
    "    for gu_gas_station in gu_gas_stations:\n",
    "        try:\n",
    "            gu_gas_station.click()\n",
    "            \n",
    "            time.sleep(0.2)\n",
    "            \n",
    "            # 이름 수집\n",
    "            name = driver.find_element(By.ID, \"os_nm\").text\n",
    "            gu_oil_station_info[\"이름\"].append(name)\n",
    "\n",
    "            # 기본 정보 수집\n",
    "            phone_number = check_empty(driver.find_element(By.ID, \"phn_no\").text)\n",
    "            gu_oil_station_info[\"전화번호\"].append(phone_number)\n",
    "\n",
    "            address = check_empty(driver.find_element(By.ID, \"rd_addr\").text)\n",
    "            gu_oil_station_info[\"주소\"].append(address)\n",
    "\n",
    "            brand = check_empty(driver.find_element(By.ID, \"poll_div_nm\").text)\n",
    "            gu_oil_station_info[\"상표\"].append(brand)\n",
    "\n",
    "            # 유가 정보 수집\n",
    "            premium_gasoline = process_fuel(driver.find_element(By.ID, \"b034_p\").text)\n",
    "            gu_oil_station_info[\"고급휘발유\"].append(premium_gasoline)\n",
    "\n",
    "            gasoline = process_fuel(driver.find_element(By.ID, \"b027_p\").text)\n",
    "            gu_oil_station_info[\"보통휘발유\"].append(gasoline)\n",
    "\n",
    "            diesel = process_fuel(driver.find_element(By.ID, \"d047_p\").text)\n",
    "            gu_oil_station_info[\"경유\"].append(diesel)\n",
    "\n",
    "            lamp_oil = process_fuel(driver.find_element(By.ID, \"c004_p\").text)\n",
    "            gu_oil_station_info[\"실내등유\"].append(lamp_oil)\n",
    "\n",
    "            # 부가 정보 수집\n",
    "            car_wash = process_additional_info(driver.find_element(By.ID, \"cwsh_yn\").get_attribute(\"src\"))\n",
    "            gu_oil_station_info[\"세차장\"].append(car_wash)\n",
    "\n",
    "            charge_station = process_additional_info(driver.find_element(By.ID, \"lpg_yn\").get_attribute(\"src\"))\n",
    "            gu_oil_station_info[\"충전소\"].append(charge_station)\n",
    "\n",
    "            maintain = process_additional_info(driver.find_element(By.ID, \"maint_yn\").get_attribute(\"src\"))\n",
    "            gu_oil_station_info[\"경정비\"].append(maintain)\n",
    "\n",
    "            convenience_store = process_additional_info(driver.find_element(By.ID, \"cvs_yn\").get_attribute(\"src\"))\n",
    "            gu_oil_station_info[\"편의점\"].append(convenience_store)\n",
    "\n",
    "            open_24h = process_additional_info(driver.find_element(By.ID, \"sel24_yn\").get_attribute(\"src\"))\n",
    "            gu_oil_station_info[\"24시영업\"].append(open_24h)\n",
    "\n",
    "        except ElementNotInteractableException:\n",
    "            break  # 클릭할 수 없는 요소를 만나면 반복문 종료\n",
    "\n",
    "    return gu_oil_station_info"
   ]
  },
  {
   "cell_type": "markdown",
   "metadata": {},
   "source": [
    "### 모든 구의 주유소 정보"
   ]
  },
  {
   "cell_type": "code",
   "execution_count": 25,
   "metadata": {},
   "outputs": [
    {
     "data": {
      "application/vnd.jupyter.widget-view+json": {
       "model_id": "4c6387212c194298a30532330cae6510",
       "version_major": 2,
       "version_minor": 0
      },
      "text/plain": [
       "  0%|          | 0/25 [00:00<?, ?it/s]"
      ]
     },
     "metadata": {},
     "output_type": "display_data"
    }
   ],
   "source": [
    "all_gu_oil_station_info = {}\n",
    "for gu_name in tqdm(gu_names):\n",
    "    select = Select(driver.find_element(By.ID, \"SIGUNGU_NM0\"))\n",
    "    select.select_by_visible_text(gu_name)\n",
    "    all_gu_oil_station_info[gu_name] = collect_gas_station_info()"
   ]
  },
  {
   "cell_type": "markdown",
   "metadata": {},
   "source": [
    "### 결과 출력"
   ]
  },
  {
   "cell_type": "code",
   "execution_count": 26,
   "metadata": {},
   "outputs": [
    {
     "name": "stdout",
     "output_type": "stream",
     "text": [
      "    이름          전화번호                     주소        상표 고급휘발유 보통휘발유    경유  실내등유  \\\n",
      "0                  X                      X         X     X  1655  1553     X   \n",
      "1       02-2226-4963         서울 강남구 헌릉로 730  HD현대오일뱅크  1859  1665  1565     X   \n",
      "2                  X                      X         X     X     X     X     X   \n",
      "3                  X                      X         X  1875  1685  1595     X   \n",
      "4        02-459-3434  서울 강남구 밤고개로 215 (율현동)     GS칼텍스     X  1687  1589     X   \n",
      "..  ..           ...                    ...       ...   ...   ...   ...   ...   \n",
      "430     02-2207-9419  서울 중랑구 용마산로 716 (신내동)     S-OIL     X  1639  1539  1450   \n",
      "431     02-2207-0523  서울 중랑구 용마산로 705 (신내동)     SK에너지     X  1652  1553  1450   \n",
      "432                X                      X         X     X  1658  1538  1600   \n",
      "433      02-436-3651    서울 중랑구 상봉로 58 (망우동)     SK에너지     X  1659  1568  1590   \n",
      "434      02-974-8356    서울 중랑구 동일로 881 (묵동)     S-OIL     X  1698  1598  1600   \n",
      "\n",
      "    세차장 충전소 경정비 편의점 24시영업 구 이름  \n",
      "0     O   X   X   X     X  강남구  \n",
      "1     O   X   X   X     X  강남구  \n",
      "2     O   X   O   X     O  강남구  \n",
      "3     O   X   O   X     O  강남구  \n",
      "4     O   X   X   X     X  강남구  \n",
      "..   ..  ..  ..  ..   ...  ...  \n",
      "430   X   X   X   X     X  중랑구  \n",
      "431   O   X   X   X     X  중랑구  \n",
      "432   O   X   X   X     X  중랑구  \n",
      "433   O   X   O   X     O  중랑구  \n",
      "434   O   X   O   X     X  중랑구  \n",
      "\n",
      "[435 rows x 14 columns]\n"
     ]
    }
   ],
   "source": [
    "# all_gu_oil_station_info를 데이터프레임으로 변환\n",
    "df_list = []\n",
    "for gu_name, station_info in all_gu_oil_station_info.items():\n",
    "    df = pd.DataFrame(station_info)\n",
    "    df[\"구 이름\"] = gu_name  # 각 주유소 정보에 '구 이름' 열 추가\n",
    "    df_list.append(df)\n",
    "\n",
    "# 데이터프레임들을 하나의 데이터프레임으로 결합\n",
    "all_gu_oil_station_df = pd.concat(df_list, ignore_index=True)\n",
    "\n",
    "# 결과 출력\n",
    "print(all_gu_oil_station_df)"
   ]
  },
  {
   "cell_type": "code",
   "execution_count": 27,
   "metadata": {},
   "outputs": [],
   "source": [
    "all_gu_oil_station_df.to_csv(\"../data/gas_station_ver1\")\n",
    "all_gu_oil_station_df.to_excel(\"../data/gas_station_ver1.xlsx\")"
   ]
  },
  {
   "cell_type": "markdown",
   "metadata": {},
   "source": [
    "### 위 결과를 확인해보면 정보 누락이 된 결과가 나타남. \n",
    "#### selenium 크롬 창 확인 결과 스크롤이 덜 되어 보이지 않는 정보가 누락됨을 확인. -> 항상 보이는 요소와 팝업 요소의 좌표를 일치시켜 해결 시도"
   ]
  },
  {
   "cell_type": "markdown",
   "metadata": {},
   "source": [
    "#### 좌표 구하는 코드"
   ]
  },
  {
   "cell_type": "code",
   "execution_count": 17,
   "metadata": {},
   "outputs": [
    {
     "name": "stdout",
     "output_type": "stream",
     "text": [
      "X 좌표: 281\n",
      "Y 좌표: 84\n"
     ]
    }
   ],
   "source": [
    "# 클래스 이름을 사용하여 팝업 요소를 찾기\n",
    "popup = driver.find_element(By.CLASS_NAME, \"ollehmap-info-defaultStyle\")\n",
    "\n",
    "# 요소의 위치 정보 가져오기\n",
    "location_popup = popup.location\n",
    "\n",
    "# X 및 Y 좌표 출력\n",
    "print(\"X 좌표:\", location_popup['x'])\n",
    "print(\"Y 좌표:\", location_popup['y'])"
   ]
  },
  {
   "cell_type": "code",
   "execution_count": 18,
   "metadata": {},
   "outputs": [
    {
     "name": "stdout",
     "output_type": "stream",
     "text": [
      "X 좌표: 389\n",
      "Y 좌표: 108\n"
     ]
    }
   ],
   "source": [
    "# 클래스 이름을 사용하여 항상 보이는 요소를 찾기\n",
    "panright = driver.find_element(By.CLASS_NAME, \"control-panright\")\n",
    "\n",
    "# 요소의 위치 정보 가져오기\n",
    "location_panright = panright.location\n",
    "\n",
    "# X 및 Y 좌표 출력\n",
    "print(\"X 좌표:\", location_panright['x'])\n",
    "print(\"Y 좌표:\", location_panright['y'])"
   ]
  },
  {
   "cell_type": "markdown",
   "metadata": {},
   "source": [
    "#### class=control-pan(up, down, left, right) 요소 클릭 -> 스크롤"
   ]
  },
  {
   "cell_type": "code",
   "execution_count": 19,
   "metadata": {},
   "outputs": [],
   "source": [
    "scroll_up = driver.find_element(By.CLASS_NAME, \"control-pandown\")\n",
    "ActionChains(driver).click_and_hold(scroll_up).perform()\n",
    "time.sleep(0.0001)\n",
    "ActionChains(driver).release(scroll_up).perform()"
   ]
  },
  {
   "cell_type": "code",
   "execution_count": 29,
   "metadata": {},
   "outputs": [],
   "source": [
    "# 예시 코드 중에서 사용하는 팝업 좌표와 타겟 좌표\n",
    "popup_x = location_popup['x']\n",
    "popup_y = location_popup['y']\n",
    "target_x = location_panright['x']\n",
    "target_y = location_panright['y']\n",
    "error_range = 55\n",
    "\n",
    "# 팝업 좌표와 화면 정중앙 좌표 비교하여 스크롤하기\n",
    "while True:\n",
    "        # name 요소가 존재할 경우 루프 탈출\n",
    "        try:\n",
    "            name_element = driver.find_element(By.ID, \"os_nm\")\n",
    "            if name_element.text:\n",
    "                break\n",
    "        except NoSuchElementException:\n",
    "            pass\n",
    "\n",
    "        x_difference = abs(popup_x - target_x)\n",
    "        y_difference = abs(popup_y - target_y)\n",
    "\n",
    "        # x 좌표의 차이가 오차 범위 내에 있는지 확인하여 스크롤 결정\n",
    "        if x_difference > error_range:\n",
    "            # Determine scroll direction\n",
    "            scroll_direction = \"left\" if popup_x < target_x else \"right\"\n",
    "            scroll_element = driver.find_element(By.CLASS_NAME, f\"control-pan{scroll_direction}\")\n",
    "            ActionChains(driver).click_and_hold(scroll_element).perform()\n",
    "            time.sleep(0.015)\n",
    "            ActionChains(driver).release(scroll_element).perform()  # 홀드 해제\n",
    "\n",
    "\n",
    "        # y 좌표의 차이가 오차 범위 내에 있는지 확인하여 스크롤 결정\n",
    "        if y_difference > error_range:\n",
    "            # Determine scroll direction\n",
    "            scroll_direction = \"up\" if popup_y < target_y else \"down\"\n",
    "            scroll_element = driver.find_element(By.CLASS_NAME, f\"control-pan{scroll_direction}\")\n",
    "            ActionChains(driver).click_and_hold(scroll_element).perform()\n",
    "            time.sleep(0.0001)\n",
    "            ActionChains(driver).release(scroll_element).perform()  # 홀드 해제\n",
    "            # name 요소가 존재할 경우 루프 탈출\n",
    "            try:\n",
    "                name_element = driver.find_element(By.ID, \"os_nm\")\n",
    "                if name_element.text:\n",
    "                    break\n",
    "            except NoSuchElementException:\n",
    "                pass\n",
    "\n",
    "            while -18 < driver.find_element(By.CLASS_NAME, \"ollehmap-info-defaultStyle\").location['y'] < 50:\n",
    "                ActionChains(driver).double_click(scroll_element).perform()\n",
    "\n",
    "        # name 요소가 존재할 경우 루프 탈출\n",
    "        try:\n",
    "            name_element = driver.find_element(By.ID, \"os_nm\")\n",
    "            if name_element.text:\n",
    "                break\n",
    "        except NoSuchElementException:\n",
    "            pass\n",
    "\n",
    "        # 스크롤 후 팝업 좌표 갱신\n",
    "        element = driver.find_element(By.CLASS_NAME, \"ollehmap-info-defaultStyle\")\n",
    "        location = element.location\n",
    "        popup_x = location['x']\n",
    "        popup_y = location['y']\n",
    "\n",
    "        # 더 이상 스크롤할 필요가 없는 경우 루프 탈출\n",
    "        if x_difference <= error_range and y_difference <= error_range:\n",
    "            break"
   ]
  },
  {
   "cell_type": "markdown",
   "metadata": {},
   "source": [
    "### 스크롤 함수"
   ]
  },
  {
   "cell_type": "code",
   "execution_count": 30,
   "metadata": {},
   "outputs": [],
   "source": [
    "def scroll_to_align(target_x, target_y, error_range=55):\n",
    "    # 예시 코드 중에서 사용하는 팝업 좌표와 타겟 좌표\n",
    "    popup_x = location_popup['x']\n",
    "    popup_y = location_popup['y']\n",
    "\n",
    "    while True:\n",
    "        # name 요소가 존재할 경우 루프 탈출\n",
    "        try:\n",
    "            name_element = driver.find_element(By.ID, \"os_nm\")\n",
    "            if name_element.text:\n",
    "                break\n",
    "        except NoSuchElementException:\n",
    "            pass\n",
    "\n",
    "        x_difference = abs(popup_x - target_x)\n",
    "        y_difference = abs(popup_y - target_y)\n",
    "\n",
    "        # x 좌표의 차이가 오차 범위 내에 있는지 확인하여 스크롤 결정\n",
    "        if x_difference > error_range:\n",
    "            # Determine scroll direction\n",
    "            scroll_direction = \"left\" if popup_x < target_x else \"right\"\n",
    "            scroll_element = driver.find_element(By.CLASS_NAME, f\"control-pan{scroll_direction}\")\n",
    "            ActionChains(driver).click_and_hold(scroll_element).perform()\n",
    "            time.sleep(0.015)\n",
    "            ActionChains(driver).release(scroll_element).perform()  # 홀드 해제\n",
    "\n",
    "\n",
    "        # y 좌표의 차이가 오차 범위 내에 있는지 확인하여 스크롤 결정\n",
    "        if y_difference > error_range:\n",
    "            # Determine scroll direction\n",
    "            scroll_direction = \"up\" if popup_y < target_y else \"down\"\n",
    "            scroll_element = driver.find_element(By.CLASS_NAME, f\"control-pan{scroll_direction}\")\n",
    "            ActionChains(driver).click_and_hold(scroll_element).perform()\n",
    "            time.sleep(0.0001)\n",
    "            ActionChains(driver).release(scroll_element).perform()  # 홀드 해제\n",
    "            # name 요소가 존재할 경우 루프 탈출\n",
    "            try:\n",
    "                name_element = driver.find_element(By.ID, \"os_nm\")\n",
    "                if name_element.text:\n",
    "                    break\n",
    "            except NoSuchElementException:\n",
    "                pass\n",
    "            \n",
    "            while -15 < driver.find_element(By.CLASS_NAME, \"ollehmap-info-defaultStyle\").location['y'] < 50:\n",
    "                    ActionChains(driver).double_click(scroll_element).perform()\n",
    "\n",
    "        # name 요소가 존재할 경우 루프 탈출\n",
    "        try:\n",
    "            name_element = driver.find_element(By.ID, \"os_nm\")\n",
    "            if name_element.text:\n",
    "                break\n",
    "        except NoSuchElementException:\n",
    "            pass\n",
    "\n",
    "        # 스크롤 후 팝업 좌표 갱신\n",
    "        element = driver.find_element(By.CLASS_NAME, \"ollehmap-info-defaultStyle\")\n",
    "        location = element.location\n",
    "        popup_x = location['x']\n",
    "        popup_y = location['y']\n",
    "\n",
    "        # 더 이상 스크롤할 필요가 없는 경우 루프 탈출\n",
    "        if x_difference <= error_range and y_difference <= error_range:\n",
    "            break"
   ]
  },
  {
   "cell_type": "markdown",
   "metadata": {},
   "source": [
    "### 정보 수집"
   ]
  },
  {
   "cell_type": "code",
   "execution_count": 31,
   "metadata": {},
   "outputs": [],
   "source": [
    "def collect_gas_station_info():\n",
    "    wait = WebDriverWait(driver, 0.5)\n",
    "\n",
    "    def process_fuel(text):\n",
    "        return extract_integer(text) if text else \"X\"\n",
    "    \n",
    "    def process_additional_info(src):\n",
    "        return \"O\" if \"off\" not in src else \"X\"\n",
    "    \n",
    "    gu_oil_station_info = {\n",
    "        \"이름\": [],\n",
    "        \"전화번호\": [],\n",
    "        \"주소\": [],\n",
    "        \"상표\": [],\n",
    "        \"고급휘발유\": [],\n",
    "        \"보통휘발유\": [],\n",
    "        \"경유\": [],\n",
    "        \"실내등유\": [],\n",
    "        \"세차장\": [],\n",
    "        \"충전소\": [],\n",
    "        \"경정비\": [],\n",
    "        \"편의점\": [],\n",
    "        \"24시영업\": []\n",
    "    }\n",
    "    \n",
    "    gu_gas_stations = driver.find_elements(By.CSS_SELECTOR, \"a[href*='javascript:fn_osPop']\")\n",
    "\n",
    "    for gu_gas_station in gu_gas_stations:\n",
    "        try:\n",
    "            gu_gas_station.click()\n",
    "\n",
    "            # 이름 수집\n",
    "            name_element = None\n",
    "            try:\n",
    "                name_element = wait.until(EC.visibility_of_element_located((By.ID, \"os_nm\")))\n",
    "            except:\n",
    "                pass\n",
    "            \n",
    "            if name_element:\n",
    "                name = name_element.text\n",
    "            else:\n",
    "                # 텍스트가 없거나 None인 경우 대체 텍스트 수집을 위해 다른 요소 클릭\n",
    "                scroll_to_align(target_x, target_y)\n",
    "                name_element = wait.until(EC.visibility_of_element_located((By.ID, \"os_nm\")))\n",
    "                name = name_element.text if name_element else \"Unknown\"\n",
    "                \n",
    "            gu_oil_station_info[\"이름\"].append(name)\n",
    "\n",
    "            # 기본 정보 수집\n",
    "            phone_number = check_empty(driver.find_element(By.ID, \"phn_no\").text)\n",
    "            gu_oil_station_info[\"전화번호\"].append(phone_number)\n",
    "\n",
    "            address = check_empty(driver.find_element(By.ID, \"rd_addr\").text)\n",
    "            gu_oil_station_info[\"주소\"].append(address)\n",
    "\n",
    "            brand = check_empty(driver.find_element(By.ID, \"poll_div_nm\").text)\n",
    "            gu_oil_station_info[\"상표\"].append(brand)\n",
    "\n",
    "            # 유가 정보 수집\n",
    "            premium_gasoline = process_fuel(driver.find_element(By.ID, \"b034_p\").text)\n",
    "            gu_oil_station_info[\"고급휘발유\"].append(premium_gasoline)\n",
    "\n",
    "            gasoline = process_fuel(driver.find_element(By.ID, \"b027_p\").text)\n",
    "            gu_oil_station_info[\"보통휘발유\"].append(gasoline)\n",
    "\n",
    "            diesel = process_fuel(driver.find_element(By.ID, \"d047_p\").text)\n",
    "            gu_oil_station_info[\"경유\"].append(diesel)\n",
    "\n",
    "            lamp_oil = process_fuel(driver.find_element(By.ID, \"c004_p\").text)\n",
    "            gu_oil_station_info[\"실내등유\"].append(lamp_oil)\n",
    "\n",
    "            # 부가 정보 수집\n",
    "            car_wash = process_additional_info(driver.find_element(By.ID, \"cwsh_yn\").get_attribute(\"src\"))\n",
    "            gu_oil_station_info[\"세차장\"].append(car_wash)\n",
    "\n",
    "            charge_station = process_additional_info(driver.find_element(By.ID, \"lpg_yn\").get_attribute(\"src\"))\n",
    "            gu_oil_station_info[\"충전소\"].append(charge_station)\n",
    "\n",
    "            maintain = process_additional_info(driver.find_element(By.ID, \"maint_yn\").get_attribute(\"src\"))\n",
    "            gu_oil_station_info[\"경정비\"].append(maintain)\n",
    "\n",
    "            convenience_store = process_additional_info(driver.find_element(By.ID, \"cvs_yn\").get_attribute(\"src\"))\n",
    "            gu_oil_station_info[\"편의점\"].append(convenience_store)\n",
    "\n",
    "            open_24h = process_additional_info(driver.find_element(By.ID, \"sel24_yn\").get_attribute(\"src\"))\n",
    "            gu_oil_station_info[\"24시영업\"].append(open_24h)\n",
    "\n",
    "        except ElementNotInteractableException:\n",
    "            break  # 클릭할 수 없는 요소를 만나면 반복문 종료\n",
    "\n",
    "    return gu_oil_station_info"
   ]
  },
  {
   "cell_type": "markdown",
   "metadata": {},
   "source": [
    "### 모든 구의 주유소 정보 수집"
   ]
  },
  {
   "cell_type": "code",
   "execution_count": 32,
   "metadata": {},
   "outputs": [
    {
     "data": {
      "application/vnd.jupyter.widget-view+json": {
       "model_id": "903530b778504e3b86086b52e0686248",
       "version_major": 2,
       "version_minor": 0
      },
      "text/plain": [
       "  0%|          | 0/25 [00:00<?, ?it/s]"
      ]
     },
     "metadata": {},
     "output_type": "display_data"
    }
   ],
   "source": [
    "all_gu_oil_station_info = {}\n",
    "for gu_name in tqdm(gu_names):\n",
    "    select = Select(driver.find_element(By.ID, \"SIGUNGU_NM0\"))\n",
    "    select.select_by_visible_text(gu_name)\n",
    "    all_gu_oil_station_info[gu_name] = collect_gas_station_info()"
   ]
  },
  {
   "cell_type": "code",
   "execution_count": 33,
   "metadata": {},
   "outputs": [
    {
     "name": "stdout",
     "output_type": "stream",
     "text": [
      "                      이름          전화번호                       주소        상표  \\\n",
      "0            (주)보성 세곡주유소   02-445-6870     서울 강남구 헌릉로 731 (세곡동)     SK에너지   \n",
      "1    HD현대오일뱅크㈜직영 산성셀프주유소  02-2226-4963           서울 강남구 헌릉로 730  HD현대오일뱅크   \n",
      "2               오일프러스 셀프  02-3462-5100  서울 강남구 남부순환로 2651 (도곡동)     SK에너지   \n",
      "3           극동유화㈜ 개나리주유소   02-564-0186     서울 강남구 언주로 423 (역삼동)     S-OIL   \n",
      "4                  방죽주유소   02-459-3434    서울 강남구 밤고개로 215 (율현동)     GS칼텍스   \n",
      "..                   ...           ...                      ...       ...   \n",
      "431             (주)기지에너지  02-2207-9419    서울 중랑구 용마산로 716 (신내동)     S-OIL   \n",
      "432                신내주유소  02-2207-0523    서울 중랑구 용마산로 705 (신내동)     SK에너지   \n",
      "433               용마로주유소   02-439-3037    서울 중랑구 용마산로 309 (면목동)     SK에너지   \n",
      "434              신일셀프주유소   02-436-3651      서울 중랑구 상봉로 58 (망우동)     SK에너지   \n",
      "435                범아주유소   02-974-8356      서울 중랑구 동일로 881 (묵동)     S-OIL   \n",
      "\n",
      "    고급휘발유  보통휘발유    경유  실내등유 세차장 충전소 경정비 편의점 24시영업 구 이름  \n",
      "0       X   1655  1553     X   O   X   X   X     X  강남구  \n",
      "1    1859   1665  1565     X   O   X   X   X     X  강남구  \n",
      "2    1855   1675  1595     X   O   X   O   X     O  강남구  \n",
      "3    1875   1685  1595     X   O   X   O   X     O  강남구  \n",
      "4       X   1687  1589     X   O   X   X   X     X  강남구  \n",
      "..    ...    ...   ...   ...  ..  ..  ..  ..   ...  ...  \n",
      "431     X   1639  1539  1450   X   X   X   X     X  중랑구  \n",
      "432     X   1652  1553  1450   O   X   X   X     X  중랑구  \n",
      "433     X   1658  1538  1600   O   X   X   X     X  중랑구  \n",
      "434     X   1659  1568  1590   O   X   O   X     O  중랑구  \n",
      "435     X   1698  1598  1600   O   X   O   X     X  중랑구  \n",
      "\n",
      "[436 rows x 14 columns]\n"
     ]
    }
   ],
   "source": [
    "# all_gu_oil_station_info를 데이터프레임으로 변환\n",
    "df_list = []\n",
    "for gu_name, station_info in all_gu_oil_station_info.items():\n",
    "    df = pd.DataFrame(station_info)\n",
    "    df[\"구 이름\"] = gu_name  # 각 주유소 정보에 '구 이름' 열 추가\n",
    "    df_list.append(df)\n",
    "\n",
    "# 데이터프레임들을 하나의 데이터프레임으로 결합\n",
    "all_gu_oil_station_df = pd.concat(df_list, ignore_index=True)\n",
    "\n",
    "# 결과 출력\n",
    "print(all_gu_oil_station_df)"
   ]
  },
  {
   "cell_type": "code",
   "execution_count": 34,
   "metadata": {},
   "outputs": [],
   "source": [
    "all_gu_oil_station_df.to_csv(\"../data/gas_station_ver2\")\n",
    "all_gu_oil_station_df.to_excel(\"../data/gas_station_ver2.xlsx\")"
   ]
  },
  {
   "cell_type": "code",
   "execution_count": 35,
   "metadata": {},
   "outputs": [],
   "source": [
    "driver.close();"
   ]
  },
  {
   "cell_type": "code",
   "execution_count": 36,
   "metadata": {},
   "outputs": [
    {
     "name": "stdout",
     "output_type": "stream",
     "text": [
      "     Unnamed: 0                   이름          전화번호                       주소  \\\n",
      "0             0          (주)보성 세곡주유소   02-445-6870     서울 강남구 헌릉로 731 (세곡동)   \n",
      "1             1  HD현대오일뱅크㈜직영 산성셀프주유소  02-2226-4963           서울 강남구 헌릉로 730   \n",
      "2             2             오일프러스 셀프  02-3462-5100  서울 강남구 남부순환로 2651 (도곡동)   \n",
      "3             3         극동유화㈜ 개나리주유소   02-564-0186     서울 강남구 언주로 423 (역삼동)   \n",
      "4             4                방죽주유소   02-459-3434    서울 강남구 밤고개로 215 (율현동)   \n",
      "..          ...                  ...           ...                      ...   \n",
      "431         431             (주)기지에너지  02-2207-9419    서울 중랑구 용마산로 716 (신내동)   \n",
      "432         432                신내주유소  02-2207-0523    서울 중랑구 용마산로 705 (신내동)   \n",
      "433         433               용마로주유소   02-439-3037    서울 중랑구 용마산로 309 (면목동)   \n",
      "434         434              신일셀프주유소   02-436-3651      서울 중랑구 상봉로 58 (망우동)   \n",
      "435         435                범아주유소   02-974-8356      서울 중랑구 동일로 881 (묵동)   \n",
      "\n",
      "           상표 고급휘발유  보통휘발유    경유  실내등유 세차장 충전소 경정비 편의점 24시영업 구 이름  \n",
      "0       SK에너지     X   1655  1553     X   O   X   X   X     X  강남구  \n",
      "1    HD현대오일뱅크  1859   1665  1565     X   O   X   X   X     X  강남구  \n",
      "2       SK에너지  1855   1675  1595     X   O   X   O   X     O  강남구  \n",
      "3       S-OIL  1875   1685  1595     X   O   X   O   X     O  강남구  \n",
      "4       GS칼텍스     X   1687  1589     X   O   X   X   X     X  강남구  \n",
      "..        ...   ...    ...   ...   ...  ..  ..  ..  ..   ...  ...  \n",
      "431     S-OIL     X   1639  1539  1450   X   X   X   X     X  중랑구  \n",
      "432     SK에너지     X   1652  1553  1450   O   X   X   X     X  중랑구  \n",
      "433     SK에너지     X   1658  1538  1600   O   X   X   X     X  중랑구  \n",
      "434     SK에너지     X   1659  1568  1590   O   X   O   X     O  중랑구  \n",
      "435     S-OIL     X   1698  1598  1600   O   X   O   X     X  중랑구  \n",
      "\n",
      "[436 rows x 15 columns]\n"
     ]
    }
   ],
   "source": [
    "raw_df = pd.read_excel(\"../data/gas_station_ver2.xlsx\")\n",
    "print(raw_df)"
   ]
  },
  {
   "cell_type": "code",
   "execution_count": 56,
   "metadata": {},
   "outputs": [
    {
     "name": "stdout",
     "output_type": "stream",
     "text": [
      "                 이름           전화번호                       주소        상표 고급휘발유  \\\n",
      "0             우림주유소    02-433-9990  서울 중랑구 용마산로 487 (망우제3동)     GS칼텍스     X   \n",
      "1    (주)자연에너지 대창주유소    02-434-1448     서울 중랑구 동일로 636 (면목동)  HD현대오일뱅크  1830   \n",
      "2             대원주유소    02-438-6111           서울 중랑구 동일로 600     GS칼텍스  1830   \n",
      "3         면목SELF주유소    02-437-4072     서울 중랑구 동일로 627 (면목동)     SK에너지     X   \n",
      "4            오천만주유소  070-7797-7474     서울 중랑구 동일로 547 (면목동)     S-OIL     X   \n",
      "5         구도일주유소 동천    02-495-0081     서울 중랑구 동일로 654 (면목동)     S-OIL     X   \n",
      "6             대양주유소    02-437-5457    서울 중랑구 봉우재로 105 (상봉동)     GS칼텍스  1840   \n",
      "7   (주)태영 구도일주유소 한인    02-438-5151     서울 중랑구 망우로 170 (상봉동)     S-OIL  1845   \n",
      "8          (주)기지에너지   02-2207-9419    서울 중랑구 용마산로 716 (신내동)     S-OIL     X   \n",
      "9             신내주유소   02-2207-0523    서울 중랑구 용마산로 705 (신내동)     SK에너지     X   \n",
      "10           용마로주유소    02-439-3037    서울 중랑구 용마산로 309 (면목동)     SK에너지     X   \n",
      "11          신일셀프주유소    02-436-3651      서울 중랑구 상봉로 58 (망우동)     SK에너지     X   \n",
      "12            범아주유소    02-974-8356      서울 중랑구 동일로 881 (묵동)     S-OIL     X   \n",
      "\n",
      "    보통휘발유    경유  실내등유 세차장 충전소 경정비 편의점 24시영업 구 이름  \n",
      "0    1607  1507     X   O   X   X   X     X  중랑구  \n",
      "1    1607  1507     X   X   X   X   X     X  중랑구  \n",
      "2    1607  1507  1600   O   X   X   X     X  중랑구  \n",
      "3    1607  1507     X   O   X   O   X     X  중랑구  \n",
      "4    1607  1507     X   O   X   X   X     X  중랑구  \n",
      "5    1617  1507     X   O   X   X   X     X  중랑구  \n",
      "6    1620  1520  1600   O   X   X   X     X  중랑구  \n",
      "7    1635  1535     X   O   X   O   X     X  중랑구  \n",
      "8    1639  1539  1450   X   X   X   X     X  중랑구  \n",
      "9    1652  1553  1450   O   X   X   X     X  중랑구  \n",
      "10   1658  1538  1600   O   X   X   X     X  중랑구  \n",
      "11   1659  1568  1590   O   X   O   X     O  중랑구  \n",
      "12   1698  1598  1600   O   X   O   X     X  중랑구  \n"
     ]
    }
   ],
   "source": [
    "sorted_df_by_gasoline = df.sort_values(by='보통휘발유', ascending=True)\n",
    "print(sorted_df_by_gasoline)\n",
    "sorted_df_by_gasoline.to_excel(\"../data/gas_station_sorted_by_gasoline.xlsx\")"
   ]
  },
  {
   "cell_type": "code",
   "execution_count": 38,
   "metadata": {},
   "outputs": [],
   "source": [
    "geo_path = \"../data/02. skorea_municipalities_geo_simple.json\"\n",
    "geo_str = json.load(open(geo_path, encoding=\"utf-8\"))"
   ]
  },
  {
   "cell_type": "code",
   "execution_count": 61,
   "metadata": {},
   "outputs": [
    {
     "data": {
      "text/html": [
       "<div style=\"width:100%;\"><div style=\"position:relative;width:100%;height:0;padding-bottom:60%;\"><span style=\"color:#565656\">Make this Notebook Trusted to load map: File -> Trust Notebook</span><iframe srcdoc=\"&lt;!DOCTYPE html&gt;\n",
       "&lt;html&gt;\n",
       "&lt;head&gt;\n",
       "    \n",
       "    &lt;meta http-equiv=&quot;content-type&quot; content=&quot;text/html; charset=UTF-8&quot; /&gt;\n",
       "    \n",
       "        &lt;script&gt;\n",
       "            L_NO_TOUCH = false;\n",
       "            L_DISABLE_3D = false;\n",
       "        &lt;/script&gt;\n",
       "    \n",
       "    &lt;style&gt;html, body {width: 100%;height: 100%;margin: 0;padding: 0;}&lt;/style&gt;\n",
       "    &lt;style&gt;#map {position:absolute;top:0;bottom:0;right:0;left:0;}&lt;/style&gt;\n",
       "    &lt;script src=&quot;https://cdn.jsdelivr.net/npm/leaflet@1.9.3/dist/leaflet.js&quot;&gt;&lt;/script&gt;\n",
       "    &lt;script src=&quot;https://code.jquery.com/jquery-3.7.1.min.js&quot;&gt;&lt;/script&gt;\n",
       "    &lt;script src=&quot;https://cdn.jsdelivr.net/npm/bootstrap@5.2.2/dist/js/bootstrap.bundle.min.js&quot;&gt;&lt;/script&gt;\n",
       "    &lt;script src=&quot;https://cdnjs.cloudflare.com/ajax/libs/Leaflet.awesome-markers/2.0.2/leaflet.awesome-markers.js&quot;&gt;&lt;/script&gt;\n",
       "    &lt;link rel=&quot;stylesheet&quot; href=&quot;https://cdn.jsdelivr.net/npm/leaflet@1.9.3/dist/leaflet.css&quot;/&gt;\n",
       "    &lt;link rel=&quot;stylesheet&quot; href=&quot;https://cdn.jsdelivr.net/npm/bootstrap@5.2.2/dist/css/bootstrap.min.css&quot;/&gt;\n",
       "    &lt;link rel=&quot;stylesheet&quot; href=&quot;https://netdna.bootstrapcdn.com/bootstrap/3.0.0/css/bootstrap.min.css&quot;/&gt;\n",
       "    &lt;link rel=&quot;stylesheet&quot; href=&quot;https://cdn.jsdelivr.net/npm/@fortawesome/fontawesome-free@6.2.0/css/all.min.css&quot;/&gt;\n",
       "    &lt;link rel=&quot;stylesheet&quot; href=&quot;https://cdnjs.cloudflare.com/ajax/libs/Leaflet.awesome-markers/2.0.2/leaflet.awesome-markers.css&quot;/&gt;\n",
       "    &lt;link rel=&quot;stylesheet&quot; href=&quot;https://cdn.jsdelivr.net/gh/python-visualization/folium/folium/templates/leaflet.awesome.rotate.min.css&quot;/&gt;\n",
       "    \n",
       "            &lt;meta name=&quot;viewport&quot; content=&quot;width=device-width,\n",
       "                initial-scale=1.0, maximum-scale=1.0, user-scalable=no&quot; /&gt;\n",
       "            &lt;style&gt;\n",
       "                #map_1d3d980cc2a5e58cf7fa9fc7cf453a58 {\n",
       "                    position: relative;\n",
       "                    width: 100.0%;\n",
       "                    height: 100.0%;\n",
       "                    left: 0.0%;\n",
       "                    top: 0.0%;\n",
       "                }\n",
       "                .leaflet-container { font-size: 1rem; }\n",
       "            &lt;/style&gt;\n",
       "        \n",
       "    &lt;script src=&quot;https://cdnjs.cloudflare.com/ajax/libs/d3/3.5.5/d3.min.js&quot;&gt;&lt;/script&gt;\n",
       "&lt;/head&gt;\n",
       "&lt;body&gt;\n",
       "    \n",
       "    \n",
       "            &lt;div class=&quot;folium-map&quot; id=&quot;map_1d3d980cc2a5e58cf7fa9fc7cf453a58&quot; &gt;&lt;/div&gt;\n",
       "        \n",
       "&lt;/body&gt;\n",
       "&lt;script&gt;\n",
       "    \n",
       "    \n",
       "            var map_1d3d980cc2a5e58cf7fa9fc7cf453a58 = L.map(\n",
       "                &quot;map_1d3d980cc2a5e58cf7fa9fc7cf453a58&quot;,\n",
       "                {\n",
       "                    center: [37.5502, 126.982],\n",
       "                    crs: L.CRS.EPSG3857,\n",
       "                    zoom: 11,\n",
       "                    zoomControl: true,\n",
       "                    preferCanvas: false,\n",
       "                }\n",
       "            );\n",
       "\n",
       "            \n",
       "\n",
       "        \n",
       "    \n",
       "            var tile_layer_d436cffaa15172ed46422aed5b199650 = L.tileLayer(\n",
       "                &quot;https://tile.openstreetmap.org/{z}/{x}/{y}.png&quot;,\n",
       "                {&quot;attribution&quot;: &quot;\\u0026copy; \\u003ca href=\\&quot;https://www.openstreetmap.org/copyright\\&quot;\\u003eOpenStreetMap\\u003c/a\\u003e contributors&quot;, &quot;detectRetina&quot;: false, &quot;maxNativeZoom&quot;: 19, &quot;maxZoom&quot;: 19, &quot;minZoom&quot;: 0, &quot;noWrap&quot;: false, &quot;opacity&quot;: 1, &quot;subdomains&quot;: &quot;abc&quot;, &quot;tms&quot;: false}\n",
       "            );\n",
       "        \n",
       "    \n",
       "            tile_layer_d436cffaa15172ed46422aed5b199650.addTo(map_1d3d980cc2a5e58cf7fa9fc7cf453a58);\n",
       "        \n",
       "    \n",
       "            var choropleth_38b5484a23bd536708ccfee64af98139 = L.featureGroup(\n",
       "                {}\n",
       "            );\n",
       "        \n",
       "    \n",
       "        function geo_json_42444107e4256aba9c374dbd39da4161_styler(feature) {\n",
       "            switch(feature.id) {\n",
       "                case &quot;\\uac15\\ub3d9\\uad6c&quot;: case &quot;\\uc601\\ub4f1\\ud3ec\\uad6c&quot;: case &quot;\\uc131\\ub3d9\\uad6c&quot;: \n",
       "                    return {&quot;color&quot;: &quot;black&quot;, &quot;fillColor&quot;: &quot;#d4b9da&quot;, &quot;fillOpacity&quot;: 0.7, &quot;opacity&quot;: 1, &quot;weight&quot;: 1};\n",
       "                case &quot;\\uc1a1\\ud30c\\uad6c&quot;: case &quot;\\uc11c\\ucd08\\uad6c&quot;: case &quot;\\uad00\\uc545\\uad6c&quot;: case &quot;\\ub3d9\\uc791\\uad6c&quot;: case &quot;\\uae08\\ucc9c\\uad6c&quot;: case &quot;\\uad6c\\ub85c\\uad6c&quot;: case &quot;\\uac15\\uc11c\\uad6c&quot;: case &quot;\\uc591\\ucc9c\\uad6c&quot;: case &quot;\\ub9c8\\ud3ec\\uad6c&quot;: case &quot;\\uc11c\\ub300\\ubb38\\uad6c&quot;: case &quot;\\uc740\\ud3c9\\uad6c&quot;: case &quot;\\ub178\\uc6d0\\uad6c&quot;: case &quot;\\ub3c4\\ubd09\\uad6c&quot;: case &quot;\\uac15\\ubd81\\uad6c&quot;: case &quot;\\uc131\\ubd81\\uad6c&quot;: case &quot;\\uc911\\ub791\\uad6c&quot;: case &quot;\\ub3d9\\ub300\\ubb38\\uad6c&quot;: case &quot;\\uad11\\uc9c4\\uad6c&quot;: \n",
       "                    return {&quot;color&quot;: &quot;black&quot;, &quot;fillColor&quot;: &quot;#f1eef6&quot;, &quot;fillOpacity&quot;: 0.7, &quot;opacity&quot;: 1, &quot;weight&quot;: 1};\n",
       "                case &quot;\\uac15\\ub0a8\\uad6c&quot;: case &quot;\\uc911\\uad6c&quot;: case &quot;\\uc885\\ub85c\\uad6c&quot;: \n",
       "                    return {&quot;color&quot;: &quot;black&quot;, &quot;fillColor&quot;: &quot;#df65b0&quot;, &quot;fillOpacity&quot;: 0.7, &quot;opacity&quot;: 1, &quot;weight&quot;: 1};\n",
       "                default:\n",
       "                    return {&quot;color&quot;: &quot;black&quot;, &quot;fillColor&quot;: &quot;#980043&quot;, &quot;fillOpacity&quot;: 0.7, &quot;opacity&quot;: 1, &quot;weight&quot;: 1};\n",
       "            }\n",
       "        }\n",
       "\n",
       "        function geo_json_42444107e4256aba9c374dbd39da4161_onEachFeature(feature, layer) {\n",
       "            layer.on({\n",
       "            });\n",
       "        };\n",
       "        var geo_json_42444107e4256aba9c374dbd39da4161 = L.geoJson(null, {\n",
       "                onEachFeature: geo_json_42444107e4256aba9c374dbd39da4161_onEachFeature,\n",
       "            \n",
       "                style: geo_json_42444107e4256aba9c374dbd39da4161_styler,\n",
       "        });\n",
       "\n",
       "        function geo_json_42444107e4256aba9c374dbd39da4161_add (data) {\n",
       "            geo_json_42444107e4256aba9c374dbd39da4161\n",
       "                .addData(data);\n",
       "        }\n",
       "            geo_json_42444107e4256aba9c374dbd39da4161_add({&quot;features&quot;: [{&quot;geometry&quot;: {&quot;coordinates&quot;: [[[127.11519584981606, 37.557533180704915], [127.16683184366129, 37.57672487388627], [127.18408792330152, 37.55814280369575], [127.16530984307447, 37.54221851258693], [127.14672806823502, 37.51415680680291], [127.12123165719615, 37.52528270089], [127.1116764203608, 37.540669955324965], [127.11519584981606, 37.557533180704915]]], &quot;type&quot;: &quot;Polygon&quot;}, &quot;id&quot;: &quot;\\uac15\\ub3d9\\uad6c&quot;, &quot;properties&quot;: {&quot;base_year&quot;: &quot;2013&quot;, &quot;code&quot;: &quot;11250&quot;, &quot;name&quot;: &quot;\\uac15\\ub3d9\\uad6c&quot;, &quot;name_eng&quot;: &quot;Gangdong-gu&quot;}, &quot;type&quot;: &quot;Feature&quot;}, {&quot;geometry&quot;: {&quot;coordinates&quot;: [[[127.0690698130372, 37.522279423505026], [127.10087519791962, 37.524841220167055], [127.1116764203608, 37.540669955324965], [127.12123165719615, 37.52528270089], [127.14672806823502, 37.51415680680291], [127.1634944215765, 37.497445406097484], [127.14206058413274, 37.47089819098501], [127.12440571080893, 37.46240445587048], [127.11117085201238, 37.485708381512445], [127.0719146000724, 37.50224013587669], [127.0690698130372, 37.522279423505026]]], &quot;type&quot;: &quot;Polygon&quot;}, &quot;id&quot;: &quot;\\uc1a1\\ud30c\\uad6c&quot;, &quot;properties&quot;: {&quot;base_year&quot;: &quot;2013&quot;, &quot;code&quot;: &quot;11240&quot;, &quot;name&quot;: &quot;\\uc1a1\\ud30c\\uad6c&quot;, &quot;name_eng&quot;: &quot;Songpa-gu&quot;}, &quot;type&quot;: &quot;Feature&quot;}, {&quot;geometry&quot;: {&quot;coordinates&quot;: [[[127.05867359288398, 37.52629974922568], [127.0690698130372, 37.522279423505026], [127.0719146000724, 37.50224013587669], [127.11117085201238, 37.485708381512445], [127.12440571080893, 37.46240445587048], [127.09842759318751, 37.45862253857461], [127.08640440578156, 37.472697935184655], [127.0559170481904, 37.4659228914077], [127.03621915098798, 37.48175802427603], [127.01397119667513, 37.52503988289669], [127.02302831890559, 37.53231899582663], [127.05867359288398, 37.52629974922568]]], &quot;type&quot;: &quot;Polygon&quot;}, &quot;id&quot;: &quot;\\uac15\\ub0a8\\uad6c&quot;, &quot;properties&quot;: {&quot;base_year&quot;: &quot;2013&quot;, &quot;code&quot;: &quot;11230&quot;, &quot;name&quot;: &quot;\\uac15\\ub0a8\\uad6c&quot;, &quot;name_eng&quot;: &quot;Gangnam-gu&quot;}, &quot;type&quot;: &quot;Feature&quot;}, {&quot;geometry&quot;: {&quot;coordinates&quot;: [[[127.01397119667513, 37.52503988289669], [127.03621915098798, 37.48175802427603], [127.0559170481904, 37.4659228914077], [127.08640440578156, 37.472697935184655], [127.09842759318751, 37.45862253857461], [127.09046928565951, 37.44296826114185], [127.06778107605433, 37.426197424057314], [127.04957232987142, 37.42805836845694], [127.03881782597922, 37.45382039851715], [126.99072073195462, 37.455326143310025], [126.98367668291802, 37.473856492692086], [126.98223807916081, 37.509314966770326], [127.01397119667513, 37.52503988289669]]], &quot;type&quot;: &quot;Polygon&quot;}, &quot;id&quot;: &quot;\\uc11c\\ucd08\\uad6c&quot;, &quot;properties&quot;: {&quot;base_year&quot;: &quot;2013&quot;, &quot;code&quot;: &quot;11220&quot;, &quot;name&quot;: &quot;\\uc11c\\ucd08\\uad6c&quot;, &quot;name_eng&quot;: &quot;Seocho-gu&quot;}, &quot;type&quot;: &quot;Feature&quot;}, {&quot;geometry&quot;: {&quot;coordinates&quot;: [[[126.98367668291802, 37.473856492692086], [126.99072073195462, 37.455326143310025], [126.96520439085143, 37.438249784006246], [126.95000001010182, 37.43613451165719], [126.93084408056525, 37.447382928333994], [126.9167728146601, 37.45490566423789], [126.90156094129895, 37.47753842789901], [126.90531975801812, 37.48218087575429], [126.94922661389508, 37.49125437495649], [126.9725891850662, 37.472561363278125], [126.98367668291802, 37.473856492692086]]], &quot;type&quot;: &quot;Polygon&quot;}, &quot;id&quot;: &quot;\\uad00\\uc545\\uad6c&quot;, &quot;properties&quot;: {&quot;base_year&quot;: &quot;2013&quot;, &quot;code&quot;: &quot;11210&quot;, &quot;name&quot;: &quot;\\uad00\\uc545\\uad6c&quot;, &quot;name_eng&quot;: &quot;Gwanak-gu&quot;}, &quot;type&quot;: &quot;Feature&quot;}, {&quot;geometry&quot;: {&quot;coordinates&quot;: [[[126.98223807916081, 37.509314966770326], [126.98367668291802, 37.473856492692086], [126.9725891850662, 37.472561363278125], [126.94922661389508, 37.49125437495649], [126.90531975801812, 37.48218087575429], [126.92177893174825, 37.494889877415176], [126.92810628828279, 37.51329595732015], [126.95249990298159, 37.51722500741813], [126.98223807916081, 37.509314966770326]]], &quot;type&quot;: &quot;Polygon&quot;}, &quot;id&quot;: &quot;\\ub3d9\\uc791\\uad6c&quot;, &quot;properties&quot;: {&quot;base_year&quot;: &quot;2013&quot;, &quot;code&quot;: &quot;11200&quot;, &quot;name&quot;: &quot;\\ub3d9\\uc791\\uad6c&quot;, &quot;name_eng&quot;: &quot;Dongjak-gu&quot;}, &quot;type&quot;: &quot;Feature&quot;}, {&quot;geometry&quot;: {&quot;coordinates&quot;: [[[126.89184663862764, 37.547373974997114], [126.94566733083212, 37.526617542453366], [126.95249990298159, 37.51722500741813], [126.92810628828279, 37.51329595732015], [126.92177893174825, 37.494889877415176], [126.90531975801812, 37.48218087575429], [126.89594776782485, 37.504675281309176], [126.88156402353862, 37.513970034765684], [126.88825757860099, 37.54079733630232], [126.89184663862764, 37.547373974997114]]], &quot;type&quot;: &quot;Polygon&quot;}, &quot;id&quot;: &quot;\\uc601\\ub4f1\\ud3ec\\uad6c&quot;, &quot;properties&quot;: {&quot;base_year&quot;: &quot;2013&quot;, &quot;code&quot;: &quot;11190&quot;, &quot;name&quot;: &quot;\\uc601\\ub4f1\\ud3ec\\uad6c&quot;, &quot;name_eng&quot;: &quot;Yeongdeungpo-gu&quot;}, &quot;type&quot;: &quot;Feature&quot;}, {&quot;geometry&quot;: {&quot;coordinates&quot;: [[[126.90156094129895, 37.47753842789901], [126.9167728146601, 37.45490566423789], [126.93084408056525, 37.447382928333994], [126.9025831711697, 37.434549366349124], [126.87683271502428, 37.482576591607305], [126.90156094129895, 37.47753842789901]]], &quot;type&quot;: &quot;Polygon&quot;}, &quot;id&quot;: &quot;\\uae08\\ucc9c\\uad6c&quot;, &quot;properties&quot;: {&quot;base_year&quot;: &quot;2013&quot;, &quot;code&quot;: &quot;11180&quot;, &quot;name&quot;: &quot;\\uae08\\ucc9c\\uad6c&quot;, &quot;name_eng&quot;: &quot;Geumcheon-gu&quot;}, &quot;type&quot;: &quot;Feature&quot;}, {&quot;geometry&quot;: {&quot;coordinates&quot;: [[[126.82688081517314, 37.50548972232896], [126.88156402353862, 37.513970034765684], [126.89594776782485, 37.504675281309176], [126.90531975801812, 37.48218087575429], [126.90156094129895, 37.47753842789901], [126.87683271502428, 37.482576591607305], [126.84762676054953, 37.47146723936323], [126.83549485076196, 37.474098236975095], [126.82264796791348, 37.4878476492147], [126.82504736331406, 37.50302612640443], [126.82688081517314, 37.50548972232896]]], &quot;type&quot;: &quot;Polygon&quot;}, &quot;id&quot;: &quot;\\uad6c\\ub85c\\uad6c&quot;, &quot;properties&quot;: {&quot;base_year&quot;: &quot;2013&quot;, &quot;code&quot;: &quot;11170&quot;, &quot;name&quot;: &quot;\\uad6c\\ub85c\\uad6c&quot;, &quot;name_eng&quot;: &quot;Guro-gu&quot;}, &quot;type&quot;: &quot;Feature&quot;}, {&quot;geometry&quot;: {&quot;coordinates&quot;: [[[126.79575768552907, 37.57881087633202], [126.80702115023597, 37.60123001013228], [126.82251438477105, 37.5880430810082], [126.85984199399667, 37.571847855292745], [126.89184663862764, 37.547373974997114], [126.88825757860099, 37.54079733630232], [126.86637464321238, 37.54859191094823], [126.86610073476395, 37.52699964144669], [126.84257291943153, 37.52373707805596], [126.8242331426722, 37.53788078753248], [126.77324417717703, 37.5459123450554], [126.76979180579352, 37.55139183008809], [126.79575768552907, 37.57881087633202]]], &quot;type&quot;: &quot;Polygon&quot;}, &quot;id&quot;: &quot;\\uac15\\uc11c\\uad6c&quot;, &quot;properties&quot;: {&quot;base_year&quot;: &quot;2013&quot;, &quot;code&quot;: &quot;11160&quot;, &quot;name&quot;: &quot;\\uac15\\uc11c\\uad6c&quot;, &quot;name_eng&quot;: &quot;Gangseo-gu&quot;}, &quot;type&quot;: &quot;Feature&quot;}, {&quot;geometry&quot;: {&quot;coordinates&quot;: [[[126.8242331426722, 37.53788078753248], [126.84257291943153, 37.52373707805596], [126.86610073476395, 37.52699964144669], [126.86637464321238, 37.54859191094823], [126.88825757860099, 37.54079733630232], [126.88156402353862, 37.513970034765684], [126.82688081517314, 37.50548972232896], [126.8242331426722, 37.53788078753248]]], &quot;type&quot;: &quot;Polygon&quot;}, &quot;id&quot;: &quot;\\uc591\\ucc9c\\uad6c&quot;, &quot;properties&quot;: {&quot;base_year&quot;: &quot;2013&quot;, &quot;code&quot;: &quot;11150&quot;, &quot;name&quot;: &quot;\\uc591\\ucc9c\\uad6c&quot;, &quot;name_eng&quot;: &quot;Yangcheon-gu&quot;}, &quot;type&quot;: &quot;Feature&quot;}, {&quot;geometry&quot;: {&quot;coordinates&quot;: [[[126.90522065831053, 37.57409700522574], [126.93898161798973, 37.552310003728124], [126.96358226710812, 37.55605635475154], [126.96448570553055, 37.548705692021635], [126.94566733083212, 37.526617542453366], [126.89184663862764, 37.547373974997114], [126.85984199399667, 37.571847855292745], [126.88433284773288, 37.588143322880526], [126.90522065831053, 37.57409700522574]]], &quot;type&quot;: &quot;Polygon&quot;}, &quot;id&quot;: &quot;\\ub9c8\\ud3ec\\uad6c&quot;, &quot;properties&quot;: {&quot;base_year&quot;: &quot;2013&quot;, &quot;code&quot;: &quot;11140&quot;, &quot;name&quot;: &quot;\\ub9c8\\ud3ec\\uad6c&quot;, &quot;name_eng&quot;: &quot;Mapo-gu&quot;}, &quot;type&quot;: &quot;Feature&quot;}, {&quot;geometry&quot;: {&quot;coordinates&quot;: [[[126.9524752030572, 37.60508692737045], [126.95565425846463, 37.576080790881456], [126.96873633279075, 37.56313604690827], [126.96358226710812, 37.55605635475154], [126.93898161798973, 37.552310003728124], [126.90522065831053, 37.57409700522574], [126.9524752030572, 37.60508692737045]]], &quot;type&quot;: &quot;Polygon&quot;}, &quot;id&quot;: &quot;\\uc11c\\ub300\\ubb38\\uad6c&quot;, &quot;properties&quot;: {&quot;base_year&quot;: &quot;2013&quot;, &quot;code&quot;: &quot;11130&quot;, &quot;name&quot;: &quot;\\uc11c\\ub300\\ubb38\\uad6c&quot;, &quot;name_eng&quot;: &quot;Seodaemun-gu&quot;}, &quot;type&quot;: &quot;Feature&quot;}, {&quot;geometry&quot;: {&quot;coordinates&quot;: [[[126.9738864128702, 37.62949634786888], [126.95427017006129, 37.622033431339425], [126.9524752030572, 37.60508692737045], [126.90522065831053, 37.57409700522574], [126.88433284773288, 37.588143322880526], [126.90396681003595, 37.59227403419942], [126.90303066177668, 37.609977911401344], [126.91455481429648, 37.64150050996935], [126.956473797387, 37.652480737339445], [126.9738864128702, 37.62949634786888]]], &quot;type&quot;: &quot;Polygon&quot;}, &quot;id&quot;: &quot;\\uc740\\ud3c9\\uad6c&quot;, &quot;properties&quot;: {&quot;base_year&quot;: &quot;2013&quot;, &quot;code&quot;: &quot;11120&quot;, &quot;name&quot;: &quot;\\uc740\\ud3c9\\uad6c&quot;, &quot;name_eng&quot;: &quot;Eunpyeong-gu&quot;}, &quot;type&quot;: &quot;Feature&quot;}, {&quot;geometry&quot;: {&quot;coordinates&quot;: [[[127.0838752703195, 37.69359534202034], [127.09706391309695, 37.686383719372294], [127.09440766298717, 37.64713490473045], [127.11326795855199, 37.639622905315925], [127.10782277688129, 37.61804244241069], [127.07351243825278, 37.61283660342313], [127.05209373568619, 37.62164065487782], [127.04358800895609, 37.62848931298715], [127.05800075220091, 37.64318263878276], [127.05288479710485, 37.68423857084347], [127.0838752703195, 37.69359534202034]]], &quot;type&quot;: &quot;Polygon&quot;}, &quot;id&quot;: &quot;\\ub178\\uc6d0\\uad6c&quot;, &quot;properties&quot;: {&quot;base_year&quot;: &quot;2013&quot;, &quot;code&quot;: &quot;11110&quot;, &quot;name&quot;: &quot;\\ub178\\uc6d0\\uad6c&quot;, &quot;name_eng&quot;: &quot;Nowon-gu&quot;}, &quot;type&quot;: &quot;Feature&quot;}, {&quot;geometry&quot;: {&quot;coordinates&quot;: [[[127.05288479710485, 37.68423857084347], [127.05800075220091, 37.64318263878276], [127.04358800895609, 37.62848931298715], [127.01465935892466, 37.64943687496812], [127.02062116141389, 37.667173575971205], [127.01039666042071, 37.681894589603594], [127.01795099203432, 37.69824412775662], [127.05288479710485, 37.68423857084347]]], &quot;type&quot;: &quot;Polygon&quot;}, &quot;id&quot;: &quot;\\ub3c4\\ubd09\\uad6c&quot;, &quot;properties&quot;: {&quot;base_year&quot;: &quot;2013&quot;, &quot;code&quot;: &quot;11100&quot;, &quot;name&quot;: &quot;\\ub3c4\\ubd09\\uad6c&quot;, &quot;name_eng&quot;: &quot;Dobong-gu&quot;}, &quot;type&quot;: &quot;Feature&quot;}, {&quot;geometry&quot;: {&quot;coordinates&quot;: [[[126.99383903424, 37.676681761199085], [127.01039666042071, 37.681894589603594], [127.02062116141389, 37.667173575971205], [127.01465935892466, 37.64943687496812], [127.04358800895609, 37.62848931298715], [127.05209373568619, 37.62164065487782], [127.03892400992301, 37.609715611023816], [127.0128154749523, 37.613652243470256], [126.98672705513869, 37.63377641288196], [126.9817452676551, 37.65209769387776], [126.99383903424, 37.676681761199085]]], &quot;type&quot;: &quot;Polygon&quot;}, &quot;id&quot;: &quot;\\uac15\\ubd81\\uad6c&quot;, &quot;properties&quot;: {&quot;base_year&quot;: &quot;2013&quot;, &quot;code&quot;: &quot;11090&quot;, &quot;name&quot;: &quot;\\uac15\\ubd81\\uad6c&quot;, &quot;name_eng&quot;: &quot;Gangbuk-gu&quot;}, &quot;type&quot;: &quot;Feature&quot;}, {&quot;geometry&quot;: {&quot;coordinates&quot;: [[[126.977175406416, 37.62859715400388], [126.98672705513869, 37.63377641288196], [127.0128154749523, 37.613652243470256], [127.03892400992301, 37.609715611023816], [127.05209373568619, 37.62164065487782], [127.07351243825278, 37.61283660342313], [127.07382707099227, 37.60401928986419], [127.042705222094, 37.59239437593391], [127.02527254528003, 37.57524616245249], [126.99348293358314, 37.588565457216156], [126.98879865992384, 37.6118927319756], [126.977175406416, 37.62859715400388]]], &quot;type&quot;: &quot;Polygon&quot;}, &quot;id&quot;: &quot;\\uc131\\ubd81\\uad6c&quot;, &quot;properties&quot;: {&quot;base_year&quot;: &quot;2013&quot;, &quot;code&quot;: &quot;11080&quot;, &quot;name&quot;: &quot;\\uc131\\ubd81\\uad6c&quot;, &quot;name_eng&quot;: &quot;Seongbuk-gu&quot;}, &quot;type&quot;: &quot;Feature&quot;}, {&quot;geometry&quot;: {&quot;coordinates&quot;: [[[127.07351243825278, 37.61283660342313], [127.10782277688129, 37.61804244241069], [127.1201246020114, 37.60178457598188], [127.10304174249214, 37.57076342290955], [127.08068541280403, 37.56906425519017], [127.07382707099227, 37.60401928986419], [127.07351243825278, 37.61283660342313]]], &quot;type&quot;: &quot;Polygon&quot;}, &quot;id&quot;: &quot;\\uc911\\ub791\\uad6c&quot;, &quot;properties&quot;: {&quot;base_year&quot;: &quot;2013&quot;, &quot;code&quot;: &quot;11070&quot;, &quot;name&quot;: &quot;\\uc911\\ub791\\uad6c&quot;, &quot;name_eng&quot;: &quot;Jungnang-gu&quot;}, &quot;type&quot;: &quot;Feature&quot;}, {&quot;geometry&quot;: {&quot;coordinates&quot;: [[[127.02527254528003, 37.57524616245249], [127.042705222094, 37.59239437593391], [127.07382707099227, 37.60401928986419], [127.08068541280403, 37.56906425519017], [127.07421053024362, 37.55724769712085], [127.05005601081567, 37.567577612590846], [127.02547266349976, 37.568943552237734], [127.02527254528003, 37.57524616245249]]], &quot;type&quot;: &quot;Polygon&quot;}, &quot;id&quot;: &quot;\\ub3d9\\ub300\\ubb38\\uad6c&quot;, &quot;properties&quot;: {&quot;base_year&quot;: &quot;2013&quot;, &quot;code&quot;: &quot;11060&quot;, &quot;name&quot;: &quot;\\ub3d9\\ub300\\ubb38\\uad6c&quot;, &quot;name_eng&quot;: &quot;Dongdaemun-gu&quot;}, &quot;type&quot;: &quot;Feature&quot;}, {&quot;geometry&quot;: {&quot;coordinates&quot;: [[[127.08068541280403, 37.56906425519017], [127.10304174249214, 37.57076342290955], [127.11519584981606, 37.557533180704915], [127.1116764203608, 37.540669955324965], [127.10087519791962, 37.524841220167055], [127.0690698130372, 37.522279423505026], [127.05867359288398, 37.52629974922568], [127.07421053024362, 37.55724769712085], [127.08068541280403, 37.56906425519017]]], &quot;type&quot;: &quot;Polygon&quot;}, &quot;id&quot;: &quot;\\uad11\\uc9c4\\uad6c&quot;, &quot;properties&quot;: {&quot;base_year&quot;: &quot;2013&quot;, &quot;code&quot;: &quot;11050&quot;, &quot;name&quot;: &quot;\\uad11\\uc9c4\\uad6c&quot;, &quot;name_eng&quot;: &quot;Gwangjin-gu&quot;}, &quot;type&quot;: &quot;Feature&quot;}, {&quot;geometry&quot;: {&quot;coordinates&quot;: [[[127.02547266349976, 37.568943552237734], [127.05005601081567, 37.567577612590846], [127.07421053024362, 37.55724769712085], [127.05867359288398, 37.52629974922568], [127.02302831890559, 37.53231899582663], [127.01070894177482, 37.54118048964762], [127.02547266349976, 37.568943552237734]]], &quot;type&quot;: &quot;Polygon&quot;}, &quot;id&quot;: &quot;\\uc131\\ub3d9\\uad6c&quot;, &quot;properties&quot;: {&quot;base_year&quot;: &quot;2013&quot;, &quot;code&quot;: &quot;11040&quot;, &quot;name&quot;: &quot;\\uc131\\ub3d9\\uad6c&quot;, &quot;name_eng&quot;: &quot;Seongdong-gu&quot;}, &quot;type&quot;: &quot;Feature&quot;}, {&quot;geometry&quot;: {&quot;coordinates&quot;: [[[127.01070894177482, 37.54118048964762], [127.02302831890559, 37.53231899582663], [127.01397119667513, 37.52503988289669], [126.98223807916081, 37.509314966770326], [126.95249990298159, 37.51722500741813], [126.94566733083212, 37.526617542453366], [126.96448570553055, 37.548705692021635], [126.98752996903328, 37.55094818807139], [127.01070894177482, 37.54118048964762]]], &quot;type&quot;: &quot;Polygon&quot;}, &quot;id&quot;: &quot;\\uc6a9\\uc0b0\\uad6c&quot;, &quot;properties&quot;: {&quot;base_year&quot;: &quot;2013&quot;, &quot;code&quot;: &quot;11030&quot;, &quot;name&quot;: &quot;\\uc6a9\\uc0b0\\uad6c&quot;, &quot;name_eng&quot;: &quot;Yongsan-gu&quot;}, &quot;type&quot;: &quot;Feature&quot;}, {&quot;geometry&quot;: {&quot;coordinates&quot;: [[[127.02547266349976, 37.568943552237734], [127.01070894177482, 37.54118048964762], [126.98752996903328, 37.55094818807139], [126.96448570553055, 37.548705692021635], [126.96358226710812, 37.55605635475154], [126.96873633279075, 37.56313604690827], [127.02547266349976, 37.568943552237734]]], &quot;type&quot;: &quot;Polygon&quot;}, &quot;id&quot;: &quot;\\uc911\\uad6c&quot;, &quot;properties&quot;: {&quot;base_year&quot;: &quot;2013&quot;, &quot;code&quot;: &quot;11020&quot;, &quot;name&quot;: &quot;\\uc911\\uad6c&quot;, &quot;name_eng&quot;: &quot;Jung-gu&quot;}, &quot;type&quot;: &quot;Feature&quot;}, {&quot;geometry&quot;: {&quot;coordinates&quot;: [[[126.9738864128702, 37.62949634786888], [126.977175406416, 37.62859715400388], [126.98879865992384, 37.6118927319756], [126.99348293358314, 37.588565457216156], [127.02527254528003, 37.57524616245249], [127.02547266349976, 37.568943552237734], [126.96873633279075, 37.56313604690827], [126.95565425846463, 37.576080790881456], [126.9524752030572, 37.60508692737045], [126.95427017006129, 37.622033431339425], [126.9738864128702, 37.62949634786888]]], &quot;type&quot;: &quot;Polygon&quot;}, &quot;id&quot;: &quot;\\uc885\\ub85c\\uad6c&quot;, &quot;properties&quot;: {&quot;base_year&quot;: &quot;2013&quot;, &quot;code&quot;: &quot;11010&quot;, &quot;name&quot;: &quot;\\uc885\\ub85c\\uad6c&quot;, &quot;name_eng&quot;: &quot;Jongno-gu&quot;}, &quot;type&quot;: &quot;Feature&quot;}], &quot;type&quot;: &quot;FeatureCollection&quot;});\n",
       "\n",
       "        \n",
       "    \n",
       "            geo_json_42444107e4256aba9c374dbd39da4161.addTo(choropleth_38b5484a23bd536708ccfee64af98139);\n",
       "        \n",
       "    \n",
       "    var color_map_4b492d7851e7e779554dc8795c040b56 = {};\n",
       "\n",
       "    \n",
       "    color_map_4b492d7851e7e779554dc8795c040b56.color = d3.scale.threshold()\n",
       "              .domain([1615.7857142857142, 1616.950806374654, 1618.1158984635938, 1619.2809905525335, 1620.4460826414734, 1621.611174730413, 1622.776266819353, 1623.9413589082926, 1625.1064509972325, 1626.2715430861722, 1627.436635175112, 1628.6017272640518, 1629.7668193529917, 1630.9319114419313, 1632.0970035308712, 1633.262095619811, 1634.4271877087508, 1635.5922797976905, 1636.7573718866304, 1637.92246397557, 1639.08755606451, 1640.2526481534496, 1641.4177402423895, 1642.5828323313292, 1643.747924420269, 1644.9130165092088, 1646.0781085981487, 1647.2432006870883, 1648.4082927760282, 1649.573384864968, 1650.7384769539078, 1651.9035690428475, 1653.0686611317874, 1654.233753220727, 1655.398845309667, 1656.5639373986066, 1657.7290294875465, 1658.8941215764862, 1660.0592136654261, 1661.2243057543658, 1662.3893978433057, 1663.5544899322454, 1664.7195820211853, 1665.884674110125, 1667.0497661990648, 1668.2148582880045, 1669.3799503769442, 1670.545042465884, 1671.7101345548238, 1672.8752266437637, 1674.0403187327033, 1675.2054108216432, 1676.370502910583, 1677.5355949995228, 1678.7006870884625, 1679.8657791774024, 1681.030871266342, 1682.195963355282, 1683.3610554442216, 1684.5261475331615, 1685.6912396221012, 1686.856331711041, 1688.0214237999808, 1689.1865158889207, 1690.3516079778603, 1691.5167000668002, 1692.68179215574, 1693.8468842446798, 1695.0119763336195, 1696.1770684225594, 1697.342160511499, 1698.507252600439, 1699.6723446893786, 1700.8374367783185, 1702.0025288672582, 1703.167620956198, 1704.3327130451378, 1705.4978051340777, 1706.6628972230174, 1707.8279893119573, 1708.993081400897, 1710.1581734898368, 1711.3232655787765, 1712.4883576677164, 1713.653449756656, 1714.818541845596, 1715.9836339345356, 1717.1487260234753, 1718.3138181124152, 1719.4789102013551, 1720.6440022902948, 1721.8090943792345, 1722.9741864681744, 1724.1392785571143, 1725.304370646054, 1726.4694627349936, 1727.6345548239335, 1728.7996469128732, 1729.964739001813, 1731.1298310907528, 1732.2949231796927, 1733.4600152686323, 1734.6251073575722, 1735.790199446512, 1736.9552915354518, 1738.1203836243915, 1739.2854757133314, 1740.450567802271, 1741.615659891211, 1742.7807519801506, 1743.9458440690905, 1745.1109361580302, 1746.27602824697, 1747.4411203359098, 1748.6062124248497, 1749.7713045137893, 1750.9363966027292, 1752.101488691669, 1753.2665807806088, 1754.4316728695485, 1755.5967649584884, 1756.761857047428, 1757.926949136368, 1759.0920412253076, 1760.2571333142475, 1761.4222254031872, 1762.587317492127, 1763.7524095810668, 1764.9175016700067, 1766.0825937589464, 1767.2476858478863, 1768.412777936826, 1769.5778700257658, 1770.7429621147055, 1771.9080542036454, 1773.073146292585, 1774.2382383815248, 1775.4033304704647, 1776.5684225594046, 1777.7335146483442, 1778.898606737284, 1780.0636988262238, 1781.2287909151635, 1782.3938830041034, 1783.558975093043, 1784.724067181983, 1785.8891592709226, 1787.0542513598625, 1788.2193434488022, 1789.384435537742, 1790.5495276266818, 1791.7146197156217, 1792.8797118045613, 1794.0448038935012, 1795.209895982441, 1796.3749880713808, 1797.5400801603205, 1798.7051722492604, 1799.8702643382, 1801.03535642714, 1802.2004485160796, 1803.3655406050195, 1804.5306326939592, 1805.695724782899, 1806.8608168718388, 1808.0259089607787, 1809.1910010497184, 1810.3560931386583, 1811.521185227598, 1812.6862773165378, 1813.8513694054775, 1815.0164614944174, 1816.181553583357, 1817.346645672297, 1818.5117377612366, 1819.6768298501765, 1820.8419219391162, 1822.007014028056, 1823.1721061169958, 1824.3371982059357, 1825.5022902948754, 1826.667382383815, 1827.832474472755, 1828.9975665616948, 1830.1626586506345, 1831.3277507395742, 1832.492842828514, 1833.6579349174538, 1834.8230270063937, 1835.9881190953333, 1837.1532111842732, 1838.3183032732131, 1839.4833953621528, 1840.6484874510925, 1841.8135795400324, 1842.978671628972, 1844.143763717912, 1845.3088558068516, 1846.4739478957915, 1847.6390399847312, 1848.804132073671, 1849.9692241626108, 1851.1343162515507, 1852.2994083404903, 1853.4645004294302, 1854.62959251837, 1855.7946846073098, 1856.9597766962495, 1858.1248687851894, 1859.289960874129, 1860.455052963069, 1861.6201450520086, 1862.7852371409485, 1863.9503292298882, 1865.115421318828, 1866.2805134077678, 1867.4456054967077, 1868.6106975856474, 1869.7757896745873, 1870.940881763527, 1872.1059738524668, 1873.2710659414065, 1874.4361580303462, 1875.601250119286, 1876.766342208226, 1877.9314342971657, 1879.0965263861053, 1880.2616184750452, 1881.4267105639851, 1882.5918026529248, 1883.7568947418645, 1884.9219868308044, 1886.0870789197443, 1887.252171008684, 1888.4172630976236, 1889.5823551865635, 1890.7474472755032, 1891.912539364443, 1893.0776314533828, 1894.2427235423227, 1895.4078156312623, 1896.5729077202022, 1897.737999809142, 1898.9030918980818, 1900.0681839870215, 1901.2332760759614, 1902.398368164901, 1903.563460253841, 1904.7285523427806, 1905.8936444317205, 1907.0587365206602, 1908.2238286096, 1909.3889206985398, 1910.5540127874797, 1911.7191048764194, 1912.8841969653593, 1914.049289054299, 1915.2143811432388, 1916.3794732321785, 1917.5445653211184, 1918.709657410058, 1919.874749498998, 1921.0398415879376, 1922.2049336768773, 1923.3700257658172, 1924.5351178547571, 1925.7002099436968, 1926.8653020326365, 1928.0303941215764, 1929.1954862105163, 1930.360578299456, 1931.5256703883956, 1932.6907624773355, 1933.8558545662754, 1935.020946655215, 1936.1860387441548, 1937.3511308330947, 1938.5162229220346, 1939.6813150109742, 1940.846407099914, 1942.0114991888538, 1943.1765912777937, 1944.3416833667334, 1945.506775455673, 1946.671867544613, 1947.8369596335526, 1949.0020517224925, 1950.1671438114322, 1951.332235900372, 1952.4973279893118, 1953.6624200782517, 1954.8275121671913, 1955.9926042561312, 1957.157696345071, 1958.3227884340108, 1959.4878805229505, 1960.6529726118904, 1961.81806470083, 1962.98315678977, 1964.1482488787096, 1965.3133409676495, 1966.4784330565892, 1967.643525145529, 1968.8086172344688, 1969.9737093234087, 1971.1388014123484, 1972.3038935012883, 1973.468985590228, 1974.6340776791678, 1975.7991697681075, 1976.9642618570474, 1978.129353945987, 1979.2944460349268, 1980.4595381238667, 1981.6246302128066, 1982.7897223017462, 1983.954814390686, 1985.1199064796258, 1986.2849985685657, 1987.4500906575054, 1988.615182746445, 1989.780274835385, 1990.9453669243246, 1992.1104590132645, 1993.2755511022042, 1994.440643191144, 1995.6057352800838, 1996.7708273690237, 1997.9359194579633, 1999.1010115469032, 2000.2661036358431, 2001.4311957247828, 2002.5962878137225, 2003.7613799026624, 2004.9264719916023, 2006.091564080542, 2007.2566561694816, 2008.4217482584215, 2009.5868403473612, 2010.751932436301, 2011.9170245252408, 2013.0821166141807, 2014.2472087031204, 2015.4123007920603, 2016.577392881, 2017.7424849699398, 2018.9075770588795, 2020.0726691478194, 2021.237761236759, 2022.4028533256987, 2023.5679454146386, 2024.7330375035785, 2025.8981295925182, 2027.063221681458, 2028.2283137703978, 2029.3934058593377, 2030.5584979482774, 2031.723590037217, 2032.888682126157, 2034.0537742150968, 2035.2188663040365, 2036.3839583929762, 2037.549050481916, 2038.714142570856, 2039.8792346597957, 2041.0443267487353, 2042.2094188376752, 2043.3745109266151, 2044.5396030155548, 2045.7046951044945, 2046.8697871934344, 2048.0348792823743, 2049.199971371314, 2050.3650634602536, 2051.5301555491933, 2052.6952476381334, 2053.860339727073, 2055.0254318160128, 2056.1905239049524, 2057.3556159938926, 2058.5207080828322, 2059.685800171772, 2060.8508922607116, 2062.0159843496517, 2063.1810764385914, 2064.346168527531, 2065.5112606164707, 2066.676352705411, 2067.8414447943505, 2069.00653688329, 2070.17162897223, 2071.3367210611696, 2072.5018131501097, 2073.6669052390494, 2074.831997327989, 2075.997089416929, 2077.162181505869, 2078.3272735948085, 2079.492365683748, 2080.6574577726883, 2081.822549861628, 2082.9876419505676, 2084.1527340395073, 2085.3178261284475, 2086.482918217387, 2087.648010306327, 2088.8131023952665, 2089.978194484206, 2091.1432865731463, 2092.308378662086, 2093.4734707510256, 2094.6385628399657, 2095.8036549289054, 2096.968747017845, 2098.1338391067848, 2099.2989311957244, 2100.4640232846646, 2101.6291153736042, 2102.794207462544, 2103.959299551484, 2105.1243916404237, 2106.2894837293634, 2107.454575818303, 2108.6196679072427, 2109.784759996183, 2110.9498520851225, 2112.114944174062, 2113.280036263002, 2114.445128351942, 2115.6102204408817, 2116.7753125298213, 2117.940404618761, 2119.105496707701, 2120.270588796641, 2121.4356808855805, 2122.60077297452, 2123.7658650634603, 2124.9309571524, 2126.0960492413396, 2127.2611413302793, 2128.426233419219, 2129.591325508159, 2130.756417597099, 2131.9215096860385, 2133.0866017749786, 2134.2516938639183, 2135.416785952858, 2136.5818780417976, 2137.7469701307373, 2138.9120622196774, 2140.077154308617, 2141.2422463975568, 2142.407338486497, 2143.5724305754366, 2144.7375226643762, 2145.902614753316, 2147.0677068422556, 2148.2327989311957, 2149.3978910201354, 2150.562983109075, 2151.728075198015, 2152.893167286955, 2154.0582593758945, 2155.223351464834, 2156.388443553774, 2157.553535642714, 2158.7186277316537, 2159.8837198205933, 2161.0488119095335, 2162.213903998473, 2163.378996087413, 2164.5440881763525, 2165.709180265292, 2166.874272354232, 2168.039364443172, 2169.2044565321116, 2170.3695486210518, 2171.5346407099914, 2172.699732798931, 2173.864824887871, 2175.0299169768105, 2176.19500906575, 2177.3601011546903, 2178.52519324363, 2179.6902853325696, 2180.8553774215097, 2182.0204695104494, 2183.185561599389, 2184.3506536883287, 2185.5157457772684, 2186.6808378662085, 2187.845929955148, 2189.011022044088, 2190.176114133028, 2191.3412062219677, 2192.5062983109074, 2193.671390399847, 2194.8364824887867, 2196.001574577727, 2197.1666666666665])\n",
       "              .range([&#x27;#f1eef6ff&#x27;, &#x27;#f1eef6ff&#x27;, &#x27;#f1eef6ff&#x27;, &#x27;#f1eef6ff&#x27;, &#x27;#f1eef6ff&#x27;, &#x27;#f1eef6ff&#x27;, &#x27;#f1eef6ff&#x27;, &#x27;#f1eef6ff&#x27;, &#x27;#f1eef6ff&#x27;, &#x27;#f1eef6ff&#x27;, &#x27;#f1eef6ff&#x27;, &#x27;#f1eef6ff&#x27;, &#x27;#f1eef6ff&#x27;, &#x27;#f1eef6ff&#x27;, &#x27;#f1eef6ff&#x27;, &#x27;#f1eef6ff&#x27;, &#x27;#f1eef6ff&#x27;, &#x27;#f1eef6ff&#x27;, &#x27;#f1eef6ff&#x27;, &#x27;#f1eef6ff&#x27;, &#x27;#f1eef6ff&#x27;, &#x27;#f1eef6ff&#x27;, &#x27;#f1eef6ff&#x27;, &#x27;#f1eef6ff&#x27;, &#x27;#f1eef6ff&#x27;, &#x27;#f1eef6ff&#x27;, &#x27;#f1eef6ff&#x27;, &#x27;#f1eef6ff&#x27;, &#x27;#f1eef6ff&#x27;, &#x27;#f1eef6ff&#x27;, &#x27;#f1eef6ff&#x27;, &#x27;#f1eef6ff&#x27;, &#x27;#f1eef6ff&#x27;, &#x27;#f1eef6ff&#x27;, &#x27;#f1eef6ff&#x27;, &#x27;#f1eef6ff&#x27;, &#x27;#f1eef6ff&#x27;, &#x27;#f1eef6ff&#x27;, &#x27;#f1eef6ff&#x27;, &#x27;#f1eef6ff&#x27;, &#x27;#f1eef6ff&#x27;, &#x27;#f1eef6ff&#x27;, &#x27;#f1eef6ff&#x27;, &#x27;#f1eef6ff&#x27;, &#x27;#f1eef6ff&#x27;, &#x27;#f1eef6ff&#x27;, &#x27;#f1eef6ff&#x27;, &#x27;#f1eef6ff&#x27;, &#x27;#f1eef6ff&#x27;, &#x27;#f1eef6ff&#x27;, &#x27;#f1eef6ff&#x27;, &#x27;#f1eef6ff&#x27;, &#x27;#f1eef6ff&#x27;, &#x27;#f1eef6ff&#x27;, &#x27;#f1eef6ff&#x27;, &#x27;#f1eef6ff&#x27;, &#x27;#f1eef6ff&#x27;, &#x27;#f1eef6ff&#x27;, &#x27;#f1eef6ff&#x27;, &#x27;#f1eef6ff&#x27;, &#x27;#f1eef6ff&#x27;, &#x27;#f1eef6ff&#x27;, &#x27;#f1eef6ff&#x27;, &#x27;#f1eef6ff&#x27;, &#x27;#f1eef6ff&#x27;, &#x27;#f1eef6ff&#x27;, &#x27;#f1eef6ff&#x27;, &#x27;#f1eef6ff&#x27;, &#x27;#f1eef6ff&#x27;, &#x27;#f1eef6ff&#x27;, &#x27;#f1eef6ff&#x27;, &#x27;#f1eef6ff&#x27;, &#x27;#f1eef6ff&#x27;, &#x27;#f1eef6ff&#x27;, &#x27;#f1eef6ff&#x27;, &#x27;#f1eef6ff&#x27;, &#x27;#f1eef6ff&#x27;, &#x27;#f1eef6ff&#x27;, &#x27;#f1eef6ff&#x27;, &#x27;#f1eef6ff&#x27;, &#x27;#f1eef6ff&#x27;, &#x27;#f1eef6ff&#x27;, &#x27;#f1eef6ff&#x27;, &#x27;#f1eef6ff&#x27;, &#x27;#d4b9daff&#x27;, &#x27;#d4b9daff&#x27;, &#x27;#d4b9daff&#x27;, &#x27;#d4b9daff&#x27;, &#x27;#d4b9daff&#x27;, &#x27;#d4b9daff&#x27;, &#x27;#d4b9daff&#x27;, &#x27;#d4b9daff&#x27;, &#x27;#d4b9daff&#x27;, &#x27;#d4b9daff&#x27;, &#x27;#d4b9daff&#x27;, &#x27;#d4b9daff&#x27;, &#x27;#d4b9daff&#x27;, &#x27;#d4b9daff&#x27;, &#x27;#d4b9daff&#x27;, &#x27;#d4b9daff&#x27;, &#x27;#d4b9daff&#x27;, &#x27;#d4b9daff&#x27;, &#x27;#d4b9daff&#x27;, &#x27;#d4b9daff&#x27;, &#x27;#d4b9daff&#x27;, &#x27;#d4b9daff&#x27;, &#x27;#d4b9daff&#x27;, &#x27;#d4b9daff&#x27;, &#x27;#d4b9daff&#x27;, &#x27;#d4b9daff&#x27;, &#x27;#d4b9daff&#x27;, &#x27;#d4b9daff&#x27;, &#x27;#d4b9daff&#x27;, &#x27;#d4b9daff&#x27;, &#x27;#d4b9daff&#x27;, &#x27;#d4b9daff&#x27;, &#x27;#d4b9daff&#x27;, &#x27;#d4b9daff&#x27;, &#x27;#d4b9daff&#x27;, &#x27;#d4b9daff&#x27;, &#x27;#d4b9daff&#x27;, &#x27;#d4b9daff&#x27;, &#x27;#d4b9daff&#x27;, &#x27;#d4b9daff&#x27;, &#x27;#d4b9daff&#x27;, &#x27;#d4b9daff&#x27;, &#x27;#d4b9daff&#x27;, &#x27;#d4b9daff&#x27;, &#x27;#d4b9daff&#x27;, &#x27;#d4b9daff&#x27;, &#x27;#d4b9daff&#x27;, &#x27;#d4b9daff&#x27;, &#x27;#d4b9daff&#x27;, &#x27;#d4b9daff&#x27;, &#x27;#d4b9daff&#x27;, &#x27;#d4b9daff&#x27;, &#x27;#d4b9daff&#x27;, &#x27;#d4b9daff&#x27;, &#x27;#d4b9daff&#x27;, &#x27;#d4b9daff&#x27;, &#x27;#d4b9daff&#x27;, &#x27;#d4b9daff&#x27;, &#x27;#d4b9daff&#x27;, &#x27;#d4b9daff&#x27;, &#x27;#d4b9daff&#x27;, &#x27;#d4b9daff&#x27;, &#x27;#d4b9daff&#x27;, &#x27;#d4b9daff&#x27;, &#x27;#d4b9daff&#x27;, &#x27;#d4b9daff&#x27;, &#x27;#d4b9daff&#x27;, &#x27;#d4b9daff&#x27;, &#x27;#d4b9daff&#x27;, &#x27;#d4b9daff&#x27;, &#x27;#d4b9daff&#x27;, &#x27;#d4b9daff&#x27;, &#x27;#d4b9daff&#x27;, &#x27;#d4b9daff&#x27;, &#x27;#d4b9daff&#x27;, &#x27;#d4b9daff&#x27;, &#x27;#d4b9daff&#x27;, &#x27;#d4b9daff&#x27;, &#x27;#d4b9daff&#x27;, &#x27;#d4b9daff&#x27;, &#x27;#d4b9daff&#x27;, &#x27;#d4b9daff&#x27;, &#x27;#d4b9daff&#x27;, &#x27;#c994c7ff&#x27;, &#x27;#c994c7ff&#x27;, &#x27;#c994c7ff&#x27;, &#x27;#c994c7ff&#x27;, &#x27;#c994c7ff&#x27;, &#x27;#c994c7ff&#x27;, &#x27;#c994c7ff&#x27;, &#x27;#c994c7ff&#x27;, &#x27;#c994c7ff&#x27;, &#x27;#c994c7ff&#x27;, &#x27;#c994c7ff&#x27;, &#x27;#c994c7ff&#x27;, &#x27;#c994c7ff&#x27;, &#x27;#c994c7ff&#x27;, &#x27;#c994c7ff&#x27;, &#x27;#c994c7ff&#x27;, &#x27;#c994c7ff&#x27;, &#x27;#c994c7ff&#x27;, &#x27;#c994c7ff&#x27;, &#x27;#c994c7ff&#x27;, &#x27;#c994c7ff&#x27;, &#x27;#c994c7ff&#x27;, &#x27;#c994c7ff&#x27;, &#x27;#c994c7ff&#x27;, &#x27;#c994c7ff&#x27;, &#x27;#c994c7ff&#x27;, &#x27;#c994c7ff&#x27;, &#x27;#c994c7ff&#x27;, &#x27;#c994c7ff&#x27;, &#x27;#c994c7ff&#x27;, &#x27;#c994c7ff&#x27;, &#x27;#c994c7ff&#x27;, &#x27;#c994c7ff&#x27;, &#x27;#c994c7ff&#x27;, &#x27;#c994c7ff&#x27;, &#x27;#c994c7ff&#x27;, &#x27;#c994c7ff&#x27;, &#x27;#c994c7ff&#x27;, &#x27;#c994c7ff&#x27;, &#x27;#c994c7ff&#x27;, &#x27;#c994c7ff&#x27;, &#x27;#c994c7ff&#x27;, &#x27;#c994c7ff&#x27;, &#x27;#c994c7ff&#x27;, &#x27;#c994c7ff&#x27;, &#x27;#c994c7ff&#x27;, &#x27;#c994c7ff&#x27;, &#x27;#c994c7ff&#x27;, &#x27;#c994c7ff&#x27;, &#x27;#c994c7ff&#x27;, &#x27;#c994c7ff&#x27;, &#x27;#c994c7ff&#x27;, &#x27;#c994c7ff&#x27;, &#x27;#c994c7ff&#x27;, &#x27;#c994c7ff&#x27;, &#x27;#c994c7ff&#x27;, &#x27;#c994c7ff&#x27;, &#x27;#c994c7ff&#x27;, &#x27;#c994c7ff&#x27;, &#x27;#c994c7ff&#x27;, &#x27;#c994c7ff&#x27;, &#x27;#c994c7ff&#x27;, &#x27;#c994c7ff&#x27;, &#x27;#c994c7ff&#x27;, &#x27;#c994c7ff&#x27;, &#x27;#c994c7ff&#x27;, &#x27;#c994c7ff&#x27;, &#x27;#c994c7ff&#x27;, &#x27;#c994c7ff&#x27;, &#x27;#c994c7ff&#x27;, &#x27;#c994c7ff&#x27;, &#x27;#c994c7ff&#x27;, &#x27;#c994c7ff&#x27;, &#x27;#c994c7ff&#x27;, &#x27;#c994c7ff&#x27;, &#x27;#c994c7ff&#x27;, &#x27;#c994c7ff&#x27;, &#x27;#c994c7ff&#x27;, &#x27;#c994c7ff&#x27;, &#x27;#c994c7ff&#x27;, &#x27;#c994c7ff&#x27;, &#x27;#c994c7ff&#x27;, &#x27;#c994c7ff&#x27;, &#x27;#df65b0ff&#x27;, &#x27;#df65b0ff&#x27;, &#x27;#df65b0ff&#x27;, &#x27;#df65b0ff&#x27;, &#x27;#df65b0ff&#x27;, &#x27;#df65b0ff&#x27;, &#x27;#df65b0ff&#x27;, &#x27;#df65b0ff&#x27;, &#x27;#df65b0ff&#x27;, &#x27;#df65b0ff&#x27;, &#x27;#df65b0ff&#x27;, &#x27;#df65b0ff&#x27;, &#x27;#df65b0ff&#x27;, &#x27;#df65b0ff&#x27;, &#x27;#df65b0ff&#x27;, &#x27;#df65b0ff&#x27;, &#x27;#df65b0ff&#x27;, &#x27;#df65b0ff&#x27;, &#x27;#df65b0ff&#x27;, &#x27;#df65b0ff&#x27;, &#x27;#df65b0ff&#x27;, &#x27;#df65b0ff&#x27;, &#x27;#df65b0ff&#x27;, &#x27;#df65b0ff&#x27;, &#x27;#df65b0ff&#x27;, &#x27;#df65b0ff&#x27;, &#x27;#df65b0ff&#x27;, &#x27;#df65b0ff&#x27;, &#x27;#df65b0ff&#x27;, &#x27;#df65b0ff&#x27;, &#x27;#df65b0ff&#x27;, &#x27;#df65b0ff&#x27;, &#x27;#df65b0ff&#x27;, &#x27;#df65b0ff&#x27;, &#x27;#df65b0ff&#x27;, &#x27;#df65b0ff&#x27;, &#x27;#df65b0ff&#x27;, &#x27;#df65b0ff&#x27;, &#x27;#df65b0ff&#x27;, &#x27;#df65b0ff&#x27;, &#x27;#df65b0ff&#x27;, &#x27;#df65b0ff&#x27;, &#x27;#df65b0ff&#x27;, &#x27;#df65b0ff&#x27;, &#x27;#df65b0ff&#x27;, &#x27;#df65b0ff&#x27;, &#x27;#df65b0ff&#x27;, &#x27;#df65b0ff&#x27;, &#x27;#df65b0ff&#x27;, &#x27;#df65b0ff&#x27;, &#x27;#df65b0ff&#x27;, &#x27;#df65b0ff&#x27;, &#x27;#df65b0ff&#x27;, &#x27;#df65b0ff&#x27;, &#x27;#df65b0ff&#x27;, &#x27;#df65b0ff&#x27;, &#x27;#df65b0ff&#x27;, &#x27;#df65b0ff&#x27;, &#x27;#df65b0ff&#x27;, &#x27;#df65b0ff&#x27;, &#x27;#df65b0ff&#x27;, &#x27;#df65b0ff&#x27;, &#x27;#df65b0ff&#x27;, &#x27;#df65b0ff&#x27;, &#x27;#df65b0ff&#x27;, &#x27;#df65b0ff&#x27;, &#x27;#df65b0ff&#x27;, &#x27;#df65b0ff&#x27;, &#x27;#df65b0ff&#x27;, &#x27;#df65b0ff&#x27;, &#x27;#df65b0ff&#x27;, &#x27;#df65b0ff&#x27;, &#x27;#df65b0ff&#x27;, &#x27;#df65b0ff&#x27;, &#x27;#df65b0ff&#x27;, &#x27;#df65b0ff&#x27;, &#x27;#df65b0ff&#x27;, &#x27;#df65b0ff&#x27;, &#x27;#df65b0ff&#x27;, &#x27;#df65b0ff&#x27;, &#x27;#df65b0ff&#x27;, &#x27;#df65b0ff&#x27;, &#x27;#df65b0ff&#x27;, &#x27;#dd1c77ff&#x27;, &#x27;#dd1c77ff&#x27;, &#x27;#dd1c77ff&#x27;, &#x27;#dd1c77ff&#x27;, &#x27;#dd1c77ff&#x27;, &#x27;#dd1c77ff&#x27;, &#x27;#dd1c77ff&#x27;, &#x27;#dd1c77ff&#x27;, &#x27;#dd1c77ff&#x27;, &#x27;#dd1c77ff&#x27;, &#x27;#dd1c77ff&#x27;, &#x27;#dd1c77ff&#x27;, &#x27;#dd1c77ff&#x27;, &#x27;#dd1c77ff&#x27;, &#x27;#dd1c77ff&#x27;, &#x27;#dd1c77ff&#x27;, &#x27;#dd1c77ff&#x27;, &#x27;#dd1c77ff&#x27;, &#x27;#dd1c77ff&#x27;, &#x27;#dd1c77ff&#x27;, &#x27;#dd1c77ff&#x27;, &#x27;#dd1c77ff&#x27;, &#x27;#dd1c77ff&#x27;, &#x27;#dd1c77ff&#x27;, &#x27;#dd1c77ff&#x27;, &#x27;#dd1c77ff&#x27;, &#x27;#dd1c77ff&#x27;, &#x27;#dd1c77ff&#x27;, &#x27;#dd1c77ff&#x27;, &#x27;#dd1c77ff&#x27;, &#x27;#dd1c77ff&#x27;, &#x27;#dd1c77ff&#x27;, &#x27;#dd1c77ff&#x27;, &#x27;#dd1c77ff&#x27;, &#x27;#dd1c77ff&#x27;, &#x27;#dd1c77ff&#x27;, &#x27;#dd1c77ff&#x27;, &#x27;#dd1c77ff&#x27;, &#x27;#dd1c77ff&#x27;, &#x27;#dd1c77ff&#x27;, &#x27;#dd1c77ff&#x27;, &#x27;#dd1c77ff&#x27;, &#x27;#dd1c77ff&#x27;, &#x27;#dd1c77ff&#x27;, &#x27;#dd1c77ff&#x27;, &#x27;#dd1c77ff&#x27;, &#x27;#dd1c77ff&#x27;, &#x27;#dd1c77ff&#x27;, &#x27;#dd1c77ff&#x27;, &#x27;#dd1c77ff&#x27;, &#x27;#dd1c77ff&#x27;, &#x27;#dd1c77ff&#x27;, &#x27;#dd1c77ff&#x27;, &#x27;#dd1c77ff&#x27;, &#x27;#dd1c77ff&#x27;, &#x27;#dd1c77ff&#x27;, &#x27;#dd1c77ff&#x27;, &#x27;#dd1c77ff&#x27;, &#x27;#dd1c77ff&#x27;, &#x27;#dd1c77ff&#x27;, &#x27;#dd1c77ff&#x27;, &#x27;#dd1c77ff&#x27;, &#x27;#dd1c77ff&#x27;, &#x27;#dd1c77ff&#x27;, &#x27;#dd1c77ff&#x27;, &#x27;#dd1c77ff&#x27;, &#x27;#dd1c77ff&#x27;, &#x27;#dd1c77ff&#x27;, &#x27;#dd1c77ff&#x27;, &#x27;#dd1c77ff&#x27;, &#x27;#dd1c77ff&#x27;, &#x27;#dd1c77ff&#x27;, &#x27;#dd1c77ff&#x27;, &#x27;#dd1c77ff&#x27;, &#x27;#dd1c77ff&#x27;, &#x27;#dd1c77ff&#x27;, &#x27;#dd1c77ff&#x27;, &#x27;#dd1c77ff&#x27;, &#x27;#dd1c77ff&#x27;, &#x27;#dd1c77ff&#x27;, &#x27;#dd1c77ff&#x27;, &#x27;#dd1c77ff&#x27;, &#x27;#dd1c77ff&#x27;, &#x27;#980043ff&#x27;, &#x27;#980043ff&#x27;, &#x27;#980043ff&#x27;, &#x27;#980043ff&#x27;, &#x27;#980043ff&#x27;, &#x27;#980043ff&#x27;, &#x27;#980043ff&#x27;, &#x27;#980043ff&#x27;, &#x27;#980043ff&#x27;, &#x27;#980043ff&#x27;, &#x27;#980043ff&#x27;, &#x27;#980043ff&#x27;, &#x27;#980043ff&#x27;, &#x27;#980043ff&#x27;, &#x27;#980043ff&#x27;, &#x27;#980043ff&#x27;, &#x27;#980043ff&#x27;, &#x27;#980043ff&#x27;, &#x27;#980043ff&#x27;, &#x27;#980043ff&#x27;, &#x27;#980043ff&#x27;, &#x27;#980043ff&#x27;, &#x27;#980043ff&#x27;, &#x27;#980043ff&#x27;, &#x27;#980043ff&#x27;, &#x27;#980043ff&#x27;, &#x27;#980043ff&#x27;, &#x27;#980043ff&#x27;, &#x27;#980043ff&#x27;, &#x27;#980043ff&#x27;, &#x27;#980043ff&#x27;, &#x27;#980043ff&#x27;, &#x27;#980043ff&#x27;, &#x27;#980043ff&#x27;, &#x27;#980043ff&#x27;, &#x27;#980043ff&#x27;, &#x27;#980043ff&#x27;, &#x27;#980043ff&#x27;, &#x27;#980043ff&#x27;, &#x27;#980043ff&#x27;, &#x27;#980043ff&#x27;, &#x27;#980043ff&#x27;, &#x27;#980043ff&#x27;, &#x27;#980043ff&#x27;, &#x27;#980043ff&#x27;, &#x27;#980043ff&#x27;, &#x27;#980043ff&#x27;, &#x27;#980043ff&#x27;, &#x27;#980043ff&#x27;, &#x27;#980043ff&#x27;, &#x27;#980043ff&#x27;, &#x27;#980043ff&#x27;, &#x27;#980043ff&#x27;, &#x27;#980043ff&#x27;, &#x27;#980043ff&#x27;, &#x27;#980043ff&#x27;, &#x27;#980043ff&#x27;, &#x27;#980043ff&#x27;, &#x27;#980043ff&#x27;, &#x27;#980043ff&#x27;, &#x27;#980043ff&#x27;, &#x27;#980043ff&#x27;, &#x27;#980043ff&#x27;, &#x27;#980043ff&#x27;, &#x27;#980043ff&#x27;, &#x27;#980043ff&#x27;, &#x27;#980043ff&#x27;, &#x27;#980043ff&#x27;, &#x27;#980043ff&#x27;, &#x27;#980043ff&#x27;, &#x27;#980043ff&#x27;, &#x27;#980043ff&#x27;, &#x27;#980043ff&#x27;, &#x27;#980043ff&#x27;, &#x27;#980043ff&#x27;, &#x27;#980043ff&#x27;, &#x27;#980043ff&#x27;, &#x27;#980043ff&#x27;, &#x27;#980043ff&#x27;, &#x27;#980043ff&#x27;, &#x27;#980043ff&#x27;, &#x27;#980043ff&#x27;, &#x27;#980043ff&#x27;, &#x27;#980043ff&#x27;]);\n",
       "    \n",
       "\n",
       "    color_map_4b492d7851e7e779554dc8795c040b56.x = d3.scale.linear()\n",
       "              .domain([1615.7857142857142, 2197.1666666666665])\n",
       "              .range([0, 450 - 50]);\n",
       "\n",
       "    color_map_4b492d7851e7e779554dc8795c040b56.legend = L.control({position: &#x27;topright&#x27;});\n",
       "    color_map_4b492d7851e7e779554dc8795c040b56.legend.onAdd = function (map) {var div = L.DomUtil.create(&#x27;div&#x27;, &#x27;legend&#x27;); return div};\n",
       "    color_map_4b492d7851e7e779554dc8795c040b56.legend.addTo(map_1d3d980cc2a5e58cf7fa9fc7cf453a58);\n",
       "\n",
       "    color_map_4b492d7851e7e779554dc8795c040b56.xAxis = d3.svg.axis()\n",
       "        .scale(color_map_4b492d7851e7e779554dc8795c040b56.x)\n",
       "        .orient(&quot;top&quot;)\n",
       "        .tickSize(1)\n",
       "        .tickValues([1615.7857142857142, 1712.6825396825395, 1809.579365079365, 1906.4761904761904, 2003.3730158730157, 2100.269841269841, 2197.1666666666665]);\n",
       "\n",
       "    color_map_4b492d7851e7e779554dc8795c040b56.svg = d3.select(&quot;.legend.leaflet-control&quot;).append(&quot;svg&quot;)\n",
       "        .attr(&quot;id&quot;, &#x27;legend&#x27;)\n",
       "        .attr(&quot;width&quot;, 450)\n",
       "        .attr(&quot;height&quot;, 40);\n",
       "\n",
       "    color_map_4b492d7851e7e779554dc8795c040b56.g = color_map_4b492d7851e7e779554dc8795c040b56.svg.append(&quot;g&quot;)\n",
       "        .attr(&quot;class&quot;, &quot;key&quot;)\n",
       "        .attr(&quot;transform&quot;, &quot;translate(25,16)&quot;);\n",
       "\n",
       "    color_map_4b492d7851e7e779554dc8795c040b56.g.selectAll(&quot;rect&quot;)\n",
       "        .data(color_map_4b492d7851e7e779554dc8795c040b56.color.range().map(function(d, i) {\n",
       "          return {\n",
       "            x0: i ? color_map_4b492d7851e7e779554dc8795c040b56.x(color_map_4b492d7851e7e779554dc8795c040b56.color.domain()[i - 1]) : color_map_4b492d7851e7e779554dc8795c040b56.x.range()[0],\n",
       "            x1: i &lt; color_map_4b492d7851e7e779554dc8795c040b56.color.domain().length ? color_map_4b492d7851e7e779554dc8795c040b56.x(color_map_4b492d7851e7e779554dc8795c040b56.color.domain()[i]) : color_map_4b492d7851e7e779554dc8795c040b56.x.range()[1],\n",
       "            z: d\n",
       "          };\n",
       "        }))\n",
       "      .enter().append(&quot;rect&quot;)\n",
       "        .attr(&quot;height&quot;, 40 - 30)\n",
       "        .attr(&quot;x&quot;, function(d) { return d.x0; })\n",
       "        .attr(&quot;width&quot;, function(d) { return d.x1 - d.x0; })\n",
       "        .style(&quot;fill&quot;, function(d) { return d.z; });\n",
       "\n",
       "    color_map_4b492d7851e7e779554dc8795c040b56.g.call(color_map_4b492d7851e7e779554dc8795c040b56.xAxis).append(&quot;text&quot;)\n",
       "        .attr(&quot;class&quot;, &quot;caption&quot;)\n",
       "        .attr(&quot;y&quot;, 21)\n",
       "        .text(&quot;\\ud3c9\\uade0 \\ubcf4\\ud1b5\\ud718\\ubc1c\\uc720 \\uac00\\uaca9&quot;);\n",
       "    \n",
       "            choropleth_38b5484a23bd536708ccfee64af98139.addTo(map_1d3d980cc2a5e58cf7fa9fc7cf453a58);\n",
       "        \n",
       "&lt;/script&gt;\n",
       "&lt;/html&gt;\" style=\"position:absolute;width:100%;height:100%;left:0;top:0;border:none !important;\" allowfullscreen webkitallowfullscreen mozallowfullscreen></iframe></div></div>"
      ],
      "text/plain": [
       "<folium.folium.Map at 0x7f7718f03580>"
      ]
     },
     "execution_count": 61,
     "metadata": {},
     "output_type": "execute_result"
    }
   ],
   "source": [
    "# 각 구 이름에 따른 보통 휘발유 가격의 평균 계산\n",
    "avg_gasoline_price_by_district = raw_df.groupby(\"구 이름\")[\"보통휘발유\"].mean()\n",
    "\n",
    "# 지도 생성\n",
    "my_map = folium.Map(location=[37.5502, 126.982], zoom_start=11)\n",
    "\n",
    "# Choropleth를 사용하여 평균 보통 휘발유 가격을 지도에 표시\n",
    "folium.Choropleth(\n",
    "    geo_data=geo_str,\n",
    "    data=avg_gasoline_price_by_district,\n",
    "    columns=[avg_gasoline_price_by_district.index, avg_gasoline_price_by_district.values],\n",
    "    key_on=\"feature.id\",  # Corrected key\n",
    "    fill_color=\"PuRd\",\n",
    "    fill_opacity=0.7,\n",
    "    legend_name=\"평균 보통휘발유 가격\"\n",
    ").add_to(my_map)\n",
    "\n",
    "# 지도 출력\n",
    "my_map"
   ]
  },
  {
   "cell_type": "code",
   "execution_count": 69,
   "metadata": {},
   "outputs": [],
   "source": [
    "geo_local = Nominatim(user_agent='South Korea')"
   ]
  },
  {
   "cell_type": "code",
   "execution_count": 70,
   "metadata": {},
   "outputs": [],
   "source": [
    "# 주소를 이용하여 위도, 경도를 반환하는 함수\n",
    "def geocoding(address):\n",
    "    try:\n",
    "        geo = geo_local.geocode(address)\n",
    "        if geo:\n",
    "            x_y = [geo.latitude, geo.longitude]\n",
    "            return x_y\n",
    "        else:\n",
    "            return [0, 0]  # 주소 정보를 찾을 수 없는 경우\n",
    "    except:\n",
    "        return [0, 0]  # 예외 발생 시"
   ]
  },
  {
   "cell_type": "code",
   "execution_count": 72,
   "metadata": {},
   "outputs": [],
   "source": [
    "# 주유소 주소를 위도, 경도로 변환하여 리스트에 저장\n",
    "latitude = []\n",
    "longitude = []\n",
    "\n",
    "for 주소 in df['주소']:\n",
    "    좌표 = geocoding(주소)\n",
    "    latitude.append(좌표[0])\n",
    "    longitude.append(좌표[1])\n",
    "\n",
    "# 위도와 경도가 포함된 데이터프레임 생성\n",
    "df['위도'] = latitude\n",
    "df['경도'] = longitude"
   ]
  },
  {
   "cell_type": "code",
   "execution_count": 73,
   "metadata": {},
   "outputs": [
    {
     "data": {
      "text/html": [
       "<div style=\"width:100%;\"><div style=\"position:relative;width:100%;height:0;padding-bottom:60%;\"><span style=\"color:#565656\">Make this Notebook Trusted to load map: File -> Trust Notebook</span><iframe srcdoc=\"&lt;!DOCTYPE html&gt;\n",
       "&lt;html&gt;\n",
       "&lt;head&gt;\n",
       "    \n",
       "    &lt;meta http-equiv=&quot;content-type&quot; content=&quot;text/html; charset=UTF-8&quot; /&gt;\n",
       "    \n",
       "        &lt;script&gt;\n",
       "            L_NO_TOUCH = false;\n",
       "            L_DISABLE_3D = false;\n",
       "        &lt;/script&gt;\n",
       "    \n",
       "    &lt;style&gt;html, body {width: 100%;height: 100%;margin: 0;padding: 0;}&lt;/style&gt;\n",
       "    &lt;style&gt;#map {position:absolute;top:0;bottom:0;right:0;left:0;}&lt;/style&gt;\n",
       "    &lt;script src=&quot;https://cdn.jsdelivr.net/npm/leaflet@1.9.3/dist/leaflet.js&quot;&gt;&lt;/script&gt;\n",
       "    &lt;script src=&quot;https://code.jquery.com/jquery-3.7.1.min.js&quot;&gt;&lt;/script&gt;\n",
       "    &lt;script src=&quot;https://cdn.jsdelivr.net/npm/bootstrap@5.2.2/dist/js/bootstrap.bundle.min.js&quot;&gt;&lt;/script&gt;\n",
       "    &lt;script src=&quot;https://cdnjs.cloudflare.com/ajax/libs/Leaflet.awesome-markers/2.0.2/leaflet.awesome-markers.js&quot;&gt;&lt;/script&gt;\n",
       "    &lt;link rel=&quot;stylesheet&quot; href=&quot;https://cdn.jsdelivr.net/npm/leaflet@1.9.3/dist/leaflet.css&quot;/&gt;\n",
       "    &lt;link rel=&quot;stylesheet&quot; href=&quot;https://cdn.jsdelivr.net/npm/bootstrap@5.2.2/dist/css/bootstrap.min.css&quot;/&gt;\n",
       "    &lt;link rel=&quot;stylesheet&quot; href=&quot;https://netdna.bootstrapcdn.com/bootstrap/3.0.0/css/bootstrap.min.css&quot;/&gt;\n",
       "    &lt;link rel=&quot;stylesheet&quot; href=&quot;https://cdn.jsdelivr.net/npm/@fortawesome/fontawesome-free@6.2.0/css/all.min.css&quot;/&gt;\n",
       "    &lt;link rel=&quot;stylesheet&quot; href=&quot;https://cdnjs.cloudflare.com/ajax/libs/Leaflet.awesome-markers/2.0.2/leaflet.awesome-markers.css&quot;/&gt;\n",
       "    &lt;link rel=&quot;stylesheet&quot; href=&quot;https://cdn.jsdelivr.net/gh/python-visualization/folium/folium/templates/leaflet.awesome.rotate.min.css&quot;/&gt;\n",
       "    \n",
       "            &lt;meta name=&quot;viewport&quot; content=&quot;width=device-width,\n",
       "                initial-scale=1.0, maximum-scale=1.0, user-scalable=no&quot; /&gt;\n",
       "            &lt;style&gt;\n",
       "                #map_2be317e5e7cfe0adefcc4cf6562366c4 {\n",
       "                    position: relative;\n",
       "                    width: 100.0%;\n",
       "                    height: 100.0%;\n",
       "                    left: 0.0%;\n",
       "                    top: 0.0%;\n",
       "                }\n",
       "                .leaflet-container { font-size: 1rem; }\n",
       "            &lt;/style&gt;\n",
       "        \n",
       "&lt;/head&gt;\n",
       "&lt;body&gt;\n",
       "    \n",
       "    \n",
       "            &lt;div class=&quot;folium-map&quot; id=&quot;map_2be317e5e7cfe0adefcc4cf6562366c4&quot; &gt;&lt;/div&gt;\n",
       "        \n",
       "&lt;/body&gt;\n",
       "&lt;script&gt;\n",
       "    \n",
       "    \n",
       "            var map_2be317e5e7cfe0adefcc4cf6562366c4 = L.map(\n",
       "                &quot;map_2be317e5e7cfe0adefcc4cf6562366c4&quot;,\n",
       "                {\n",
       "                    center: [37.5665, 126.978],\n",
       "                    crs: L.CRS.EPSG3857,\n",
       "                    zoom: 11,\n",
       "                    zoomControl: true,\n",
       "                    preferCanvas: false,\n",
       "                }\n",
       "            );\n",
       "\n",
       "            \n",
       "\n",
       "        \n",
       "    \n",
       "            var tile_layer_29676b3357660a793b32bec3c936d81f = L.tileLayer(\n",
       "                &quot;https://tile.openstreetmap.org/{z}/{x}/{y}.png&quot;,\n",
       "                {&quot;attribution&quot;: &quot;\\u0026copy; \\u003ca href=\\&quot;https://www.openstreetmap.org/copyright\\&quot;\\u003eOpenStreetMap\\u003c/a\\u003e contributors&quot;, &quot;detectRetina&quot;: false, &quot;maxNativeZoom&quot;: 19, &quot;maxZoom&quot;: 19, &quot;minZoom&quot;: 0, &quot;noWrap&quot;: false, &quot;opacity&quot;: 1, &quot;subdomains&quot;: &quot;abc&quot;, &quot;tms&quot;: false}\n",
       "            );\n",
       "        \n",
       "    \n",
       "            tile_layer_29676b3357660a793b32bec3c936d81f.addTo(map_2be317e5e7cfe0adefcc4cf6562366c4);\n",
       "        \n",
       "    \n",
       "            var marker_62c82eeeb2bb3f9a2a23839092733e93 = L.marker(\n",
       "                [0.0, 0.0],\n",
       "                {}\n",
       "            ).addTo(map_2be317e5e7cfe0adefcc4cf6562366c4);\n",
       "        \n",
       "    \n",
       "        var popup_9c88f3c2b1d5da99c719be4c046e0a56 = L.popup({&quot;maxWidth&quot;: &quot;100%&quot;});\n",
       "\n",
       "        \n",
       "            \n",
       "                var html_cac45a298b810e12af7fd695b38c17dd = $(`&lt;div id=&quot;html_cac45a298b810e12af7fd695b38c17dd&quot; style=&quot;width: 100.0%; height: 100.0%;&quot;&gt;우림주유소&lt;/div&gt;`)[0];\n",
       "                popup_9c88f3c2b1d5da99c719be4c046e0a56.setContent(html_cac45a298b810e12af7fd695b38c17dd);\n",
       "            \n",
       "        \n",
       "\n",
       "        marker_62c82eeeb2bb3f9a2a23839092733e93.bindPopup(popup_9c88f3c2b1d5da99c719be4c046e0a56)\n",
       "        ;\n",
       "\n",
       "        \n",
       "    \n",
       "    \n",
       "            var marker_a7ee10daf8efb5c388dbbb4ae0cc8654 = L.marker(\n",
       "                [0.0, 0.0],\n",
       "                {}\n",
       "            ).addTo(map_2be317e5e7cfe0adefcc4cf6562366c4);\n",
       "        \n",
       "    \n",
       "        var popup_ffd1447d504b0a6e9c01cb7f38454446 = L.popup({&quot;maxWidth&quot;: &quot;100%&quot;});\n",
       "\n",
       "        \n",
       "            \n",
       "                var html_7eed755457f572dca3940a40bf5cd793 = $(`&lt;div id=&quot;html_7eed755457f572dca3940a40bf5cd793&quot; style=&quot;width: 100.0%; height: 100.0%;&quot;&gt;(주)자연에너지 대창주유소&lt;/div&gt;`)[0];\n",
       "                popup_ffd1447d504b0a6e9c01cb7f38454446.setContent(html_7eed755457f572dca3940a40bf5cd793);\n",
       "            \n",
       "        \n",
       "\n",
       "        marker_a7ee10daf8efb5c388dbbb4ae0cc8654.bindPopup(popup_ffd1447d504b0a6e9c01cb7f38454446)\n",
       "        ;\n",
       "\n",
       "        \n",
       "    \n",
       "    \n",
       "            var marker_bcdf7c205e7a469621c67f485a4f07ac = L.marker(\n",
       "                [37.58388035, 127.08010901223633],\n",
       "                {}\n",
       "            ).addTo(map_2be317e5e7cfe0adefcc4cf6562366c4);\n",
       "        \n",
       "    \n",
       "        var popup_f4a5155f0f809f3f4abd6fa7a15c75b4 = L.popup({&quot;maxWidth&quot;: &quot;100%&quot;});\n",
       "\n",
       "        \n",
       "            \n",
       "                var html_dd51457ae5863559f95f2627d37e2ac5 = $(`&lt;div id=&quot;html_dd51457ae5863559f95f2627d37e2ac5&quot; style=&quot;width: 100.0%; height: 100.0%;&quot;&gt;대원주유소&lt;/div&gt;`)[0];\n",
       "                popup_f4a5155f0f809f3f4abd6fa7a15c75b4.setContent(html_dd51457ae5863559f95f2627d37e2ac5);\n",
       "            \n",
       "        \n",
       "\n",
       "        marker_bcdf7c205e7a469621c67f485a4f07ac.bindPopup(popup_f4a5155f0f809f3f4abd6fa7a15c75b4)\n",
       "        ;\n",
       "\n",
       "        \n",
       "    \n",
       "    \n",
       "            var marker_21eb0d01160549ef87603906155e20fb = L.marker(\n",
       "                [0.0, 0.0],\n",
       "                {}\n",
       "            ).addTo(map_2be317e5e7cfe0adefcc4cf6562366c4);\n",
       "        \n",
       "    \n",
       "        var popup_24c66896108321f667a22b6848670ffe = L.popup({&quot;maxWidth&quot;: &quot;100%&quot;});\n",
       "\n",
       "        \n",
       "            \n",
       "                var html_c8addc90fab7de5d42fb104933e10612 = $(`&lt;div id=&quot;html_c8addc90fab7de5d42fb104933e10612&quot; style=&quot;width: 100.0%; height: 100.0%;&quot;&gt;면목SELF주유소&lt;/div&gt;`)[0];\n",
       "                popup_24c66896108321f667a22b6848670ffe.setContent(html_c8addc90fab7de5d42fb104933e10612);\n",
       "            \n",
       "        \n",
       "\n",
       "        marker_21eb0d01160549ef87603906155e20fb.bindPopup(popup_24c66896108321f667a22b6848670ffe)\n",
       "        ;\n",
       "\n",
       "        \n",
       "    \n",
       "    \n",
       "            var marker_abba82bd67541901a66051b1d3def557 = L.marker(\n",
       "                [0.0, 0.0],\n",
       "                {}\n",
       "            ).addTo(map_2be317e5e7cfe0adefcc4cf6562366c4);\n",
       "        \n",
       "    \n",
       "        var popup_3264fdb6c47333662b45aacb5e71264f = L.popup({&quot;maxWidth&quot;: &quot;100%&quot;});\n",
       "\n",
       "        \n",
       "            \n",
       "                var html_8c10c43f7a5469af9519c7c7b1bb1639 = $(`&lt;div id=&quot;html_8c10c43f7a5469af9519c7c7b1bb1639&quot; style=&quot;width: 100.0%; height: 100.0%;&quot;&gt;오천만주유소&lt;/div&gt;`)[0];\n",
       "                popup_3264fdb6c47333662b45aacb5e71264f.setContent(html_8c10c43f7a5469af9519c7c7b1bb1639);\n",
       "            \n",
       "        \n",
       "\n",
       "        marker_abba82bd67541901a66051b1d3def557.bindPopup(popup_3264fdb6c47333662b45aacb5e71264f)\n",
       "        ;\n",
       "\n",
       "        \n",
       "    \n",
       "    \n",
       "            var marker_375cbd354a39e41c7de9f414a6f95ea6 = L.marker(\n",
       "                [0.0, 0.0],\n",
       "                {}\n",
       "            ).addTo(map_2be317e5e7cfe0adefcc4cf6562366c4);\n",
       "        \n",
       "    \n",
       "        var popup_d82d78e5dca67093c73137748e937a30 = L.popup({&quot;maxWidth&quot;: &quot;100%&quot;});\n",
       "\n",
       "        \n",
       "            \n",
       "                var html_3c27a520b20246cbad810a393c2e1719 = $(`&lt;div id=&quot;html_3c27a520b20246cbad810a393c2e1719&quot; style=&quot;width: 100.0%; height: 100.0%;&quot;&gt;구도일주유소 동천&lt;/div&gt;`)[0];\n",
       "                popup_d82d78e5dca67093c73137748e937a30.setContent(html_3c27a520b20246cbad810a393c2e1719);\n",
       "            \n",
       "        \n",
       "\n",
       "        marker_375cbd354a39e41c7de9f414a6f95ea6.bindPopup(popup_d82d78e5dca67093c73137748e937a30)\n",
       "        ;\n",
       "\n",
       "        \n",
       "    \n",
       "    \n",
       "            var marker_cb50c4ac9a2c246d196dd22eb5bbf6ea = L.marker(\n",
       "                [0.0, 0.0],\n",
       "                {}\n",
       "            ).addTo(map_2be317e5e7cfe0adefcc4cf6562366c4);\n",
       "        \n",
       "    \n",
       "        var popup_07e0dea6d2f032f1a13265b38f8dc57a = L.popup({&quot;maxWidth&quot;: &quot;100%&quot;});\n",
       "\n",
       "        \n",
       "            \n",
       "                var html_401ebfe670b520d3f2024a9e45004e66 = $(`&lt;div id=&quot;html_401ebfe670b520d3f2024a9e45004e66&quot; style=&quot;width: 100.0%; height: 100.0%;&quot;&gt;대양주유소&lt;/div&gt;`)[0];\n",
       "                popup_07e0dea6d2f032f1a13265b38f8dc57a.setContent(html_401ebfe670b520d3f2024a9e45004e66);\n",
       "            \n",
       "        \n",
       "\n",
       "        marker_cb50c4ac9a2c246d196dd22eb5bbf6ea.bindPopup(popup_07e0dea6d2f032f1a13265b38f8dc57a)\n",
       "        ;\n",
       "\n",
       "        \n",
       "    \n",
       "    \n",
       "            var marker_ff2666d5b0b0c7eabcc9a87d49475646 = L.marker(\n",
       "                [37.5972134, 127.0876957],\n",
       "                {}\n",
       "            ).addTo(map_2be317e5e7cfe0adefcc4cf6562366c4);\n",
       "        \n",
       "    \n",
       "        var popup_7d64c700f1c9665f58924513de23d703 = L.popup({&quot;maxWidth&quot;: &quot;100%&quot;});\n",
       "\n",
       "        \n",
       "            \n",
       "                var html_2a78fecd02f280bf9360d22fcab3f4bb = $(`&lt;div id=&quot;html_2a78fecd02f280bf9360d22fcab3f4bb&quot; style=&quot;width: 100.0%; height: 100.0%;&quot;&gt;(주)태영 구도일주유소 한인&lt;/div&gt;`)[0];\n",
       "                popup_7d64c700f1c9665f58924513de23d703.setContent(html_2a78fecd02f280bf9360d22fcab3f4bb);\n",
       "            \n",
       "        \n",
       "\n",
       "        marker_ff2666d5b0b0c7eabcc9a87d49475646.bindPopup(popup_7d64c700f1c9665f58924513de23d703)\n",
       "        ;\n",
       "\n",
       "        \n",
       "    \n",
       "    \n",
       "            var marker_c5d47036e4d85fab4dc67a8bab49f1cc = L.marker(\n",
       "                [0.0, 0.0],\n",
       "                {}\n",
       "            ).addTo(map_2be317e5e7cfe0adefcc4cf6562366c4);\n",
       "        \n",
       "    \n",
       "        var popup_349f69cf14d65595220b56190b02831a = L.popup({&quot;maxWidth&quot;: &quot;100%&quot;});\n",
       "\n",
       "        \n",
       "            \n",
       "                var html_93e3eb14e967f5ecd760f4d2d5878f42 = $(`&lt;div id=&quot;html_93e3eb14e967f5ecd760f4d2d5878f42&quot; style=&quot;width: 100.0%; height: 100.0%;&quot;&gt;(주)기지에너지&lt;/div&gt;`)[0];\n",
       "                popup_349f69cf14d65595220b56190b02831a.setContent(html_93e3eb14e967f5ecd760f4d2d5878f42);\n",
       "            \n",
       "        \n",
       "\n",
       "        marker_c5d47036e4d85fab4dc67a8bab49f1cc.bindPopup(popup_349f69cf14d65595220b56190b02831a)\n",
       "        ;\n",
       "\n",
       "        \n",
       "    \n",
       "    \n",
       "            var marker_909ad6d5f95187b46dc5e970a1367014 = L.marker(\n",
       "                [0.0, 0.0],\n",
       "                {}\n",
       "            ).addTo(map_2be317e5e7cfe0adefcc4cf6562366c4);\n",
       "        \n",
       "    \n",
       "        var popup_10bd201d8704b554039ead2529ce42ab = L.popup({&quot;maxWidth&quot;: &quot;100%&quot;});\n",
       "\n",
       "        \n",
       "            \n",
       "                var html_b70b282db195edd0d257cc2df1d8cfa1 = $(`&lt;div id=&quot;html_b70b282db195edd0d257cc2df1d8cfa1&quot; style=&quot;width: 100.0%; height: 100.0%;&quot;&gt;신내주유소&lt;/div&gt;`)[0];\n",
       "                popup_10bd201d8704b554039ead2529ce42ab.setContent(html_b70b282db195edd0d257cc2df1d8cfa1);\n",
       "            \n",
       "        \n",
       "\n",
       "        marker_909ad6d5f95187b46dc5e970a1367014.bindPopup(popup_10bd201d8704b554039ead2529ce42ab)\n",
       "        ;\n",
       "\n",
       "        \n",
       "    \n",
       "    \n",
       "            var marker_9ec3f31dddbf2bc93aed92b6bacd27bc = L.marker(\n",
       "                [37.57124, 127.08597],\n",
       "                {}\n",
       "            ).addTo(map_2be317e5e7cfe0adefcc4cf6562366c4);\n",
       "        \n",
       "    \n",
       "        var popup_e6a7058d1ef649f41b7f73178171e28e = L.popup({&quot;maxWidth&quot;: &quot;100%&quot;});\n",
       "\n",
       "        \n",
       "            \n",
       "                var html_5706dc076efda67fdcdd761d67557a84 = $(`&lt;div id=&quot;html_5706dc076efda67fdcdd761d67557a84&quot; style=&quot;width: 100.0%; height: 100.0%;&quot;&gt;용마로주유소&lt;/div&gt;`)[0];\n",
       "                popup_e6a7058d1ef649f41b7f73178171e28e.setContent(html_5706dc076efda67fdcdd761d67557a84);\n",
       "            \n",
       "        \n",
       "\n",
       "        marker_9ec3f31dddbf2bc93aed92b6bacd27bc.bindPopup(popup_e6a7058d1ef649f41b7f73178171e28e)\n",
       "        ;\n",
       "\n",
       "        \n",
       "    \n",
       "    \n",
       "            var marker_b0d3d83d2c7c9b5761975afb991d02f8 = L.marker(\n",
       "                [0.0, 0.0],\n",
       "                {}\n",
       "            ).addTo(map_2be317e5e7cfe0adefcc4cf6562366c4);\n",
       "        \n",
       "    \n",
       "        var popup_de690de62058f96c86f371cb267c6f14 = L.popup({&quot;maxWidth&quot;: &quot;100%&quot;});\n",
       "\n",
       "        \n",
       "            \n",
       "                var html_360f0b6fb8e395993aa30137b1d2bcc6 = $(`&lt;div id=&quot;html_360f0b6fb8e395993aa30137b1d2bcc6&quot; style=&quot;width: 100.0%; height: 100.0%;&quot;&gt;신일셀프주유소&lt;/div&gt;`)[0];\n",
       "                popup_de690de62058f96c86f371cb267c6f14.setContent(html_360f0b6fb8e395993aa30137b1d2bcc6);\n",
       "            \n",
       "        \n",
       "\n",
       "        marker_b0d3d83d2c7c9b5761975afb991d02f8.bindPopup(popup_de690de62058f96c86f371cb267c6f14)\n",
       "        ;\n",
       "\n",
       "        \n",
       "    \n",
       "    \n",
       "            var marker_73549e2d6ee8639542d386208aecb896 = L.marker(\n",
       "                [0.0, 0.0],\n",
       "                {}\n",
       "            ).addTo(map_2be317e5e7cfe0adefcc4cf6562366c4);\n",
       "        \n",
       "    \n",
       "        var popup_c5104c9b181af957f49e912d1081dafb = L.popup({&quot;maxWidth&quot;: &quot;100%&quot;});\n",
       "\n",
       "        \n",
       "            \n",
       "                var html_9aad1c57b1f9af46737c2861a4d2fef4 = $(`&lt;div id=&quot;html_9aad1c57b1f9af46737c2861a4d2fef4&quot; style=&quot;width: 100.0%; height: 100.0%;&quot;&gt;범아주유소&lt;/div&gt;`)[0];\n",
       "                popup_c5104c9b181af957f49e912d1081dafb.setContent(html_9aad1c57b1f9af46737c2861a4d2fef4);\n",
       "            \n",
       "        \n",
       "\n",
       "        marker_73549e2d6ee8639542d386208aecb896.bindPopup(popup_c5104c9b181af957f49e912d1081dafb)\n",
       "        ;\n",
       "\n",
       "        \n",
       "    \n",
       "&lt;/script&gt;\n",
       "&lt;/html&gt;\" style=\"position:absolute;width:100%;height:100%;left:0;top:0;border:none !important;\" allowfullscreen webkitallowfullscreen mozallowfullscreen></iframe></div></div>"
      ],
      "text/plain": [
       "<folium.folium.Map at 0x7f7718d2a890>"
      ]
     },
     "execution_count": 73,
     "metadata": {},
     "output_type": "execute_result"
    }
   ],
   "source": [
    "# 서울 중심에 지도 생성\n",
    "seoul_map = folium.Map(location=[37.5665, 126.9780], zoom_start=11)\n",
    "\n",
    "# 각 주유소 위치에 마커 추가\n",
    "for index, row in df.iterrows():\n",
    "    folium.Marker([row['위도'], row['경도']], popup=row['이름']).add_to(seoul_map)\n",
    "\n",
    "# 지도 표시\n",
    "seoul_map"
   ]
  }
 ],
 "metadata": {
  "kernelspec": {
   "display_name": "eda_venv",
   "language": "python",
   "name": "python3"
  },
  "language_info": {
   "codemirror_mode": {
    "name": "ipython",
    "version": 3
   },
   "file_extension": ".py",
   "mimetype": "text/x-python",
   "name": "python",
   "nbconvert_exporter": "python",
   "pygments_lexer": "ipython3",
   "version": "3.10.12"
  }
 },
 "nbformat": 4,
 "nbformat_minor": 2
}
