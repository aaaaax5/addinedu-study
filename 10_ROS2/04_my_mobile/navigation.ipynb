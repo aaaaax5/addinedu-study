{
 "cells": [
  {
   "cell_type": "code",
   "execution_count": 1,
   "id": "9169d6b3-da18-4b45-aa6b-723993961f30",
   "metadata": {},
   "outputs": [],
   "source": [
    "from nav2_simple_commander.robot_navigator import BasicNavigator\n",
    "import rclpy\n",
    "\n",
    "rclpy.init()\n",
    "nav = BasicNavigator()"
   ]
  },
  {
   "cell_type": "code",
   "execution_count": 2,
   "id": "cbcce24d-35f9-405e-a901-5292c1180d10",
   "metadata": {},
   "outputs": [
    {
     "name": "stderr",
     "output_type": "stream",
     "text": [
      "[INFO] [1719217008.732222967] [basic_navigator]: Nav2 is ready for use!\n"
     ]
    }
   ],
   "source": [
    "nav.waitUntilNav2Active()"
   ]
  },
  {
   "cell_type": "code",
   "execution_count": 3,
   "id": "6fe64ed4-2449-4b2e-9aee-9228268772af",
   "metadata": {},
   "outputs": [],
   "source": [
    "from geometry_msgs.msg import PoseStamped\n",
    "\n",
    "goal_pose = PoseStamped()\n",
    "goal_pose.header.frame_id = 'map'\n",
    "goal_pose.pose.position.x = 1.77\n",
    "goal_pose.pose.position.y = 0.6\n",
    "goal_pose.pose.position.z = 0.0\n",
    "goal_pose.pose.orientation.x = 0.0\n",
    "goal_pose.pose.orientation.y = 0.0\n",
    "goal_pose.pose.orientation.z = 0.0\n",
    "goal_pose.pose.orientation.w = 1.0"
   ]
  },
  {
   "cell_type": "code",
   "execution_count": 4,
   "id": "0bd53d28-18f0-4e65-b23d-8074fc707d64",
   "metadata": {},
   "outputs": [
    {
     "name": "stderr",
     "output_type": "stream",
     "text": [
      "[INFO] [1719217008.765890377] [basic_navigator]: Navigating to goal: 1.77 0.6...\n"
     ]
    },
    {
     "data": {
      "text/plain": [
       "True"
      ]
     },
     "execution_count": 4,
     "metadata": {},
     "output_type": "execute_result"
    }
   ],
   "source": [
    "nav.goToPose(goal_pose)"
   ]
  },
  {
   "cell_type": "code",
   "execution_count": 5,
   "id": "4ba6e327-d038-4903-bf27-0a5f23dc2bfb",
   "metadata": {},
   "outputs": [
    {
     "name": "stdout",
     "output_type": "stream",
     "text": [
      "Distance remaining1.77meters.\n",
      "Distance remaining1.67meters.\n",
      "Distance remaining1.52meters.\n",
      "Distance remaining1.42meters.\n",
      "Distance remaining1.32meters.\n",
      "Distance remaining1.16meters.\n",
      "Distance remaining1.05meters.\n",
      "Distance remaining0.89meters.\n",
      "Distance remaining0.80meters.\n",
      "Distance remaining0.70meters.\n",
      "Distance remaining0.55meters.\n",
      "Distance remaining0.44meters.\n",
      "Distance remaining0.39meters.\n",
      "Distance remaining0.27meters.\n",
      "Distance remaining0.29meters.\n",
      "Distance remaining0.29meters.\n",
      "Distance remaining0.29meters.\n",
      "Distance remaining0.29meters.\n"
     ]
    }
   ],
   "source": [
    "from rclpy.duration import Duration\n",
    "\n",
    "i = 0\n",
    "while not nav.isTaskComplete():\n",
    "    i = i + 1\n",
    "    feedback = nav.getFeedback()\n",
    "    if feedback and i % 5 == 0:\n",
    "        print('Distance remaining' + '{:.2f}'.format(\n",
    "            feedback.distance_remaining) + 'meters.')\n",
    "\n",
    "    if Duration.from_msg(feedback.navigation_time) > Duration(seconds=10.0):\n",
    "        nav.cancelTack()"
   ]
  },
  {
   "cell_type": "code",
   "execution_count": 6,
   "id": "ee443cdc-b7cd-4de8-a8c8-f0266e90c70b",
   "metadata": {},
   "outputs": [
    {
     "name": "stdout",
     "output_type": "stream",
     "text": [
      "Goal succeeded!\n"
     ]
    }
   ],
   "source": [
    "from nav2_simple_commander.robot_navigator import TaskResult\n",
    "\n",
    "result = nav.getResult()\n",
    "if result == TaskResult.SUCCEEDED:\n",
    "    print('Goal succeeded!')\n",
    "elif result == TaskResult.CANCELED:\n",
    "    print('Goal was canceled!')\n",
    "elif result == TaskResult.FAILED:\n",
    "    print('Goal failed!')"
   ]
  },
  {
   "cell_type": "code",
   "execution_count": 7,
   "id": "5600a913-decb-45e5-9660-6e0221d38a80",
   "metadata": {},
   "outputs": [
    {
     "data": {
      "text/plain": [
       "geometry_msgs.msg.PoseWithCovarianceStamped(header=std_msgs.msg.Header(stamp=builtin_interfaces.msg.Time(sec=0, nanosec=0), frame_id=''), pose=geometry_msgs.msg.PoseWithCovariance(pose=geometry_msgs.msg.Pose(position=geometry_msgs.msg.Point(x=0.0, y=0.0, z=0.0), orientation=geometry_msgs.msg.Quaternion(x=0.0, y=0.0, z=0.0, w=1.0)), covariance=array([0., 0., 0., 0., 0., 0., 0., 0., 0., 0., 0., 0., 0., 0., 0., 0., 0.,\n",
       "       0., 0., 0., 0., 0., 0., 0., 0., 0., 0., 0., 0., 0., 0., 0., 0., 0.,\n",
       "       0., 0.])))"
      ]
     },
     "execution_count": 7,
     "metadata": {},
     "output_type": "execute_result"
    }
   ],
   "source": [
    "import rclpy\n",
    "from geometry_msgs.msg import PoseWithCovarianceStamped\n",
    "\n",
    "rclpy.shutdown() \n",
    "rclpy.init()\n",
    "pose_current = PoseWithCovarianceStamped()\n",
    "pose_current"
   ]
  },
  {
   "cell_type": "code",
   "execution_count": 8,
   "id": "d560da68-3ff6-4e36-a9b8-bdf1c33c0478",
   "metadata": {},
   "outputs": [
    {
     "data": {
      "text/plain": [
       "geometry_msgs.msg.Point(x=0.0, y=0.0, z=0.0)"
      ]
     },
     "execution_count": 8,
     "metadata": {},
     "output_type": "execute_result"
    }
   ],
   "source": [
    "pose_current.pose.pose.position"
   ]
  },
  {
   "cell_type": "code",
   "execution_count": 9,
   "id": "eb289f4b-fc99-46a5-b5b8-3c235f9a6248",
   "metadata": {},
   "outputs": [
    {
     "data": {
      "text/plain": [
       "geometry_msgs.msg.Quaternion(x=0.0, y=0.0, z=0.0, w=1.0)"
      ]
     },
     "execution_count": 9,
     "metadata": {},
     "output_type": "execute_result"
    }
   ],
   "source": [
    "pose_current.pose.pose.orientation"
   ]
  },
  {
   "cell_type": "code",
   "execution_count": 10,
   "id": "321530d5",
   "metadata": {},
   "outputs": [],
   "source": [
    "# pose_node = rclpy.create_node('sub_pose')\n",
    "\n",
    "# def callback(data):\n",
    "#     print(\"===\")\n",
    "#     print(data.pose.pose.position)\n",
    "#     print(data.pose.pose.orientation)\n",
    "\n",
    "pose_node = rclpy.create_node('sub_pose')\n",
    "\n",
    "def callback(data):\n",
    "    global pose_current\n",
    "    print(\"===\")\n",
    "    print(data.pose.pose.position)\n",
    "    print(data.pose.pose.orientation)"
   ]
  },
  {
   "cell_type": "code",
   "execution_count": 11,
   "id": "3ff26f1b",
   "metadata": {},
   "outputs": [
    {
     "data": {
      "text/plain": [
       "<rclpy.subscription.Subscription at 0x7fe35f545c30>"
      ]
     },
     "execution_count": 11,
     "metadata": {},
     "output_type": "execute_result"
    }
   ],
   "source": [
    "pose_node.create_subscription(PoseWithCovarianceStamped, '/amcl_pose', callback, 10)"
   ]
  },
  {
   "cell_type": "code",
   "execution_count": 12,
   "id": "ea660149",
   "metadata": {},
   "outputs": [
    {
     "name": "stdout",
     "output_type": "stream",
     "text": [
      "===\n",
      "geometry_msgs.msg.Point(x=1.6656818861134817, y=0.4553336545330968, z=0.0)\n",
      "geometry_msgs.msg.Quaternion(x=0.0, y=0.0, z=-0.044843918821477556, w=0.998994005459859)\n"
     ]
    }
   ],
   "source": [
    "rclpy.spin_once(pose_node)"
   ]
  },
  {
   "cell_type": "code",
   "execution_count": 13,
   "id": "04f164e9",
   "metadata": {},
   "outputs": [],
   "source": [
    "from tf_transformations import euler_from_quaternion"
   ]
  },
  {
   "cell_type": "code",
   "execution_count": 14,
   "id": "9ed0762f",
   "metadata": {},
   "outputs": [
    {
     "data": {
      "text/plain": [
       "geometry_msgs.msg.PoseWithCovarianceStamped(header=std_msgs.msg.Header(stamp=builtin_interfaces.msg.Time(sec=0, nanosec=0), frame_id=''), pose=geometry_msgs.msg.PoseWithCovariance(pose=geometry_msgs.msg.Pose(position=geometry_msgs.msg.Point(x=0.0, y=0.0, z=0.0), orientation=geometry_msgs.msg.Quaternion(x=0.0, y=0.0, z=0.0, w=1.0)), covariance=array([0., 0., 0., 0., 0., 0., 0., 0., 0., 0., 0., 0., 0., 0., 0., 0., 0.,\n",
       "       0., 0., 0., 0., 0., 0., 0., 0., 0., 0., 0., 0., 0., 0., 0., 0., 0.,\n",
       "       0., 0.])))"
      ]
     },
     "execution_count": 14,
     "metadata": {},
     "output_type": "execute_result"
    }
   ],
   "source": [
    "pose_current"
   ]
  },
  {
   "cell_type": "code",
   "execution_count": 15,
   "id": "3d88120e",
   "metadata": {},
   "outputs": [
    {
     "data": {
      "text/plain": [
       "geometry_msgs.msg.Quaternion(x=0.0, y=0.0, z=0.0, w=1.0)"
      ]
     },
     "execution_count": 15,
     "metadata": {},
     "output_type": "execute_result"
    }
   ],
   "source": [
    "pose_current.pose.pose.orientation"
   ]
  },
  {
   "cell_type": "code",
   "execution_count": 16,
   "id": "1532eebe",
   "metadata": {},
   "outputs": [
    {
     "data": {
      "text/plain": [
       "(0.0, -0.0, 0.0)"
      ]
     },
     "execution_count": 16,
     "metadata": {},
     "output_type": "execute_result"
    }
   ],
   "source": [
    "q = [0, 0, 0, 0]\n",
    "q[0] = pose_current.pose.pose.orientation.x\n",
    "q[1] = pose_current.pose.pose.orientation.y\n",
    "q[2] = pose_current.pose.pose.orientation.z\n",
    "q[3] = pose_current.pose.pose.orientation.w\n",
    "\n",
    "euler_from_quaternion(q)"
   ]
  },
  {
   "cell_type": "code",
   "execution_count": 17,
   "id": "b7b37001",
   "metadata": {},
   "outputs": [
    {
     "data": {
      "text/plain": [
       "array([ 0., -0.,  0.])"
      ]
     },
     "execution_count": 17,
     "metadata": {},
     "output_type": "execute_result"
    }
   ],
   "source": [
    "import numpy as np\n",
    "\n",
    "def convert_degree(input):\n",
    "    return np.array(input) * 180. / np.pi\n",
    "\n",
    "convert_degree(euler_from_quaternion(q))"
   ]
  },
  {
   "cell_type": "code",
   "execution_count": 18,
   "id": "2cc55c38",
   "metadata": {},
   "outputs": [
    {
     "name": "stdout",
     "output_type": "stream",
     "text": [
      "[0. 0. 0.]\n"
     ]
    },
    {
     "data": {
      "text/plain": [
       "(0.0, 0.0, 0.0, 1.0)"
      ]
     },
     "execution_count": 18,
     "metadata": {},
     "output_type": "execute_result"
    }
   ],
   "source": [
    "from tf_transformations import quaternion_from_euler\n",
    "\n",
    "to_radian = np.pi / 180.\n",
    "tmp = [0, 0, 0]\n",
    "print(np.array(tmp)*to_radian)\n",
    "\n",
    "quaternion_from_euler(tmp[0], tmp[1], tmp[2])"
   ]
  },
  {
   "cell_type": "code",
   "execution_count": 19,
   "id": "5c0dad88",
   "metadata": {},
   "outputs": [],
   "source": [
    "from nav2_simple_commander.robot_navigator import BasicNavigator\n",
    "from geometry_msgs.msg import PoseStamped\n",
    "nav = BasicNavigator()\n",
    "\n",
    "target = quaternion_from_euler(tmp[0], tmp[1], tmp[2])\n",
    "goal_pose = PoseStamped()\n",
    "\n",
    "goal_pose.header.frame_id = 'map'\n",
    "goal_pose.header.stamp = nav.get_clock().now().to_msg()\n",
    "goal_pose.pose.orientation.x = target[0]\n",
    "goal_pose.pose.orientation.y = target[1]\n",
    "goal_pose.pose.orientation.z = target[2]\n",
    "goal_pose.pose.orientation.w = target[3]"
   ]
  },
  {
   "cell_type": "code",
   "execution_count": 20,
   "id": "b2f73610",
   "metadata": {},
   "outputs": [
    {
     "name": "stderr",
     "output_type": "stream",
     "text": [
      "[INFO] [1719217027.810348756] [basic_navigator]: Navigating to goal: 0.0 0.0...\n"
     ]
    },
    {
     "name": "stdout",
     "output_type": "stream",
     "text": [
      "Distance remaining: 2.02 meters.\n",
      "Distance remaining: 2.02 meters.\n",
      "Distance remaining: 2.02 meters.\n",
      "Distance remaining: 2.02 meters.\n",
      "Distance remaining: 1.95 meters.\n",
      "Distance remaining: 1.90 meters.\n",
      "Distance remaining: 1.75 meters.\n",
      "Distance remaining: 1.65 meters.\n",
      "Distance remaining: 1.50 meters.\n",
      "Distance remaining: 1.40 meters.\n",
      "Distance remaining: 1.30 meters.\n",
      "Distance remaining: 1.15 meters.\n",
      "Distance remaining: 1.05 meters.\n",
      "Distance remaining: 0.90 meters.\n",
      "Distance remaining: 0.80 meters.\n",
      "Distance remaining: 0.65 meters.\n",
      "Distance remaining: 0.55 meters.\n",
      "Distance remaining: 0.40 meters.\n",
      "Distance remaining: 0.30 meters.\n",
      "Distance remaining: 0.20 meters.\n",
      "Distance remaining: 0.20 meters.\n"
     ]
    },
    {
     "name": "stderr",
     "output_type": "stream",
     "text": [
      "[INFO] [1719217038.380071491] [basic_navigator]: Canceling current task.\n"
     ]
    }
   ],
   "source": [
    "from rclpy.duration import Duration\n",
    "\n",
    "nav.goToPose(goal_pose)\n",
    "\n",
    "i = 0\n",
    "while not nav.isTaskComplete():\n",
    "    i = i + 1\n",
    "    feedback = nav.getFeedback()\n",
    "    if feedback and i % 5 == 0:\n",
    "        print('Distance remaining: ' + '{:.2f}'.format(\n",
    "            feedback.distance_remaining) + ' meters.')\n",
    "        \n",
    "        if Duration.from_msg(feedback.navigation_time) > Duration(seconds=10.0):\n",
    "            nav.cancelTask()"
   ]
  }
 ],
 "metadata": {
  "kernelspec": {
   "display_name": "Python 3 (ipykernel)",
   "language": "python",
   "name": "python3"
  },
  "language_info": {
   "codemirror_mode": {
    "name": "ipython",
    "version": 3
   },
   "file_extension": ".py",
   "mimetype": "text/x-python",
   "name": "python",
   "nbconvert_exporter": "python",
   "pygments_lexer": "ipython3",
   "version": "3.10.12"
  }
 },
 "nbformat": 4,
 "nbformat_minor": 5
}
