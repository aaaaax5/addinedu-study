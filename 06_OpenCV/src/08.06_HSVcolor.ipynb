{
 "cells": [
  {
   "cell_type": "code",
   "execution_count": 5,
   "metadata": {},
   "outputs": [],
   "source": [
    "import cv2\n",
    "import numpy as np\n",
    "img = cv2.imread(\"../data/candies.png\")\n",
    "hsv_img = cv2.cvtColor(img, cv2.COLOR_BGR2HSV)\n",
    "def nothing(x):\n",
    "    pass\n",
    "cv2.namedWindow(\"HSV_Image\")\n",
    "cv2.createTrackbar('Low Hue Min', 'HSV_Image', 0, 179, nothing)\n",
    "cv2.createTrackbar('Low Hue Max', 'HSV_Image', 0, 179, nothing)\n",
    "cv2.createTrackbar('High Hue Min', 'HSV_Image', 0, 179, nothing)\n",
    "cv2.createTrackbar('High Hue Max', 'HSV_Image', 0, 179, nothing)\n",
    "cv2.createTrackbar('Sat Min', 'HSV_Image', 0, 255, nothing)\n",
    "cv2.createTrackbar('Sat Max', 'HSV_Image', 0, 255, nothing)\n",
    "cv2.createTrackbar('Val Min', 'HSV_Image', 0, 255, nothing)\n",
    "cv2.createTrackbar('Val Max', 'HSV_Image', 0, 255, nothing)\n",
    "while True:\n",
    "    low_h_min = cv2.getTrackbarPos('Low Hue Min', 'HSV_Image')\n",
    "    low_h_max = cv2.getTrackbarPos('Low Hue Max', 'HSV_Image')\n",
    "    high_h_min = cv2.getTrackbarPos('High Hue Min', 'HSV_Image')\n",
    "    high_h_max = cv2.getTrackbarPos('High Hue Max', 'HSV_Image')\n",
    "    s_min = cv2.getTrackbarPos('Sat Min', 'HSV_Image')\n",
    "    s_max = cv2.getTrackbarPos('Sat Max', 'HSV_Image')\n",
    "    v_min = cv2.getTrackbarPos('Val Min', 'HSV_Image')\n",
    "    v_max = cv2.getTrackbarPos('Val Max', 'HSV_Image')\n",
    "    lower_color1 = np.array([low_h_min, s_min, v_min])\n",
    "    upper_color1 = np.array([low_h_max, s_max, v_max])\n",
    "    lower_color2 = np.array([high_h_min, s_min, v_min])\n",
    "    upper_color2 = np.array([high_h_max, s_max, v_max])\n",
    "    mask1 = cv2.inRange(hsv_img, lower_color1, upper_color1)\n",
    "    mask2 = cv2.inRange(hsv_img, lower_color2, upper_color2)\n",
    "    mask = cv2.bitwise_or(mask1, mask2)\n",
    "    result = cv2.bitwise_and(img, img, mask=mask)\n",
    "    cv2.imshow(\"img\", img)\n",
    "    cv2.imshow(\"mask1\", mask1)\n",
    "    cv2.imshow(\"mask2\", mask2)\n",
    "    cv2.imshow(\"mask\", mask)\n",
    "    cv2.imshow('result', result)\n",
    "    key = cv2.waitKey(1)\n",
    "    if key == 27:\n",
    "        break\n",
    "cv2.destroyAllWindows()"
   ]
  }
 ],
 "metadata": {
  "kernelspec": {
   "display_name": "OpenCV_venv",
   "language": "python",
   "name": "python3"
  },
  "language_info": {
   "codemirror_mode": {
    "name": "ipython",
    "version": 3
   },
   "file_extension": ".py",
   "mimetype": "text/x-python",
   "name": "python",
   "nbconvert_exporter": "python",
   "pygments_lexer": "ipython3",
   "version": "3.10.12"
  }
 },
 "nbformat": 4,
 "nbformat_minor": 2
}
