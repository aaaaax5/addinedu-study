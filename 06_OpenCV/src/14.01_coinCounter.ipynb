{
 "cells": [
  {
   "cell_type": "code",
   "execution_count": 1,
   "metadata": {},
   "outputs": [],
   "source": [
    "import sys\n",
    "import numpy as np\n",
    "import cv2"
   ]
  },
  {
   "cell_type": "code",
   "execution_count": 2,
   "metadata": {},
   "outputs": [],
   "source": [
    "coin = cv2.imread('../data/coins1.jpg')\n",
    "\n",
    "if coin is None:\n",
    "    print('Image open failed!')\n",
    "    sys.exit()"
   ]
  },
  {
   "cell_type": "code",
   "execution_count": 3,
   "metadata": {},
   "outputs": [],
   "source": [
    "gray = cv2.cvtColor(coin, cv2.COLOR_BGR2GRAY)\n",
    "blr = cv2.GaussianBlur(gray, (0,0), 1)\n",
    "\n",
    "circles = cv2.HoughCircles(blr, cv2.HOUGH_GRADIENT, 1, 50,\n",
    "                           param1=150, param2=40, minRadius=20, maxRadius=80)\n",
    "\n",
    "sum_of_money = 0\n",
    "dst = coin.copy()"
   ]
  },
  {
   "cell_type": "code",
   "execution_count": 4,
   "metadata": {},
   "outputs": [],
   "source": [
    "if circles is not None:\n",
    "    for i in range(circles.shape[1]):\n",
    "        cx, cy, radius = circles[0][i]\n",
    "        cv2.circle(dst, (int(cx), int(cy)), int(radius), (0,0,255), 2, cv2.LINE_AA)\n",
    "\n",
    "        x1 = int(cx - radius)\n",
    "        y1 = int(cy - radius)\n",
    "        x2 = int(cx + radius)\n",
    "        y2 = int(cy + radius)\n",
    "        radius = int(radius)\n",
    "\n",
    "        crop = dst[y1:y2, x1:x2, :]\n",
    "        ch, cw = crop.shape[:2]\n",
    "\n",
    "        mask = np.zeros((ch, cw), np.uint8)\n",
    "        cv2.circle(mask, (cw//2, ch//2), radius, 255, -1)\n",
    "\n",
    "        hsv = cv2.cvtColor(crop, cv2.COLOR_BGR2HSV)\n",
    "        hue, _, _ = cv2.split(hsv)\n",
    "        hue_shift = (hue + 40) % 180\n",
    "        mean_of_hue = cv2.mean(hue_shift, mask)[0]\n",
    "\n",
    "        won = 100\n",
    "        if mean_of_hue < 53:\n",
    "            won = 10\n",
    "\n",
    "        sum_of_money += won\n",
    "\n",
    "        cv2.putText(crop, str(won), (20,50), cv2.FONT_HERSHEY_SIMPLEX, 0.75, (255, 0, 0), 2, cv2.LINE_AA)\n",
    "        #cv2.putText(crop, str(mean_of_hue), (20,50), cv2.FONT_HERSHEY_SIMPLEX, 0.75, (255, 0, 0), 2, cv2.LINE_AA)"
   ]
  },
  {
   "cell_type": "code",
   "execution_count": 5,
   "metadata": {},
   "outputs": [
    {
     "name": "stderr",
     "output_type": "stream",
     "text": [
      "qt.qpa.plugin: Could not find the Qt platform plugin \"wayland\" in \"/home/j-hyungjun/venv/OpenCV_venv/lib/python3.10/site-packages/cv2/qt/plugins\"\n"
     ]
    }
   ],
   "source": [
    "cv2.putText(dst, f'{sum_of_money} won', (40, 80), cv2.FONT_HERSHEY_DUPLEX,\n",
    "            2, (255, 0, 0), 2, cv2.LINE_AA)\n",
    "cv2.imshow('src', coin)\n",
    "cv2.imshow('dst', dst)\n",
    "cv2.waitKey()\n",
    "cv2.destroyAllWindows()"
   ]
  },
  {
   "cell_type": "code",
   "execution_count": null,
   "metadata": {},
   "outputs": [],
   "source": []
  }
 ],
 "metadata": {
  "kernelspec": {
   "display_name": "OpenCV_venv",
   "language": "python",
   "name": "python3"
  },
  "language_info": {
   "codemirror_mode": {
    "name": "ipython",
    "version": 3
   },
   "file_extension": ".py",
   "mimetype": "text/x-python",
   "name": "python",
   "nbconvert_exporter": "python",
   "pygments_lexer": "ipython3",
   "version": "3.10.12"
  }
 },
 "nbformat": 4,
 "nbformat_minor": 2
}
