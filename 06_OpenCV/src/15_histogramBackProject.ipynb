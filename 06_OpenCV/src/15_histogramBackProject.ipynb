{
 "cells": [
  {
   "cell_type": "code",
   "execution_count": 1,
   "metadata": {},
   "outputs": [],
   "source": [
    "import sys\n",
    "import numpy as np\n",
    "import cv2"
   ]
  },
  {
   "cell_type": "code",
   "execution_count": 2,
   "metadata": {},
   "outputs": [],
   "source": [
    "src = cv2.imread('../data/test1.jpg')\n",
    "\n",
    "if src is None:\n",
    "    print('Image load failed!')\n",
    "    sys.exit()"
   ]
  },
  {
   "cell_type": "code",
   "execution_count": 6,
   "metadata": {},
   "outputs": [
    {
     "name": "stdout",
     "output_type": "stream",
     "text": [
      "Select a ROI and then press SPACE or ENTER button!\n",
      "Cancel the selection process by pressing c button!\n"
     ]
    }
   ],
   "source": [
    "x, y, w, h = cv2.selectROI(src)\n",
    "\n",
    "src_ycrcb = cv2.cvtColor(src, cv2.COLOR_BGR2YCrCb)\n",
    "crop = src_ycrcb[y:y+h, x:x+w]\n",
    "\n",
    "channels = [1,2]\n",
    "cr_bins = 128\n",
    "cb_bins = 128\n",
    "histSize = [cr_bins, cb_bins]\n",
    "cr_range = [0,256]\n",
    "cb_range = [0,256]\n",
    "ranges = cr_range + cb_range\n",
    "\n",
    "hist = cv2.calcHist([crop], channels, None, histSize, ranges)\n",
    "hist_norm = cv2.normalize(cv2.log(hist+1), None, 0,255, cv2.NORM_MINMAX, cv2.CV_8U)\n",
    "\n",
    "backproj = cv2.calcBackProject([src_ycrcb], channels, hist, ranges, 1)\n",
    "dst = cv2.copyTo(src, backproj)\n",
    "\n",
    "cv2.imshow('backproj', backproj)\n",
    "cv2.imshow('hist_norm', hist_norm)\n",
    "cv2.imshow('dst', dst)\n",
    "cv2.imwrite('../data/test1_mask.jpg', dst)\n",
    "cv2.waitKey()\n",
    "cv2.destroyAllWindows()"
   ]
  },
  {
   "cell_type": "markdown",
   "metadata": {},
   "source": []
  },
  {
   "cell_type": "code",
   "execution_count": 8,
   "metadata": {},
   "outputs": [],
   "source": [
    "ref = cv2.imread('../data/test1.jpg', cv2.IMREAD_COLOR)\n",
    "mask = cv2.imread('../data/test1_mask.jpg', cv2.IMREAD_GRAYSCALE)\n",
    "\n",
    "if ref is None or mask is None:\n",
    "    print('Image load failed!')\n",
    "    sys.exit()"
   ]
  },
  {
   "cell_type": "code",
   "execution_count": 9,
   "metadata": {},
   "outputs": [],
   "source": [
    "ref_ycrcb = cv2.cvtColor(ref, cv2.COLOR_BGR2YCrCb)\n",
    "\n",
    "channels = [1,2]\n",
    "ranges = [0,256, 0,256]\n",
    "hist = cv2.calcHist([ref_ycrcb], channels, mask, [128,128], ranges)\n",
    "hist_norm = cv2.normalize(cv2.log(hist+1), None, 0,255,\n",
    "                          cv2.NORM_MINMAX, cv2.CV_8U)"
   ]
  },
  {
   "cell_type": "code",
   "execution_count": 10,
   "metadata": {},
   "outputs": [],
   "source": [
    "src = cv2.imread('../data/test2.jpg', cv2.IMREAD_COLOR)\n",
    "\n",
    "if src is None:\n",
    "    print('Image load failed!')\n",
    "    sys.exit()"
   ]
  },
  {
   "cell_type": "code",
   "execution_count": 11,
   "metadata": {},
   "outputs": [],
   "source": [
    "src_ycrcb = cv2.cvtColor(src, cv2.COLOR_BGR2YCrCb)\n",
    "\n",
    "backproj = cv2.calcBackProject([src_ycrcb], channels, hist, ranges, 1)"
   ]
  },
  {
   "cell_type": "code",
   "execution_count": 12,
   "metadata": {},
   "outputs": [],
   "source": [
    "cv2.imshow('src', src)\n",
    "cv2.imshow('hist_norm', hist_norm)\n",
    "cv2.imshow('backproj', backproj)\n",
    "cv2.waitKey()\n",
    "cv2.destroyAllWindows()"
   ]
  }
 ],
 "metadata": {
  "kernelspec": {
   "display_name": "OpenCV_venv",
   "language": "python",
   "name": "python3"
  },
  "language_info": {
   "codemirror_mode": {
    "name": "ipython",
    "version": 3
   },
   "file_extension": ".py",
   "mimetype": "text/x-python",
   "name": "python",
   "nbconvert_exporter": "python",
   "pygments_lexer": "ipython3",
   "version": "3.10.12"
  }
 },
 "nbformat": 4,
 "nbformat_minor": 2
}
